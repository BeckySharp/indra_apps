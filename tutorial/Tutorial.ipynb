{
 "cells": [
  {
   "cell_type": "markdown",
   "metadata": {
    "slideshow": {
     "slide_type": "slide"
    }
   },
   "source": [
    "<img src=https://raw.githubusercontent.com/sorgerlab/indra/master/doc/indra_logo.png width=\"500\">\n",
    "\n",
    "# Tutorial\n",
    "### Benjamin M. Gyori and John A Bachman, Laboratory of Systems Pharmacology, Harvard Medical School"
   ]
  },
  {
   "cell_type": "markdown",
   "metadata": {
    "slideshow": {
     "slide_type": "slide"
    }
   },
   "source": [
    "## INDRA's conceptual architecture\n",
    "<img src=https://raw.githubusercontent.com/sorgerlab/indra_apps/master/tutorial/static/indra_conceptual.png>"
   ]
  },
  {
   "cell_type": "markdown",
   "metadata": {
    "slideshow": {
     "slide_type": "slide"
    }
   },
   "source": [
    "## INDRA is a Python package\n",
    "- Website: http://indra.bio\n",
    "- Source code, development, issues, contributions: https://github.com/sorgerlab/indra\n",
    "- Documentation: http://indra.readthedocs.org"
   ]
  },
  {
   "cell_type": "code",
   "execution_count": 1,
   "metadata": {
    "slideshow": {
     "slide_type": "subslide"
    }
   },
   "outputs": [],
   "source": [
    "from util import *\n",
    "import indra.sources, indra.assemblers"
   ]
  },
  {
   "cell_type": "markdown",
   "metadata": {
    "slideshow": {
     "slide_type": "slide"
    }
   },
   "source": [
    "### INDRA knowledge input APIs / processors\n",
    "- Natural language processing systems (molecular biology / general)\n",
    "- Databases of molecular interactions"
   ]
  },
  {
   "cell_type": "code",
   "execution_count": 2,
   "metadata": {
    "slideshow": {
     "slide_type": "subslide"
    }
   },
   "outputs": [
    {
     "name": "stdout",
     "output_type": "stream",
     "text": [
      "bel\n",
      "biogrid\n",
      "biopax\n",
      "cwms\n",
      "eidos\n",
      "geneways\n",
      "hume\n",
      "imex\n",
      "index_cards\n",
      "indra_db_rest\n",
      "isi\n",
      "lincs_drug\n",
      "medscan\n",
      "ndex_cx\n",
      "reach\n",
      "signor\n",
      "sofia\n",
      "sparser\n",
      "tas\n",
      "tees\n",
      "trips\n"
     ]
    }
   ],
   "source": [
    "list_submodules(indra.sources)"
   ]
  },
  {
   "cell_type": "markdown",
   "metadata": {
    "slideshow": {
     "slide_type": "slide"
    }
   },
   "source": [
    "### INDRA output assemblers\n",
    "- Rule-based dynamical models\n",
    "- Causal network models\n",
    "- Graphic formats for visualization\n",
    "- English language"
   ]
  },
  {
   "cell_type": "code",
   "execution_count": 3,
   "metadata": {
    "scrolled": true,
    "slideshow": {
     "slide_type": "subslide"
    }
   },
   "outputs": [
    {
     "name": "stdout",
     "output_type": "stream",
     "text": [
      "cag\n",
      "cx\n",
      "cyjs\n",
      "english\n",
      "figaro\n",
      "graph\n",
      "index_card\n",
      "kami\n",
      "pybel\n",
      "pysb\n",
      "sbgn\n",
      "sif\n",
      "tsv\n"
     ]
    }
   ],
   "source": [
    "list_submodules(indra.assemblers)"
   ]
  },
  {
   "cell_type": "markdown",
   "metadata": {},
   "source": [
    "### INDRA's core: Statements and knowledge-level assembly\n",
    "<img src=https://raw.githubusercontent.com/sorgerlab/indra_apps/master/tutorial/static/indra_stmts.png>"
   ]
  },
  {
   "cell_type": "markdown",
   "metadata": {
    "slideshow": {
     "slide_type": "slide"
    }
   },
   "source": [
    "# Natural language modeling, rapid prototyping"
   ]
  },
  {
   "cell_type": "markdown",
   "metadata": {
    "slideshow": {
     "slide_type": "subslide"
    }
   },
   "source": [
    "<img src=http://msb.embopress.org/sites/default/files/highwire/msb/13/11.cover-source.jpg width=\"500\">\n",
    "\n",
    "Cover by EMBO Press (Artistic rendition by Uta Mackensen), see http://msb.embopress.org/content/13/11/954"
   ]
  },
  {
   "cell_type": "markdown",
   "metadata": {
    "slideshow": {
     "slide_type": "slide"
    }
   },
   "source": [
    "## Import reading system API"
   ]
  },
  {
   "cell_type": "code",
   "execution_count": 4,
   "metadata": {
    "slideshow": {
     "slide_type": "subslide"
    }
   },
   "outputs": [],
   "source": [
    "from indra.sources import trips"
   ]
  },
  {
   "cell_type": "markdown",
   "metadata": {
    "slideshow": {
     "slide_type": "slide"
    }
   },
   "source": [
    "### Write a paragraph of text describing your hypothesis"
   ]
  },
  {
   "cell_type": "markdown",
   "metadata": {
    "slideshow": {
     "slide_type": "subslide"
    }
   },
   "source": [
    "<img src=https://upload.wikimedia.org/wikipedia/commons/thumb/6/6e/Jakstat_pathway.svg/400px-Jakstat_pathway.svg.png width=\"500\">\n",
    "Source: Wikimedia Commons"
   ]
  },
  {
   "cell_type": "code",
   "execution_count": 5,
   "metadata": {
    "slideshow": {
     "slide_type": "subslide"
    }
   },
   "outputs": [],
   "source": [
    "txt = \"\"\"\n",
    "EPO activates JAK1, and active JAK1 phosphorylates STAT3. \n",
    "Phosphorylated STAT3 translocates to the nucleus. \n",
    "STAT3 in the nucleus is active. Active STAT3 transcribes JAK1.\n",
    "PTP1B dephosphorylates STAT3. \n",
    "Unphosphorylated STAT3 translocates from the nucleus to the cytoplasm.\n",
    "\"\"\""
   ]
  },
  {
   "cell_type": "markdown",
   "metadata": {
    "slideshow": {
     "slide_type": "slide"
    }
   },
   "source": [
    "### Read the text with the reading system and process result into INDRA Statements"
   ]
  },
  {
   "cell_type": "code",
   "execution_count": 6,
   "metadata": {
    "slideshow": {
     "slide_type": "subslide"
    }
   },
   "outputs": [],
   "source": [
    "tp = trips.process_text(txt, save_xml_name='model_reading.xml')"
   ]
  },
  {
   "cell_type": "markdown",
   "metadata": {},
   "source": [
    "Example of the logical form from TRIPS/DRUM (see http://trips.ihmc.us/parser/cgi/drum) for one of the sentences\n",
    "<img src=https://raw.githubusercontent.com/sorgerlab/indra_apps/master/tutorial/static/trips_lf.png>"
   ]
  },
  {
   "cell_type": "markdown",
   "metadata": {
    "slideshow": {
     "slide_type": "subslide"
    }
   },
   "source": [
    "### Inspect the INDRA Statements that were extracted"
   ]
  },
  {
   "cell_type": "code",
   "execution_count": 7,
   "metadata": {
    "scrolled": true,
    "slideshow": {
     "slide_type": "subslide"
    }
   },
   "outputs": [
    {
     "data": {
      "text/plain": [
       "[Phosphorylation(JAK1(activity), STAT3()),\n",
       " Dephosphorylation(PTPN1(), STAT3()),\n",
       " ActiveForm(STAT3(location: nucleus), activity, True),\n",
       " Activation(EPO(), JAK1()),\n",
       " Translocation(STAT3(mods: (phosphorylation)), None, nucleus),\n",
       " Translocation(STAT3(mods: (phosphorylation, False)), nucleus, cytoplasm),\n",
       " IncreaseAmount(STAT3(activity), JAK1())]"
      ]
     },
     "execution_count": 7,
     "metadata": {},
     "output_type": "execute_result"
    }
   ],
   "source": [
    "tp.statements"
   ]
  },
  {
   "cell_type": "code",
   "execution_count": 8,
   "metadata": {
    "slideshow": {
     "slide_type": "slide"
    }
   },
   "outputs": [
    {
     "name": "stdout",
     "output_type": "stream",
     "text": [
      "{\n",
      " \"type\": \"Dephosphorylation\",\n",
      " \"enz\": {\n",
      "  \"name\": \"PTPN1\",\n",
      "  \"db_refs\": {\n",
      "   \"TEXT\": \"PTP1B\",\n",
      "   \"NCIT\": \"C49522\",\n",
      "   \"HGNC\": \"9642\",\n",
      "   \"UP\": \"P18031\"\n",
      "  }\n",
      " },\n",
      " \"sub\": {\n",
      "  \"name\": \"STAT3\",\n",
      "  \"db_refs\": {\n",
      "   \"TEXT\": \"STAT3\",\n",
      "   \"HGNC\": \"11364\",\n",
      "   \"UP\": \"P40763\",\n",
      "   \"NCIT\": \"C28664\"\n",
      "  }\n",
      " },\n",
      " \"belief\": 1,\n",
      " \"evidence\": [\n",
      "  {\n",
      "   \"source_api\": \"trips\",\n",
      "   \"text\": \"PTP1B dephosphorylates STAT3.\"\n",
      "  }\n",
      " ],\n",
      " \"id\": \"5b005581-190c-4853-8a01-1cb5b237572c\"\n",
      "}\n"
     ]
    }
   ],
   "source": [
    "print(json.dumps(tp.statements[1].to_json(), indent=1))"
   ]
  },
  {
   "cell_type": "markdown",
   "metadata": {
    "slideshow": {
     "slide_type": "slide"
    }
   },
   "source": [
    "### Build a rule-based mechanistic model of this knowledge\n",
    "<img src=https://raw.githubusercontent.com/sorgerlab/indra_apps/master/tutorial/static/assembly_policies.png>"
   ]
  },
  {
   "cell_type": "code",
   "execution_count": 9,
   "metadata": {
    "slideshow": {
     "slide_type": "subslide"
    }
   },
   "outputs": [],
   "source": [
    "from indra.assemblers.pysb import PysbAssembler"
   ]
  },
  {
   "cell_type": "code",
   "execution_count": 10,
   "metadata": {
    "scrolled": true,
    "slideshow": {
     "slide_type": "subslide"
    }
   },
   "outputs": [
    {
     "name": "stderr",
     "output_type": "stream",
     "text": [
      "INFO: [2018-10-19 19:42:18] indra/pysb_assembler - Monomers set to given context\n",
      "INFO: [2018-10-19 19:42:18] indra/pysb_assembler - -----------------------------\n",
      "INFO: [2018-10-19 19:42:18] indra/pysb_assembler - JAK1\n",
      "INFO: [2018-10-19 19:42:18] indra/pysb_assembler - STAT3\n",
      "INFO: [2018-10-19 19:42:18] indra/pysb_assembler - PTPN1\n",
      "INFO: [2018-10-19 19:42:18] indra/pysb_assembler - EPO\n"
     ]
    }
   ],
   "source": [
    "pa = PysbAssembler()\n",
    "pa.add_statements(tp.statements)\n",
    "model = pa.make_model(policies='one_step')\n",
    "pa.set_context('BT20_BREAST')"
   ]
  },
  {
   "cell_type": "markdown",
   "metadata": {},
   "source": [
    "### Interactively look at the components of the model"
   ]
  },
  {
   "cell_type": "code",
   "execution_count": 11,
   "metadata": {
    "scrolled": true,
    "slideshow": {
     "slide_type": "slide"
    }
   },
   "outputs": [
    {
     "data": {
      "text/plain": [
       "ComponentSet([\n",
       " Monomer('JAK1', ['activity'], {'activity': ['inactive', 'active']}),\n",
       " Monomer('STAT3', ['phospho', 'loc'], {'phospho': ['u', 'p'], 'loc': ['nucleus', 'cytoplasm']}),\n",
       " Monomer('PTPN1'),\n",
       " Monomer('EPO'),\n",
       " ])"
      ]
     },
     "execution_count": 11,
     "metadata": {},
     "output_type": "execute_result"
    }
   ],
   "source": [
    "model.monomers"
   ]
  },
  {
   "cell_type": "code",
   "execution_count": 12,
   "metadata": {
    "scrolled": true,
    "slideshow": {
     "slide_type": "subslide"
    }
   },
   "outputs": [
    {
     "data": {
      "text/plain": [
       "ComponentSet([\n",
       " Rule('JAK1_act_phosphorylation_STAT3_phospho', JAK1(activity='active') + STAT3(phospho='u') >> JAK1(activity='active') + STAT3(phospho='p'), kf_js_phosphorylation_1),\n",
       " Rule('PTPN1_dephosphorylation_STAT3_phospho', PTPN1() + STAT3(phospho='p') >> PTPN1() + STAT3(phospho='u'), kf_ps_dephosphorylation_1),\n",
       " Rule('EPO_activates_JAK1_activity', EPO() + JAK1(activity='inactive') >> EPO() + JAK1(activity='active'), kf_ej_act_1),\n",
       " Rule('STAT3_phospho_translocates_cytoplasm_to_nucleus', STAT3(phospho=('p', WILD), loc='cytoplasm') >> STAT3(phospho=('p', WILD), loc='nucleus'), kf_stat3_cytoplasm_nucleus_1),\n",
       " Rule('STAT3_phospho_translocates_nucleus_to_cytoplasm', STAT3(phospho=('u', WILD), loc='nucleus') >> STAT3(phospho=('u', WILD), loc='cytoplasm'), kf_stat3_nucleus_cytoplasm_1),\n",
       " Rule('STAT3_nucleus_produces_JAK1', STAT3(loc='nucleus') + None >> STAT3(loc='nucleus') + JAK1(activity='inactive'), kf_sj_synth_1),\n",
       " ])"
      ]
     },
     "execution_count": 12,
     "metadata": {},
     "output_type": "execute_result"
    }
   ],
   "source": [
    "model.rules"
   ]
  },
  {
   "cell_type": "code",
   "execution_count": 13,
   "metadata": {
    "slideshow": {
     "slide_type": "subslide"
    }
   },
   "outputs": [
    {
     "data": {
      "text/plain": [
       "ComponentSet([\n",
       " Parameter('kf_js_phosphorylation_1', 1e-06),\n",
       " Parameter('kf_ps_dephosphorylation_1', 1e-06),\n",
       " Parameter('kf_ej_act_1', 1e-06),\n",
       " Parameter('kf_stat3_cytoplasm_nucleus_1', 1.0),\n",
       " Parameter('kf_stat3_nucleus_cytoplasm_1', 1.0),\n",
       " Parameter('kf_sj_synth_1', 0.0002),\n",
       " Parameter('JAK1_0', 272265.0),\n",
       " Parameter('STAT3_0', 349687.0),\n",
       " Parameter('PTPN1_0', 291047.0),\n",
       " Parameter('EPO_0', 12893.0),\n",
       " ])"
      ]
     },
     "execution_count": 13,
     "metadata": {},
     "output_type": "execute_result"
    }
   ],
   "source": [
    "model.parameters"
   ]
  },
  {
   "cell_type": "code",
   "execution_count": 14,
   "metadata": {
    "scrolled": true
   },
   "outputs": [
    {
     "data": {
      "text/plain": [
       "[(JAK1(activity='inactive'), Parameter('JAK1_0', 272265.0)),\n",
       " (STAT3(phospho='u', loc='cytoplasm'), Parameter('STAT3_0', 349687.0)),\n",
       " (PTPN1(), Parameter('PTPN1_0', 291047.0)),\n",
       " (EPO(), Parameter('EPO_0', 12893.0))]"
      ]
     },
     "execution_count": 14,
     "metadata": {},
     "output_type": "execute_result"
    }
   ],
   "source": [
    "model.initial_conditions"
   ]
  },
  {
   "cell_type": "markdown",
   "metadata": {},
   "source": [
    "### Inspect static influence structure of the model"
   ]
  },
  {
   "cell_type": "code",
   "execution_count": 15,
   "metadata": {},
   "outputs": [
    {
     "data": {
      "text/html": [
       "\n",
       "        <iframe\n",
       "            width=\"800\"\n",
       "            height=\"600\"\n",
       "            src=\"model_im.png\"\n",
       "            frameborder=\"0\"\n",
       "            allowfullscreen\n",
       "        ></iframe>\n",
       "        "
      ],
      "text/plain": [
       "<IPython.lib.display.IFrame at 0x133099898>"
      ]
     },
     "execution_count": 15,
     "metadata": {},
     "output_type": "execute_result"
    }
   ],
   "source": [
    "im_path = draw_influence_map(model)\n",
    "IFrame('model_im.png', width=800, height=600)"
   ]
  },
  {
   "cell_type": "markdown",
   "metadata": {},
   "source": [
    "### Simulate dynamical model (deterministic ODEs or stochastic agent based)"
   ]
  },
  {
   "cell_type": "code",
   "execution_count": 16,
   "metadata": {
    "scrolled": false,
    "slideshow": {
     "slide_type": "slide"
    }
   },
   "outputs": [
    {
     "data": {
      "image/png": "[encoded data removed]",
      "text/plain": [
       "<Figure size 1008x432 with 1 Axes>"
      ]
     },
     "metadata": {},
     "output_type": "display_data"
    }
   ],
   "source": [
    "def sim_model(model):\n",
    "    from pysb.simulator import ScipyOdeSimulator\n",
    "    import numpy\n",
    "    ts = numpy.linspace(0, 1800, 1000)\n",
    "    sim = ScipyOdeSimulator(model, ts) # Internally uses BioNetGen to get reaction network\n",
    "    sim_res = sim.run()\n",
    "    plot_sim_result(model, sim_res)\n",
    "sim_model(model)"
   ]
  },
  {
   "cell_type": "markdown",
   "metadata": {},
   "source": [
    "### Draw mechanisms as a causal graph for visualization"
   ]
  },
  {
   "cell_type": "code",
   "execution_count": 17,
   "metadata": {
    "scrolled": false
   },
   "outputs": [
    {
     "data": {
      "text/html": [
       "\n",
       "        <iframe\n",
       "            width=\"600\"\n",
       "            height=\"400\"\n",
       "            src=\"model_diagram.pdf\"\n",
       "            frameborder=\"0\"\n",
       "            allowfullscreen\n",
       "        ></iframe>\n",
       "        "
      ],
      "text/plain": [
       "<IPython.lib.display.IFrame at 0x1339fec18>"
      ]
     },
     "execution_count": 17,
     "metadata": {},
     "output_type": "execute_result"
    }
   ],
   "source": [
    "from indra.assemblers.graph import GraphAssembler\n",
    "ga = GraphAssembler()\n",
    "ga.add_statements(tp.statements)\n",
    "ga.make_model()\n",
    "ga.save_pdf('model_diagram.pdf')\n",
    "IFrame('model_diagram.pdf', width=600, height=400)"
   ]
  },
  {
   "cell_type": "markdown",
   "metadata": {},
   "source": [
    "### \"Put your model where your mouth is\"\n",
    "<img src=http://msb.embopress.org/content/msb/13/12/958/F1.large.jpg width=\"500\">\n",
    "Figure from Haggerty and Purvis (2017), EMBO Press (see http://msb.embopress.org/content/13/12/958)"
   ]
  },
  {
   "cell_type": "markdown",
   "metadata": {},
   "source": [
    "# Reading and assembling the literature"
   ]
  },
  {
   "cell_type": "markdown",
   "metadata": {},
   "source": [
    "### Download an abstract from PubMed\n",
    "<img src=https://raw.githubusercontent.com/sorgerlab/indra_apps/master/tutorial/static/pubmed_abstract.png>"
   ]
  },
  {
   "cell_type": "code",
   "execution_count": 18,
   "metadata": {},
   "outputs": [],
   "source": [
    "from indra.literature import pubmed_client\n",
    "abstract = pubmed_client.get_abstract('24312625')"
   ]
  },
  {
   "cell_type": "code",
   "execution_count": 19,
   "metadata": {},
   "outputs": [
    {
     "data": {
      "text/plain": [
       "'Phosphorylation of ASPP2 by RAS/MAPK pathway is critical for its full pro-apoptotic function. We reported recently that apoptosis-stimulating protein of p53 (ASPP) 2, an activator of p53, co-operates with oncogenic RAS to enhance the transcription and apoptotic function of p53. However, the detailed mechanism remains unknown. Here we show that ASPP2 is a novel substrate of mitogen-activated protein kinase (MAPK). Phosphorylation of ASPP2 by MAPK is required for RAS-induced increased binding to p53 and increased transactivation of pro-apoptotic genes. In contrast, an ASPP2 phosphorylation mutant exhibits reduced p53 binding and fails to enhance transactivation and apoptosis. Thus phosphorylation of ASPP2 by RAS/MAPK pathway provides a novel link between RAS and p53 in regulating apoptosis. '"
      ]
     },
     "execution_count": 19,
     "metadata": {},
     "output_type": "execute_result"
    }
   ],
   "source": [
    "abstract"
   ]
  },
  {
   "cell_type": "markdown",
   "metadata": {},
   "source": [
    "### Read with two reading systems, REACH and Sparser"
   ]
  },
  {
   "cell_type": "code",
   "execution_count": 20,
   "metadata": {},
   "outputs": [
    {
     "name": "stderr",
     "output_type": "stream",
     "text": [
      "ERROR: [2018-10-19 19:42:45] indra/indra_statements - Agent missing name.\n",
      "ERROR: [2018-10-19 19:42:45] indra/indra_statements - Agent missing name.\n"
     ]
    }
   ],
   "source": [
    "from indra.sources import reach, sparser\n",
    "rp = reach.process_text(abstract)\n",
    "sp = sparser.process_text(abstract)"
   ]
  },
  {
   "cell_type": "markdown",
   "metadata": {},
   "source": [
    "### What did the readers get?"
   ]
  },
  {
   "cell_type": "code",
   "execution_count": 21,
   "metadata": {
    "scrolled": true
   },
   "outputs": [
    {
     "data": {
      "text/plain": [
       "[Phosphorylation(RAS(), TP53BP2()),\n",
       " Phosphorylation(ERK(), TP53BP2()),\n",
       " Phosphorylation(ERK(), TP53BP2()),\n",
       " Phosphorylation(RAS(), TP53BP2()),\n",
       " Phosphorylation(ERK(), TP53BP2()),\n",
       " Activation(apoptosis(), transcription()),\n",
       " Activation(TP53(), transcription()),\n",
       " Activation(TP53(), transcription()),\n",
       " Activation(TP53BP2(), apoptosis())]"
      ]
     },
     "execution_count": 21,
     "metadata": {},
     "output_type": "execute_result"
    }
   ],
   "source": [
    "rp.statements"
   ]
  },
  {
   "cell_type": "code",
   "execution_count": 22,
   "metadata": {},
   "outputs": [
    {
     "data": {
      "text/plain": [
       "[Phosphorylation(None, TP53BP2()),\n",
       " Phosphorylation(mitogen activated protein kinase(), TP53BP2()),\n",
       " Phosphorylation(None, TP53BP2()),\n",
       " Phosphorylation(None, TP53BP2())]"
      ]
     },
     "execution_count": 22,
     "metadata": {},
     "output_type": "execute_result"
    }
   ],
   "source": [
    "sp.statements"
   ]
  },
  {
   "cell_type": "code",
   "execution_count": 23,
   "metadata": {
    "scrolled": true
   },
   "outputs": [
    {
     "data": {
      "text/plain": [
       "[Evidence(source_api='reach',\n",
       "          pmid='api5036',\n",
       "          text='In contrast, an ASPP2 phosphorylation mutant exhibits reduced p53 binding and fails to enhance transactivation and apoptosis.',\n",
       "          annotations={'found_by': 'Positive_activation_syntax_1_verb'})]"
      ]
     },
     "execution_count": 23,
     "metadata": {},
     "output_type": "execute_result"
    }
   ],
   "source": [
    "rp.statements[-1].evidence"
   ]
  },
  {
   "cell_type": "markdown",
   "metadata": {},
   "source": [
    "## Assembly at scale from multiple sources\n",
    "Application: automatically explaining observations resulting from drug perturbations in cells\n",
    "<img src=https://raw.githubusercontent.com/sorgerlab/indra_apps/master/tutorial/static/explanation.png>\n",
    "(image source http://www.sanderlab.org/pertbio/#tab-data-matrix)"
   ]
  },
  {
   "cell_type": "markdown",
   "metadata": {},
   "source": [
    "### Read a larger literature corpus\n",
    "- All publications about a set of 7 proteins ~6,500 papers\n",
    "- Pull in all interactions from databases and read with 2 reading systems"
   ]
  },
  {
   "cell_type": "markdown",
   "metadata": {},
   "source": [
    "### Aggregate all input in the form of INDRA Statements"
   ]
  },
  {
   "cell_type": "code",
   "execution_count": 24,
   "metadata": {},
   "outputs": [],
   "source": [
    "import indra.tools.assemble_corpus as ac"
   ]
  },
  {
   "cell_type": "markdown",
   "metadata": {},
   "source": [
    "### Load input from databases and reading systems"
   ]
  },
  {
   "cell_type": "code",
   "execution_count": 25,
   "metadata": {
    "scrolled": true
   },
   "outputs": [
    {
     "name": "stderr",
     "output_type": "stream",
     "text": [
      "INFO: [2018-10-19 19:43:11] indra/assemble_corpus - Loading bel_stmts.pkl...\n",
      "INFO: [2018-10-19 19:43:11] indra/assemble_corpus - Loaded 1506 statements\n",
      "INFO: [2018-10-19 19:43:11] indra/assemble_corpus - Loading biopax_stmts.pkl...\n",
      "INFO: [2018-10-19 19:43:11] indra/assemble_corpus - Loaded 872 statements\n",
      "INFO: [2018-10-19 19:43:11] indra/assemble_corpus - Loading reading_stmts.pkl...\n",
      "INFO: [2018-10-19 19:43:13] indra/assemble_corpus - Loaded 75702 statements\n"
     ]
    }
   ],
   "source": [
    "stmts = ac.load_statements('bel_stmts.pkl') + \\\n",
    "    ac.load_statements('biopax_stmts.pkl') + \\\n",
    "    ac.load_statements('reading_stmts.pkl')"
   ]
  },
  {
   "cell_type": "markdown",
   "metadata": {},
   "source": [
    "### Build up a custom assembly pipeline for this scenario"
   ]
  },
  {
   "cell_type": "code",
   "execution_count": 26,
   "metadata": {
    "scrolled": false
   },
   "outputs": [
    {
     "name": "stderr",
     "output_type": "stream",
     "text": [
      "INFO: [2018-10-19 19:43:15] indra/assemble_corpus - Filtering 78080 statements to no hypothesis...\n",
      "INFO: [2018-10-19 19:43:15] indra/assemble_corpus - 76548 statements after filter...\n",
      "INFO: [2018-10-19 19:43:15] indra/assemble_corpus - Mapping grounding on 76548 statements...\n",
      "INFO: [2018-10-19 19:43:26] indra/grounding_mapper - 1508 statements filtered out\n",
      "INFO: [2018-10-19 19:43:26] indra/assemble_corpus - Filtering 75040 statements for grounded agents...\n",
      "INFO: [2018-10-19 19:43:26] indra/assemble_corpus - 63732 statements after filter...\n",
      "INFO: [2018-10-19 19:43:26] indra/assemble_corpus - Filtering 63732 statements for ones containing genes only...\n",
      "INFO: [2018-10-19 19:43:26] indra/assemble_corpus - 46213 statements after filter...\n",
      "INFO: [2018-10-19 19:43:26] indra/assemble_corpus - Filtering 46213 statements for human genes only...\n",
      "INFO: [2018-10-19 19:43:27] indra/assemble_corpus - 43524 statements after filter...\n",
      "INFO: [2018-10-19 19:43:27] indra/assemble_corpus - Mapping sites on 43524 statements...\n",
      "INFO: [2018-10-19 19:44:30] indra/phosphosite - Reference sequence match not found, choosing first entry, acc_id P10636-5 site_grp 447932\n",
      "INFO: [2018-10-19 19:44:30] indra/phosphosite - Reference sequence match not found, choosing first entry, acc_id P10636-5 site_grp 447927\n",
      "INFO: [2018-10-19 19:44:30] indra/phosphosite - Reference sequence match not found, choosing first entry, acc_id P10636-5 site_grp 447928\n",
      "INFO: [2018-10-19 19:44:30] indra/phosphosite - Reference sequence match not found, choosing first entry, acc_id P10636-5 site_grp 447933\n",
      "INFO: [2018-10-19 19:44:30] indra/phosphosite - Reference sequence match not found, choosing first entry, acc_id P10636-5 site_grp 449079\n",
      "INFO: [2018-10-19 19:44:36] indra/phosphosite - \tFound entry matching reference acc id\n",
      "INFO: [2018-10-19 19:44:58] indra/phosphosite - Reference sequence match not found, choosing first entry, acc_id P10636-5 site_grp 447930\n",
      "INFO: [2018-10-19 19:45:32] indra/assemble_corpus - 43235 statements with valid sites\n",
      "INFO: [2018-10-19 19:45:36] indra/assemble_corpus - Combining duplicates on 43235 statements...\n",
      "INFO: [2018-10-19 19:45:42] indra/assemble_corpus - 14897 unique statements\n",
      "INFO: [2018-10-19 19:45:42] indra/assemble_corpus - Combining related on 14897 statements...\n",
      "INFO: [2018-10-19 19:45:42] indra/preassembler - Preassembling Acetylation (59)\n",
      "INFO: [2018-10-19 19:45:42] indra/preassembler - Preassembling Activation (4861)\n",
      "INFO: [2018-10-19 19:45:42] indra/preassembler - Preassembling ActiveForm (25)\n",
      "INFO: [2018-10-19 19:45:42] indra/preassembler - Preassembling Autophosphorylation (51)\n",
      "INFO: [2018-10-19 19:45:42] indra/preassembler - Preassembling Complex (1101)\n",
      "INFO: [2018-10-19 19:45:42] indra/preassembler - Preassembling Deacetylation (9)\n",
      "INFO: [2018-10-19 19:45:42] indra/preassembler - Preassembling DecreaseAmount (534)\n",
      "INFO: [2018-10-19 19:45:42] indra/preassembler - Preassembling Demethylation (2)\n",
      "INFO: [2018-10-19 19:45:42] indra/preassembler - Preassembling Dephosphorylation (481)\n",
      "INFO: [2018-10-19 19:45:42] indra/preassembler - Preassembling Desumoylation (1)\n",
      "INFO: [2018-10-19 19:45:42] indra/preassembler - Preassembling Deubiquitination (19)\n",
      "INFO: [2018-10-19 19:45:42] indra/preassembler - Preassembling Farnesylation (2)\n",
      "INFO: [2018-10-19 19:45:42] indra/preassembler - Preassembling Glycosylation (5)\n",
      "INFO: [2018-10-19 19:45:42] indra/preassembler - Preassembling GtpActivation (4)\n",
      "INFO: [2018-10-19 19:45:42] indra/preassembler - Preassembling Hydroxylation (12)\n",
      "INFO: [2018-10-19 19:45:42] indra/preassembler - Preassembling IncreaseAmount (1310)\n",
      "INFO: [2018-10-19 19:45:42] indra/preassembler - Preassembling Inhibition (1975)\n",
      "INFO: [2018-10-19 19:45:42] indra/preassembler - Preassembling Methylation (69)\n",
      "INFO: [2018-10-19 19:45:42] indra/preassembler - Preassembling Myristoylation (4)\n",
      "INFO: [2018-10-19 19:45:42] indra/preassembler - Preassembling Palmitoylation (2)\n",
      "INFO: [2018-10-19 19:45:42] indra/preassembler - Preassembling Phosphorylation (3965)\n",
      "INFO: [2018-10-19 19:45:42] indra/preassembler - Preassembling Sumoylation (9)\n",
      "INFO: [2018-10-19 19:45:42] indra/preassembler - Preassembling Translocation (225)\n",
      "INFO: [2018-10-19 19:45:42] indra/preassembler - Preassembling Ubiquitination (172)\n",
      "INFO: [2018-10-19 19:45:52] indra/assemble_corpus - Filtering 14897 statements for top-level...\n",
      "INFO: [2018-10-19 19:45:52] indra/assemble_corpus - 12163 statements after filter...\n",
      "INFO: [2018-10-19 19:45:52] indra/assemble_corpus - 14897 statements out of which 12163 are top-level\n"
     ]
    }
   ],
   "source": [
    "stmts = ac.filter_no_hypothesis(stmts)\n",
    "stmts = ac.map_grounding(stmts)\n",
    "stmts = ac.filter_grounded_only(stmts)\n",
    "stmts = ac.filter_genes_only(stmts)\n",
    "stmts = ac.filter_human_only(stmts)\n",
    "stmts = ac.map_sequence(stmts)\n",
    "stmts = ac.run_preassembly(stmts, return_toplevel=False)"
   ]
  },
  {
   "cell_type": "markdown",
   "metadata": {},
   "source": [
    "### Generate the graph of exact and partial / hierarchical redundancies"
   ]
  },
  {
   "cell_type": "code",
   "execution_count": 27,
   "metadata": {},
   "outputs": [],
   "source": [
    "from indra.preassembler import render_stmt_graph"
   ]
  },
  {
   "cell_type": "code",
   "execution_count": 28,
   "metadata": {
    "scrolled": true
   },
   "outputs": [
    {
     "name": "stderr",
     "output_type": "stream",
     "text": [
      "Warning: graph has 7068 nodes...layout may take a long time.\n"
     ]
    }
   ],
   "source": [
    "stmt_graph = render_stmt_graph(stmts)\n",
    "stmt_graph.draw('stmt_graph.pdf', prog='dot')"
   ]
  },
  {
   "cell_type": "markdown",
   "metadata": {},
   "source": [
    "<img src=https://raw.githubusercontent.com/sorgerlab/indra_apps/master/tutorial/static/stmt_graph_snippet.png>"
   ]
  },
  {
   "cell_type": "markdown",
   "metadata": {},
   "source": [
    "### Filter for high-belief Statements and the most specific level of resolution"
   ]
  },
  {
   "cell_type": "code",
   "execution_count": 29,
   "metadata": {
    "scrolled": true
   },
   "outputs": [
    {
     "name": "stderr",
     "output_type": "stream",
     "text": [
      "INFO: [2018-10-19 19:47:48] indra/assemble_corpus - Filtering 14897 statements to above 0.850000 belief\n",
      "INFO: [2018-10-19 19:47:48] indra/assemble_corpus - 6415 statements after filter...\n",
      "INFO: [2018-10-19 19:47:48] indra/assemble_corpus - Filtering 6415 statements for top-level...\n",
      "INFO: [2018-10-19 19:47:48] indra/assemble_corpus - 4634 statements after filter...\n"
     ]
    }
   ],
   "source": [
    "stmts = ac.filter_belief(stmts, 0.85)\n",
    "stmts = ac.filter_top_level(stmts)"
   ]
  },
  {
   "cell_type": "markdown",
   "metadata": {},
   "source": [
    "### Filter out indirect effects and apply some semantic filters"
   ]
  },
  {
   "cell_type": "code",
   "execution_count": 30,
   "metadata": {
    "scrolled": false
   },
   "outputs": [
    {
     "name": "stderr",
     "output_type": "stream",
     "text": [
      "INFO: [2018-10-19 19:47:51] indra/assemble_corpus - Filtering 4634 statements to direct ones...\n",
      "INFO: [2018-10-19 19:47:51] indra/assemble_corpus - 1677 statements after filter...\n",
      "INFO: [2018-10-19 19:47:51] indra/assemble_corpus - Filtering 1677 statements to remove phosphorylation by non-kinases...\n",
      "INFO: [2018-10-19 19:47:51] indra/assemble_corpus - 1130 statements after filter...\n",
      "INFO: [2018-10-19 19:47:51] indra/assemble_corpus - Filtering 1130 statements to remove non-phospho modifications by kinases...\n",
      "INFO: [2018-10-19 19:47:51] indra/assemble_corpus - 1001 statements after filter...\n"
     ]
    }
   ],
   "source": [
    "stmts = ac.filter_direct(stmts)\n",
    "stmts = ac.filter_enzyme_kinase(stmts)\n",
    "stmts = ac.filter_mod_nokinase(stmts)"
   ]
  },
  {
   "cell_type": "markdown",
   "metadata": {},
   "source": [
    "### Assemble a rule-based model"
   ]
  },
  {
   "cell_type": "code",
   "execution_count": 31,
   "metadata": {},
   "outputs": [
    {
     "name": "stderr",
     "output_type": "stream",
     "text": [
      "WARNING: [2018-10-19 19:47:58] indra/databases - Unhandled name space SFAM\n",
      "WARNING: [2018-10-19 19:47:58] indra/databases - Unhandled name space SFAM\n",
      "WARNING: [2018-10-19 19:47:58] indra/databases - Unhandled name space EGID\n",
      "WARNING: [2018-10-19 19:47:58] indra/databases - Unhandled name space NONCODE\n",
      "WARNING: [2018-10-19 19:47:58] indra/databases - Unhandled name space LNCRNADB\n",
      "WARNING: [2018-10-19 19:47:58] indra/databases - Unhandled name space SFAM\n",
      "WARNING: [2018-10-19 19:47:58] indra/pysb_assembler - BRAF transcribes itself, skipping\n"
     ]
    },
    {
     "data": {
      "text/plain": [
       "<Model 'indra_model' (monomers: 628, rules: 1600, parameters: 2233, expressions: 0, compartments: 0) at 0x133099f98>"
      ]
     },
     "execution_count": 31,
     "metadata": {},
     "output_type": "execute_result"
    }
   ],
   "source": [
    "from indra.assemblers.pysb import PysbAssembler\n",
    "pa = PysbAssembler()\n",
    "pa.add_statements(stmts)\n",
    "pa.make_model()"
   ]
  },
  {
   "cell_type": "markdown",
   "metadata": {},
   "source": [
    "### Explain observations with the model"
   ]
  },
  {
   "cell_type": "code",
   "execution_count": 32,
   "metadata": {},
   "outputs": [],
   "source": [
    "from indra.explanation.model_checker import PysbModelChecker"
   ]
  },
  {
   "cell_type": "markdown",
   "metadata": {},
   "source": [
    "### Describe the observation in NL or get from real dataset"
   ]
  },
  {
   "cell_type": "code",
   "execution_count": 33,
   "metadata": {},
   "outputs": [],
   "source": [
    "from indra.sources import trips\n",
    "tp = trips.process_text('BRAF phosphorylates CDKN1B.')"
   ]
  },
  {
   "cell_type": "markdown",
   "metadata": {},
   "source": [
    "### Find mechanistic paths in the dynamical model's influence map"
   ]
  },
  {
   "cell_type": "code",
   "execution_count": 34,
   "metadata": {},
   "outputs": [
    {
     "name": "stderr",
     "output_type": "stream",
     "text": [
      "INFO: [2018-10-19 19:50:56] indra/model_checker - Generating influence map\n",
      "INFO: [2018-10-19 19:51:04] indra/model_checker - Removing self loops\n",
      "INFO: [2018-10-19 19:51:04] indra/model_checker - Removing self loop: ('RELA_RELA_bind', 'RELA_RELA_bind')\n",
      "INFO: [2018-10-19 19:51:04] indra/model_checker - Removing self loop: ('RELA_RELA_dissociate', 'RELA_RELA_dissociate')\n",
      "INFO: [2018-10-19 19:51:04] indra/model_checker - Removing self loop: ('S100A4_S100A4_bind', 'S100A4_S100A4_bind')\n",
      "INFO: [2018-10-19 19:51:04] indra/model_checker - Removing self loop: ('S100A4_S100A4_dissociate', 'S100A4_S100A4_dissociate')\n",
      "INFO: [2018-10-19 19:51:04] indra/model_checker - Removing self loop: ('RAF1_phosphoT491_phosphoS338_phosphoS494_phosphoS621_phosphoY341_phosphorylation_RAF1_phosphoS621_S338', 'RAF1_phosphoT491_phosphoS338_phosphoS494_phosphoS621_phosphoY341_phosphorylation_RAF1_phosphoS621_S338')\n",
      "INFO: [2018-10-19 19:51:04] indra/model_checker - Removing self loop: ('RAF1_phosphoT491_phosphoS338_phosphoS494_phosphoS621_phosphoY341_phosphorylation_RAF1_phosphoS621_S494', 'RAF1_phosphoT491_phosphoS338_phosphoS494_phosphoS621_phosphoY341_phosphorylation_RAF1_phosphoS621_S494')\n",
      "INFO: [2018-10-19 19:51:04] indra/model_checker - Removing self loop: ('RAF1_phosphoT491_phosphoS338_phosphoS494_phosphoS621_phosphoY341_phosphorylation_RAF1_phosphoS621_T491', 'RAF1_phosphoT491_phosphoS338_phosphoS494_phosphoS621_phosphoY341_phosphorylation_RAF1_phosphoS621_T491')\n",
      "INFO: [2018-10-19 19:51:04] indra/model_checker - Removing self loop: ('RAF1_phosphoT491_phosphoS338_phosphoS494_phosphoS621_phosphoY341_phosphorylation_RAF1_phosphoS621_Y341', 'RAF1_phosphoT491_phosphoS338_phosphoS494_phosphoS621_phosphoY341_phosphorylation_RAF1_phosphoS621_Y341')\n",
      "INFO: [2018-10-19 19:51:04] indra/model_checker - Get successorts of each node\n",
      "INFO: [2018-10-19 19:51:04] indra/model_checker - Compare combinations of successors\n",
      "INFO: [2018-10-19 19:51:05] indra/model_checker - Removing 2954 edges from influence map\n",
      "INFO: [2018-10-19 19:51:05] indra/model_checker - Checking stmt: Phosphorylation(BRAF(), CDKN1B())\n",
      "INFO: [2018-10-19 19:51:05] indra/model_checker - Running path finding with max_paths=5, max_path_length=5\n",
      "INFO: [2018-10-19 19:51:05] indra/model_checker - Checking path metrics between BRAF() and CDKN1B_T187_p_obs with polarity 1\n",
      "INFO: [2018-10-19 19:51:05] indra/model_checker - Finding paths between BRAF() and CDKN1B_T187_p_obs with polarity 1\n"
     ]
    },
    {
     "data": {
      "text/plain": [
       "[(('BRAF_phosphorylation_MAPK1_T185', 1),\n",
       "  ('MAPK1_phosphoY187_phosphoT185_phosphorylation_CDKN1B_T187', 1),\n",
       "  ('CDKN1B_T187_p_obs', 1)),\n",
       " (('BRAF_phosphorylation_MAPK1_Y187', 1),\n",
       "  ('MAPK1_phosphoY187_phosphoT185_phosphorylation_CDKN1B_T187', 1),\n",
       "  ('CDKN1B_T187_p_obs', 1)),\n",
       " (('BRAF_phosphorylation_MAPK1_T185', 1),\n",
       "  ('MAPK1_phosphoT185_phosphorylation_CDKN1B_T187', 1),\n",
       "  ('CDKN1B_T187_p_obs', 1)),\n",
       " (('BRAF_phosphorylation_MAPK1_Y187', 1),\n",
       "  ('MAPK1_phosphoY187_phosphorylation_CDKN1B_T187', 1),\n",
       "  ('CDKN1B_T187_p_obs', 1)),\n",
       " (('BRAF_phosphoS579_phosphorylation_MAP2K1_S218', 1),\n",
       "  ('MAP2K1_phosphoS222_phosphoS218_phosphorylation_MAPK1_T185', 1),\n",
       "  ('MAPK1_phosphoY187_phosphoT185_phosphorylation_CDKN1B_T187', 1),\n",
       "  ('CDKN1B_T187_p_obs', 1))]"
      ]
     },
     "execution_count": 34,
     "metadata": {},
     "output_type": "execute_result"
    }
   ],
   "source": [
    "mc = PysbModelChecker(pa.model, tp.statements)\n",
    "mc.prune_influence_map()\n",
    "path_results = mc.check_model(max_paths=5)\n",
    "paths = path_results[0][1].paths\n",
    "paths"
   ]
  },
  {
   "cell_type": "markdown",
   "metadata": {},
   "source": [
    "### Report a path in English"
   ]
  },
  {
   "cell_type": "code",
   "execution_count": 37,
   "metadata": {},
   "outputs": [
    {
     "name": "stdout",
     "output_type": "stream",
     "text": [
      "BRAF phosphorylated on S579 phosphorylates MAP2K1 on S218. MAP2K1 phosphorylated on S222 and S218 phosphorylates MAPK1 on T185. Kinase-active MAPK1 phosphorylates CDKN1B on T187.\n"
     ]
    }
   ],
   "source": [
    "from indra.explanation.reporting import stmts_from_pysb_path\n",
    "from indra.assemblers.english import EnglishAssembler\n",
    "path_stmts = stmts_from_pysb_path(paths[-1], pa.model, stmts)\n",
    "print(EnglishAssembler(path_stmts).make_model())"
   ]
  },
  {
   "cell_type": "code",
   "execution_count": 38,
   "metadata": {
    "scrolled": false
   },
   "outputs": [
    {
     "name": "stdout",
     "output_type": "stream",
     "text": [
      "Phosphorylation(MAPK7(), RPS6KA3())\n"
     ]
    }
   ],
   "source": [
    "for stmt in stmts:\n",
    "    sources = set([e.source_api for e in stmt.evidence])\n",
    "    if len(sources) >= 3:\n",
    "        print(stmt)\n",
    "        break"
   ]
  },
  {
   "cell_type": "code",
   "execution_count": 39,
   "metadata": {
    "scrolled": false
   },
   "outputs": [
    {
     "data": {
      "text/plain": [
       "[Evidence(source_api='biopax',\n",
       "          pmid='None',\n",
       "          text='None',\n",
       "          annotations={'source_sub_id': 'panther', 'agents': {'raw_text': [None, None]}, 'prior_uuids': ['a25dbde2-ebf9-4f1b-93ea-1594468c1cab']}),\n",
       " Evidence(source_api='sparser',\n",
       "          pmid='PMC_171',\n",
       "          text='In vitro active ERK5 also phosphorylated RSK2 that had been immunoprecipitated from transfected cells using an anti-HA antibody (B).',\n",
       "          annotations={'agents': {'raw_text': ['ERK5', 'RSK2']}, 'prior_uuids': ['18d6d6e4-5b9e-4c18-8be6-23fcd9063b58']}),\n",
       " Evidence(source_api='reach',\n",
       "          pmid='16626623',\n",
       "          text='In vitro active ERK5 also phosphorylated RSK2 that had been immunoprecipitated from transfected cells using an anti-HA antibody (B).',\n",
       "          annotations={'found_by': 'Phosphorylation_syntax_1a_verb', 'agents': {'raw_text': ['ERK5', 'RSK2']}, 'prior_uuids': ['78435101-eba3-4e79-b5cb-edeb9b02acae']}),\n",
       " Evidence(source_api='reach',\n",
       "          pmid='16626623',\n",
       "          text='Phosphorylation of RSK2 by ERK5 in vitro increased its activity towards GST-S6 as much as 8-fold (C and E).',\n",
       "          annotations={'found_by': 'Phosphorylation_syntax_1a_noun', 'agents': {'raw_text': ['ERK5', 'RSK2']}, 'prior_uuids': ['d685db25-5b5d-4301-8a8d-9c2e8e25b4d4']})]"
      ]
     },
     "execution_count": 39,
     "metadata": {},
     "output_type": "execute_result"
    }
   ],
   "source": [
    "stmt.evidence"
   ]
  },
  {
   "cell_type": "markdown",
   "metadata": {},
   "source": [
    "## Some other applications"
   ]
  },
  {
   "cell_type": "markdown",
   "metadata": {},
   "source": [
    "### Autonomous, self-updating model of a pathway\n",
    "<img src=https://raw.githubusercontent.com/sorgerlab/indra_apps/master/tutorial/static/ras_machine.png>\n",
    "<img src=https://raw.githubusercontent.com/sorgerlab/indra_apps/master/tutorial/static/ndex_network.png>"
   ]
  },
  {
   "cell_type": "markdown",
   "metadata": {},
   "source": [
    "### Component of a human-machine dialogue system\n",
    "<img src=https://raw.githubusercontent.com/sorgerlab/indra_apps/master/tutorial/static/dialogue1.png>\n",
    "<img src=https://raw.githubusercontent.com/sorgerlab/indra_apps/master/tutorial/static/dialogue2.png>"
   ]
  },
  {
   "cell_type": "markdown",
   "metadata": {},
   "source": [
    "# Making models in a domain-general setting\n",
    "- Input APIs and processors for generalized reading systems (Eidos, CWMS, etc.)\n",
    "- Any curated / learned ontology e.g.\n",
    "<img src=https://raw.githubusercontent.com/sorgerlab/indra_apps/master/tutorial/static/eidos_ont.png>"
   ]
  },
  {
   "cell_type": "code",
   "execution_count": 38,
   "metadata": {},
   "outputs": [],
   "source": [
    "from indra.sources import eidos"
   ]
  },
  {
   "cell_type": "code",
   "execution_count": 39,
   "metadata": {},
   "outputs": [],
   "source": [
    "txt = \"\"\"\n",
    "Food insecurity levels are extremely alarming throughout the country due to conflict, \n",
    "a collapsing economy, low cereal production, poor rainfall in southeastern areas, and \n",
    "the exhaustion of coping capacities after several years of crisis. In Eastern Equatoria – \n",
    "one of the drought-hit areas – the latest food security and nutrition assessments in \n",
    "November 2016 revealed that households experiencing poor food consumption nearly \n",
    "doubled from 19 to 37 percent when compared with the same time in 2015. \n",
    "Rainfall deficits were widely reported in the area, with 93 percent of \n",
    "households indicating this was a major shock during the last agricultural \n",
    "season, impacting pasture and water availability and local food production. \n",
    "Climatic forecasting indicates these areas are likely to experience depressed \n",
    "rainfall between March to May 2017.\"\"\"\n",
    "#ep = eidos.process_text(txt)\n",
    "ep = eidos.process_json_ld_file('CAG1.json')"
   ]
  },
  {
   "cell_type": "code",
   "execution_count": 40,
   "metadata": {
    "scrolled": true
   },
   "outputs": [
    {
     "data": {
      "text/plain": [
       "[Influence(shock(), pasture()),\n",
       " Influence(conflict(), Food insecurity()),\n",
       " Influence(shock(), water()),\n",
       " Influence(economy(negative), Food insecurity()),\n",
       " Influence(rainfall(negative), Food insecurity()),\n",
       " Influence(shock(), food production()),\n",
       " Influence(cereal production(negative), Food insecurity())]"
      ]
     },
     "execution_count": 40,
     "metadata": {},
     "output_type": "execute_result"
    }
   ],
   "source": [
    "ep.statements"
   ]
  },
  {
   "cell_type": "markdown",
   "metadata": {},
   "source": [
    "### Assemble into an interactive Causal Analysis Graph"
   ]
  },
  {
   "cell_type": "code",
   "execution_count": 41,
   "metadata": {
    "scrolled": true
   },
   "outputs": [
    {
     "data": {
      "application/javascript": [
       "require.config({\n",
       "        paths: {\n",
       "          cytoscape: 'https://cdnjs.cloudflare.com/ajax/libs/cytoscape/3.2.8/cytoscape',\n",
       "        }\n",
       "      })\n",
       "\n",
       "      require(['cytoscape'], function(cytoscape){\n",
       "        $(\"#cyDiv\").remove();\n",
       "        element.append(\"<div id='cyDiv'></div>\");\n",
       "        $(\"#cyDiv\").height(\"300px\");\n",
       "\n",
       "          var cy = cytoscape({\n",
       "            container : document.getElementById('cyDiv'),\n",
       "            elements  : {\n",
       "  \"nodes\": [\n",
       "    {\n",
       "      \"data\": {\n",
       "        \"id\": \"Shock\",\n",
       "        \"simulable\": false,\n",
       "        \"tooltip\": \"Modifiers: []\"\n",
       "      }\n",
       "    },\n",
       "    {\n",
       "      \"data\": {\n",
       "        \"id\": \"Pasture\",\n",
       "        \"simulable\": false,\n",
       "        \"tooltip\": \"Modifiers: []\"\n",
       "      }\n",
       "    },\n",
       "    {\n",
       "      \"data\": {\n",
       "        \"id\": \"Conflict\",\n",
       "        \"simulable\": false,\n",
       "        \"tooltip\": \"Modifiers: []\"\n",
       "      }\n",
       "    },\n",
       "    {\n",
       "      \"data\": {\n",
       "        \"id\": \"Food insecurity\",\n",
       "        \"simulable\": false,\n",
       "        \"tooltip\": \"Modifiers: []\"\n",
       "      }\n",
       "    },\n",
       "    {\n",
       "      \"data\": {\n",
       "        \"id\": \"Water\",\n",
       "        \"simulable\": false,\n",
       "        \"tooltip\": \"Modifiers: []\"\n",
       "      }\n",
       "    },\n",
       "    {\n",
       "      \"data\": {\n",
       "        \"id\": \"Economy\",\n",
       "        \"simulable\": false,\n",
       "        \"tooltip\": \"Modifiers: []\"\n",
       "      }\n",
       "    },\n",
       "    {\n",
       "      \"data\": {\n",
       "        \"id\": \"Rainfall\",\n",
       "        \"simulable\": false,\n",
       "        \"tooltip\": \"Modifiers: []\"\n",
       "      }\n",
       "    },\n",
       "    {\n",
       "      \"data\": {\n",
       "        \"id\": \"Food production\",\n",
       "        \"simulable\": false,\n",
       "        \"tooltip\": \"Modifiers: []\"\n",
       "      }\n",
       "    },\n",
       "    {\n",
       "      \"data\": {\n",
       "        \"id\": \"Cereal production\",\n",
       "        \"simulable\": false,\n",
       "        \"tooltip\": \"Modifiers: []\"\n",
       "      }\n",
       "    }\n",
       "  ],\n",
       "  \"edges\": [\n",
       "    {\n",
       "      \"data\": {\n",
       "        \"id\": \"Shock_Pasture\",\n",
       "        \"source\": \"Shock\",\n",
       "        \"target\": \"Pasture\",\n",
       "        \"linestyle\": \"dotted\",\n",
       "        \"linecolor\": \"maroon\",\n",
       "        \"targetArrowShape\": \"triangle\",\n",
       "        \"subj_adjectives\": [],\n",
       "        \"subj_polarity\": null,\n",
       "        \"obj_adjectives\": [],\n",
       "        \"obj_polarity\": null,\n",
       "        \"tooltip\": {\n",
       "          \"document\": {\n",
       "            \"@id\": \"_:Document_1\"\n",
       "          },\n",
       "          \"documentCharInterval\": [\n",
       "            {\n",
       "              \"@type\": \"Interval\",\n",
       "              \"start\": 611,\n",
       "              \"end\": 670\n",
       "            }\n",
       "          ],\n",
       "          \"sentence\": {\n",
       "            \"@id\": \"_:Sentence_3\"\n",
       "          },\n",
       "          \"positions\": [\n",
       "            {\n",
       "              \"@type\": \"Interval\",\n",
       "              \"start\": 20,\n",
       "              \"end\": 28\n",
       "            }\n",
       "          ],\n",
       "          \"text\": \"shock during the last agricultural season, impacting pasture\"\n",
       "        },\n",
       "        \"simulable\": false\n",
       "      }\n",
       "    },\n",
       "    {\n",
       "      \"data\": {\n",
       "        \"id\": \"Shock_Water\",\n",
       "        \"source\": \"Shock\",\n",
       "        \"target\": \"Water\",\n",
       "        \"linestyle\": \"dotted\",\n",
       "        \"linecolor\": \"maroon\",\n",
       "        \"targetArrowShape\": \"triangle\",\n",
       "        \"subj_adjectives\": [],\n",
       "        \"subj_polarity\": null,\n",
       "        \"obj_adjectives\": [],\n",
       "        \"obj_polarity\": null,\n",
       "        \"tooltip\": {\n",
       "          \"document\": {\n",
       "            \"@id\": \"_:Document_1\"\n",
       "          },\n",
       "          \"documentCharInterval\": [\n",
       "            {\n",
       "              \"@type\": \"Interval\",\n",
       "              \"start\": 611,\n",
       "              \"end\": 693\n",
       "            }\n",
       "          ],\n",
       "          \"sentence\": {\n",
       "            \"@id\": \"_:Sentence_3\"\n",
       "          },\n",
       "          \"positions\": [\n",
       "            {\n",
       "              \"@type\": \"Interval\",\n",
       "              \"start\": 20,\n",
       "              \"end\": 31\n",
       "            }\n",
       "          ],\n",
       "          \"text\": \"shock during the last agricultural season, impacting pasture and water availability\"\n",
       "        },\n",
       "        \"simulable\": false\n",
       "      }\n",
       "    },\n",
       "    {\n",
       "      \"data\": {\n",
       "        \"id\": \"Shock_Food production\",\n",
       "        \"source\": \"Shock\",\n",
       "        \"target\": \"Food production\",\n",
       "        \"linestyle\": \"dotted\",\n",
       "        \"linecolor\": \"maroon\",\n",
       "        \"targetArrowShape\": \"triangle\",\n",
       "        \"subj_adjectives\": [],\n",
       "        \"subj_polarity\": null,\n",
       "        \"obj_adjectives\": [],\n",
       "        \"obj_polarity\": null,\n",
       "        \"tooltip\": {\n",
       "          \"document\": {\n",
       "            \"@id\": \"_:Document_1\"\n",
       "          },\n",
       "          \"documentCharInterval\": [\n",
       "            {\n",
       "              \"@type\": \"Interval\",\n",
       "              \"start\": 611,\n",
       "              \"end\": 719\n",
       "            }\n",
       "          ],\n",
       "          \"sentence\": {\n",
       "            \"@id\": \"_:Sentence_3\"\n",
       "          },\n",
       "          \"positions\": [\n",
       "            {\n",
       "              \"@type\": \"Interval\",\n",
       "              \"start\": 20,\n",
       "              \"end\": 35\n",
       "            }\n",
       "          ],\n",
       "          \"text\": \"shock during the last agricultural season, impacting pasture and water availability and local food production\"\n",
       "        },\n",
       "        \"simulable\": false\n",
       "      }\n",
       "    },\n",
       "    {\n",
       "      \"data\": {\n",
       "        \"id\": \"Conflict_Food insecurity\",\n",
       "        \"source\": \"Conflict\",\n",
       "        \"target\": \"Food insecurity\",\n",
       "        \"linestyle\": \"dotted\",\n",
       "        \"linecolor\": \"maroon\",\n",
       "        \"targetArrowShape\": \"triangle\",\n",
       "        \"subj_adjectives\": [],\n",
       "        \"subj_polarity\": null,\n",
       "        \"obj_adjectives\": [],\n",
       "        \"obj_polarity\": null,\n",
       "        \"tooltip\": {\n",
       "          \"document\": {\n",
       "            \"@id\": \"_:Document_1\"\n",
       "          },\n",
       "          \"documentCharInterval\": [\n",
       "            {\n",
       "              \"@type\": \"Interval\",\n",
       "              \"start\": 1,\n",
       "              \"end\": 84\n",
       "            }\n",
       "          ],\n",
       "          \"sentence\": {\n",
       "            \"@id\": \"_:Sentence_1\"\n",
       "          },\n",
       "          \"positions\": [\n",
       "            {\n",
       "              \"@type\": \"Interval\",\n",
       "              \"start\": 1,\n",
       "              \"end\": 12\n",
       "            }\n",
       "          ],\n",
       "          \"text\": \"Food insecurity levels are extremely alarming throughout the country due to conflict\"\n",
       "        },\n",
       "        \"simulable\": false\n",
       "      }\n",
       "    },\n",
       "    {\n",
       "      \"data\": {\n",
       "        \"id\": \"Economy_Food insecurity\",\n",
       "        \"source\": \"Economy\",\n",
       "        \"target\": \"Food insecurity\",\n",
       "        \"linestyle\": \"dotted\",\n",
       "        \"linecolor\": \"maroon\",\n",
       "        \"targetArrowShape\": \"triangle\",\n",
       "        \"subj_adjectives\": [],\n",
       "        \"subj_polarity\": -1,\n",
       "        \"obj_adjectives\": [],\n",
       "        \"obj_polarity\": null,\n",
       "        \"tooltip\": {\n",
       "          \"document\": {\n",
       "            \"@id\": \"_:Document_1\"\n",
       "          },\n",
       "          \"documentCharInterval\": [\n",
       "            {\n",
       "              \"@type\": \"Interval\",\n",
       "              \"start\": 1,\n",
       "              \"end\": 106\n",
       "            }\n",
       "          ],\n",
       "          \"sentence\": {\n",
       "            \"@id\": \"_:Sentence_1\"\n",
       "          },\n",
       "          \"positions\": [\n",
       "            {\n",
       "              \"@type\": \"Interval\",\n",
       "              \"start\": 1,\n",
       "              \"end\": 16\n",
       "            }\n",
       "          ],\n",
       "          \"text\": \"Food insecurity levels are extremely alarming throughout the country due to conflict, a collapsing economy\"\n",
       "        },\n",
       "        \"simulable\": false\n",
       "      }\n",
       "    },\n",
       "    {\n",
       "      \"data\": {\n",
       "        \"id\": \"Rainfall_Food insecurity\",\n",
       "        \"source\": \"Rainfall\",\n",
       "        \"target\": \"Food insecurity\",\n",
       "        \"linestyle\": \"dotted\",\n",
       "        \"linecolor\": \"maroon\",\n",
       "        \"targetArrowShape\": \"triangle\",\n",
       "        \"subj_adjectives\": [],\n",
       "        \"subj_polarity\": -1,\n",
       "        \"obj_adjectives\": [],\n",
       "        \"obj_polarity\": null,\n",
       "        \"tooltip\": {\n",
       "          \"document\": {\n",
       "            \"@id\": \"_:Document_1\"\n",
       "          },\n",
       "          \"documentCharInterval\": [\n",
       "            {\n",
       "              \"@type\": \"Interval\",\n",
       "              \"start\": 1,\n",
       "              \"end\": 166\n",
       "            }\n",
       "          ],\n",
       "          \"sentence\": {\n",
       "            \"@id\": \"_:Sentence_1\"\n",
       "          },\n",
       "          \"positions\": [\n",
       "            {\n",
       "              \"@type\": \"Interval\",\n",
       "              \"start\": 1,\n",
       "              \"end\": 26\n",
       "            }\n",
       "          ],\n",
       "          \"text\": \"Food insecurity levels are extremely alarming throughout the country due to conflict, a collapsing economy, low cereal production, poor rainfall in southeastern areas\"\n",
       "        },\n",
       "        \"simulable\": false\n",
       "      }\n",
       "    },\n",
       "    {\n",
       "      \"data\": {\n",
       "        \"id\": \"Cereal production_Food insecurity\",\n",
       "        \"source\": \"Cereal production\",\n",
       "        \"target\": \"Food insecurity\",\n",
       "        \"linestyle\": \"dotted\",\n",
       "        \"linecolor\": \"maroon\",\n",
       "        \"targetArrowShape\": \"triangle\",\n",
       "        \"subj_adjectives\": [],\n",
       "        \"subj_polarity\": -1,\n",
       "        \"obj_adjectives\": [],\n",
       "        \"obj_polarity\": null,\n",
       "        \"tooltip\": {\n",
       "          \"document\": {\n",
       "            \"@id\": \"_:Document_1\"\n",
       "          },\n",
       "          \"documentCharInterval\": [\n",
       "            {\n",
       "              \"@type\": \"Interval\",\n",
       "              \"start\": 1,\n",
       "              \"end\": 129\n",
       "            }\n",
       "          ],\n",
       "          \"sentence\": {\n",
       "            \"@id\": \"_:Sentence_1\"\n",
       "          },\n",
       "          \"positions\": [\n",
       "            {\n",
       "              \"@type\": \"Interval\",\n",
       "              \"start\": 1,\n",
       "              \"end\": 20\n",
       "            }\n",
       "          ],\n",
       "          \"text\": \"Food insecurity levels are extremely alarming throughout the country due to conflict, a collapsing economy, low cereal production\"\n",
       "        },\n",
       "        \"simulable\": false\n",
       "      }\n",
       "    }\n",
       "  ]\n",
       "},\n",
       "            style     : [\n",
       "  {\n",
       "    \"selector\": \"node\",\n",
       "    \"style\": {\n",
       "      \"label\": \"data(id)\",\n",
       "      \"background-color\": \"white\",\n",
       "      \"border-color\": \"maroon\",\n",
       "      \"border-width\": \"1px\",\n",
       "      \"font-family\": \"Arno Pro, Arial\",\n",
       "      \"text-halign\": \"center\",\n",
       "      \"text-valign\": \"center\",\n",
       "      \"padding\": 10,\n",
       "      \"width\": \"function( node ){ return 2*node.degree(); }\",\n",
       "      \"height\": \"function( node ){ return 2*node.degree(); }\",\n",
       "      \"shape\": \"ellipse\",\n",
       "      \"text-max-width\": 80,\n",
       "      \"text-wrap\": true\n",
       "    }\n",
       "  },\n",
       "  {\n",
       "    \"selector\": \"edge\",\n",
       "    \"style\": {\n",
       "      \"curve-style\": \"bezier\",\n",
       "      \"line-color\": \"data(linecolor)\",\n",
       "      \"target-arrow-shape\": \"data(targetArrowShape)\",\n",
       "      \"target-arrow-color\": \"data(linecolor)\",\n",
       "      \"line-style\": \"data(linestyle)\",\n",
       "      \"width\": \"1\"\n",
       "    }\n",
       "  }\n",
       "],\n",
       "            layout    : {\n",
       "  \"name\": \"cose\",\n",
       "  \"nodeDimensionsIncludeLabels\": true,\n",
       "  \"componentSpacing\": 1,\n",
       "  \"nodeOverlap\": 1000,\n",
       "  \"nodeRepulsion\": 500\n",
       "},\n",
       "            maxZoom   : 10,\n",
       "            minZoom   : 0.1,\n",
       "          });\n",
       "      });\n"
      ],
      "text/plain": [
       "<IPython.core.display.Javascript object>"
      ]
     },
     "execution_count": 41,
     "metadata": {},
     "output_type": "execute_result"
    }
   ],
   "source": [
    "from indra.assemblers.cag import CAGAssembler\n",
    "ca = CAGAssembler(ep.statements)\n",
    "ca.make_model()\n",
    "from IPython.core.display import Javascript\n",
    "Javascript(ca.generate_jupyter_js())"
   ]
  },
  {
   "cell_type": "code",
   "execution_count": 42,
   "metadata": {
    "scrolled": true
   },
   "outputs": [
    {
     "data": {
      "text/plain": [
       "{'EIDOS': [('UN/events/human/conflict', 0.8424779277137565),\n",
       "  ('UN/events/human/intervention/intervention', 0.578830287706582),\n",
       "  ('UN/entities/human/government/government_actions', 0.5698149455773452),\n",
       "  ('UN/entities/GPE', 0.5582304834451738),\n",
       "  ('UN/events/crisis', 0.5124510124752975),\n",
       "  ('UN/entities/human/government/government_entity', 0.4985052191944197),\n",
       "  ('UN/events/human/human_migration', 0.4809195217182326),\n",
       "  ('UN/entities/human/communities', 0.48044607716068743),\n",
       "  ('UN/entities/human/financial/economic/poverty', 0.47304899166174513),\n",
       "  ('UN/events/human/famine', 0.45036023380926865)],\n",
       " 'TEXT': 'conflict'}"
      ]
     },
     "execution_count": 42,
     "metadata": {},
     "output_type": "execute_result"
    }
   ],
   "source": [
    "ep.statements[1].subj.db_refs"
   ]
  },
  {
   "cell_type": "markdown",
   "metadata": {},
   "source": [
    "### Knowledge-assembly example from larger corpus\n",
    "<img src=https://raw.githubusercontent.com/sorgerlab/indra_apps/master/tutorial/static/wm_stmt_graph.png>"
   ]
  }
 ],
 "metadata": {
  "kernelspec": {
   "display_name": "Python 3",
   "language": "python",
   "name": "python3"
  },
  "language_info": {
   "codemirror_mode": {
    "name": "ipython",
    "version": 3
   },
   "file_extension": ".py",
   "mimetype": "text/x-python",
   "name": "python",
   "nbconvert_exporter": "python",
   "pygments_lexer": "ipython3",
   "version": "3.6.4"
  }
 },
 "nbformat": 4,
 "nbformat_minor": 2
}
