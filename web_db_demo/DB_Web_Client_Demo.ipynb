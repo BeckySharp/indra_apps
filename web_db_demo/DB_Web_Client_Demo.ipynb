{
 "cells": [
  {
   "cell_type": "markdown",
   "metadata": {
    "slideshow": {
     "slide_type": "slide"
    }
   },
   "source": [
    "# Introducing:\n",
    "# The INDRA Database Web Service and Client\n",
    "### By: Patrick Greene"
   ]
  },
  {
   "cell_type": "markdown",
   "metadata": {
    "slideshow": {
     "slide_type": "skip"
    }
   },
   "source": [
    "## The Web API\n",
    "As presented in a previous short talk, we have created a REST service hosted on AWS Lambda which gives access to the Statements that INDRA uses to represent knowledge. Direct calls to the service get the JSON serialization of INDRA statements, which require some work to convert back into Python objects, so we made...\n",
    "\n",
    "## The Client\n",
    "Built right into INDRA. You can instantly get Python serialized Statements using the API defined in `indra.sources.indra_db_rest`. Access to the mechinisms found in all literature is now easier than ever!"
   ]
  },
  {
   "cell_type": "code",
   "execution_count": 43,
   "metadata": {
    "slideshow": {
     "slide_type": "skip"
    }
   },
   "outputs": [],
   "source": [
    "# Some prep work\n",
    "from indra.sources import indra_db_rest as idbr\n",
    "\n",
    "def display_evidence(stmt, limit=5):\n",
    "    print(\"\\n\\033[1m%s\\033[0m\\n\" % str(stmt))\n",
    "    print('\\n\\n'.join(['pmid %s, from %s: %s' % (ev.pmid, ev.source_api.upper(), ev.text)\n",
    "                       for ev in stmt.evidence][:limit]))\n",
    "    if len(stmt.evidence) > limit:\n",
    "        print('...')"
   ]
  },
  {
   "cell_type": "markdown",
   "metadata": {
    "slideshow": {
     "slide_type": "skip"
    }
   },
   "source": [
    "### The architecture:\n",
    "\n",
    "<img src=\"REST_API_architecture.png\">"
   ]
  },
  {
   "cell_type": "markdown",
   "metadata": {
    "slideshow": {
     "slide_type": "slide"
    }
   },
   "source": [
    "## Example 1: (a la John) What is reported to dephosphorylate IRS1?\n",
    "\n",
    "This came up in John's talk, we wanted to know the possible mediator(s) of IRS1's self-regulation through dephosphorylation."
   ]
  },
  {
   "cell_type": "code",
   "execution_count": 40,
   "metadata": {
    "slideshow": {
     "slide_type": "subslide"
    }
   },
   "outputs": [
    {
     "name": "stderr",
     "output_type": "stream",
     "text": [
      "INFO: [2018-06-08 08:20:11] indra/db_rest_client - Found 41 Dephosphorylation statements.\n"
     ]
    },
    {
     "data": {
      "text/plain": [
       "[Dephosphorylation(protein tyrosine phosphatase(), IRS1(), Y),\n",
       " Dephosphorylation(PTPN11(), IRS1(), Y, 896),\n",
       " Dephosphorylation(PTPN1(), IRS1()),\n",
       " Dephosphorylation(PTPN11(), IRS1(), Y, 1179),\n",
       " Dephosphorylation(SAM(), IRS1(), Y),\n",
       " Dephosphorylation(TLR4(), IRS1()),\n",
       " Dephosphorylation(INS(), IRS1(), S),\n",
       " Dephosphorylation(ST3GAL4(), IRS1()),\n",
       " Dephosphorylation(Insulin-like growth factor(), IRS1(), Y, 612),\n",
       " Dephosphorylation(IGFBP5(), IRS1(), Y),\n",
       " Dephosphorylation(IL6(), IRS1(), Y),\n",
       " Dephosphorylation(INS(), IRS1(), Y),\n",
       " Dephosphorylation(JNK(), IRS1(), Y),\n",
       " Dephosphorylation(AG-490(), IRS1()),\n",
       " Dephosphorylation(None, IRS1()),\n",
       " Dephosphorylation(Chromium(), IRS1(), S),\n",
       " Dephosphorylation(JNK(), IRS1()),\n",
       " Dephosphorylation(N-acetyl-L-cysteine(), IRS1(), S),\n",
       " Dephosphorylation(EIF2AK2(), IRS1()),\n",
       " Dephosphorylation(L-NAME(), IRS1(), Y),\n",
       " Dephosphorylation(RA(), IRS1(), S),\n",
       " Dephosphorylation(tunicamycin(), IRS1(), Y),\n",
       " Dephosphorylation(NVP-AEW541(), IRS1()),\n",
       " Dephosphorylation(RHOA(), IRS1()),\n",
       " Dephosphorylation(Hispidin(), IRS1(), S, 307),\n",
       " Dephosphorylation(ERBB3(mods: (modification)), IRS1(), S),\n",
       " Dephosphorylation(PI3K(), IRS1(), Y),\n",
       " Dephosphorylation(MAP2K7(muts: (None, None, None)), IRS1(), Y),\n",
       " Dephosphorylation(JNK(), IRS1(), S),\n",
       " Dephosphorylation(INS(mods: (modification)), IRS1(), Y),\n",
       " Dephosphorylation(AGT(), IRS1()),\n",
       " Dephosphorylation(NDP-MSH(), IRS1(), S, 307),\n",
       " Dephosphorylation(alpha-LAH(), IRS1()),\n",
       " Dephosphorylation(epicatechin(), IRS1(), S, 307),\n",
       " Dephosphorylation(RPS6KB1(), IRS1()),\n",
       " Dephosphorylation(INSR(), IRS1(), Y),\n",
       " Dephosphorylation(MTOR(), IRS1(), S),\n",
       " Dephosphorylation([(), IRS1()),\n",
       " Dephosphorylation(INS(), IRS1(), S, 639),\n",
       " Dephosphorylation(TNF(), IRS1(), S),\n",
       " Dephosphorylation(IKK_family(), IRS1(), Y)]"
      ]
     },
     "execution_count": 40,
     "metadata": {},
     "output_type": "execute_result"
    }
   ],
   "source": [
    "# Once you've imported the indra db rest client, this is all you need to do:\n",
    "stmts = idbr.get_statements(object='IRS1', stmt_type='Dephosphorylation')\n",
    "stmts"
   ]
  },
  {
   "cell_type": "markdown",
   "metadata": {
    "slideshow": {
     "slide_type": "subslide"
    }
   },
   "source": [
    "### Evidence:\n",
    "We can see exactly what text inspired this statement by looking at the \"evidence\"."
   ]
  },
  {
   "cell_type": "code",
   "execution_count": 33,
   "metadata": {
    "slideshow": {
     "slide_type": "-"
    }
   },
   "outputs": [
    {
     "name": "stdout",
     "output_type": "stream",
     "text": [
      "\n",
      "\u001b[1mDephosphorylation(protein tyrosine phosphatase(), IRS1(), Y)\u001b[0m\n",
      "\n",
      "pmid None, from BIOPAX: None\n",
      "\n",
      "\u001b[1mDephosphorylation(PTPN11(), IRS1(), Y, 896)\u001b[0m\n",
      "\n",
      "pmid 10660596, from SIGNOR: The specific activity of four candidate protein-tyrosine phosphatases (protein-tyrosine phosphatase 1b (ptp1b), sh2 domain-containing ptpase-2 (shp-2), leukocyte common antigen-related (lar), and leukocyte antigen-related phosphatase) (lrp) toward irs-1 dephosphorylation was studied using recombinant proteins in vitro. Ptp1b exhibited the highest specific activity these results provide new insight into novel molecular interactions involving ptp1b and grb2 that may influence the steady-state capacity of irs-1 to function as a phosphotyrosine scaffold and possibly affect the balance of postreceptor insulin signaling.\n",
      "\n",
      "pmid 7515062, from SIGNOR: The specific activity of four candidate protein-tyrosine phosphatases (protein-tyrosine phosphatase 1b (ptp1b), sh2 domain-containing ptpase-2 (shp-2), leukocyte common antigen-related (lar), and leukocyte antigen-related phosphatase) (lrp) toward irs-1 dephosphorylation was studied using recombinant proteins in vitro. Ptp1b exhibited the highest specific activity these results provide new insight into novel molecular interactions involving ptp1b and grb2 that may influence the steady-state capacity of irs-1 to function as a phosphotyrosine scaffold and possibly affect the balance of postreceptor insulin signaling.\n",
      "\n",
      "\u001b[1mDephosphorylation(PTPN1(), IRS1())\u001b[0m\n",
      "\n",
      "pmid 10660596, from SIGNOR: Tyrosine dephosphorylation and deactivation of insulin receptor substrate-1 by protein-tyrosine phosphatase 1B. Possible facilitation by the formation of a ternary complex with the Grb2 adaptor protein.\n",
      "\n",
      "\u001b[1mDephosphorylation(PTPN11(), IRS1(), Y, 1179)\u001b[0m\n",
      "\n",
      "pmid 10660596, from SIGNOR: The specific activity of four candidate protein-tyrosine phosphatases (protein-tyrosine phosphatase 1b (ptp1b), sh2 domain-containing ptpase-2 (shp-2), leukocyte common antigen-related (lar), and leukocyte antigen-related phosphatase) (lrp) toward irs-1 dephosphorylation was studied using recombinant proteins in vitro. Ptp1b exhibited the highest specific activity these results provide new insight into novel molecular interactions involving ptp1b and grb2 that may influence the steady-state capacity of irs-1 to function as a phosphotyrosine scaffold and possibly affect the balance of postreceptor insulin signaling.\n",
      "\n",
      "pmid 7515062, from SIGNOR: The specific activity of four candidate protein-tyrosine phosphatases (protein-tyrosine phosphatase 1b (ptp1b), sh2 domain-containing ptpase-2 (shp-2), leukocyte common antigen-related (lar), and leukocyte antigen-related phosphatase) (lrp) toward irs-1 dephosphorylation was studied using recombinant proteins in vitro. Ptp1b exhibited the highest specific activity these results provide new insight into novel molecular interactions involving ptp1b and grb2 that may influence the steady-state capacity of irs-1 to function as a phosphotyrosine scaffold and possibly affect the balance of postreceptor insulin signaling.\n",
      "\n",
      "\u001b[1mDephosphorylation(SAM(), IRS1(), Y)\u001b[0m\n",
      "\n",
      "pmid 28338397, from REACH: NGC and SAM treatments enhanced proximal insulin signaling by decreasing serine phosphorylation of insulin receptor substrate-1 (IRS-1) and increasing its tyrosine phosphorylation.\n",
      "\n",
      "\u001b[1mDephosphorylation(TLR4(), IRS1())\u001b[0m\n",
      "\n",
      "pmid 24252331, from REACH: Activation of the transcription factor NF-kB signaling pathway and inflammatory mediator toll like receptor-4 (TLR4) signaling via the serine kinase inhibitor kappaB kinase B (IKKB) activation may disrupt insulin signaling via inhibition of insulin receptor substrate 1, Akt (protein kinase B), and eNOS phosphorylation.\n",
      "\n",
      "\u001b[1mDephosphorylation(INS(), IRS1(), S)\u001b[0m\n",
      "\n",
      "pmid 21185755, from REACH: It also diminished insulin stimulated tyrosine phosphorylation of IRS1 and serine phosphorylation of Akt without affecting the phosphorylation of IR, ERK1/2, p38, or JNK.\n",
      "\n",
      "\u001b[1mDephosphorylation(ST3GAL4(), IRS1())\u001b[0m\n",
      "\n",
      "pmid 24719136, from REACH: XREF_BIBR, XREF_BIBR As shown in our data, STZ inhibits phosphorylation of IRS-1 in rats.\n",
      "\n",
      "\u001b[1mDephosphorylation(Insulin-like growth factor(), IRS1(), Y, 612)\u001b[0m\n",
      "\n",
      "pmid 21939528, from REACH: Insulin like growth factor type I receptor inhibition facilitates insulin receptor substrate 1 association with erbB3 and promotes heregulin beta1 induced phosphorylation of insulin receptor substrate 1 Y612 in MCF-7 and T47D cells.\n",
      "\n",
      "\u001b[1mDephosphorylation(IGFBP5(), IRS1(), Y)\u001b[0m\n",
      "\n",
      "pmid 9731744, from REACH: When added in the presence of 30 ng/ml IGF-I, IGFBP-5 (250 ng/ml) inhibited all markers of the early proliferative response : the tyrosine phosphorylation of the cytoplasmic signaling molecules IRS-1 and Shc, the activation of the MAP kinases, ERK1 and 2, the elevation of c-fos mRNA, the early inhibition of the elevation in myogenin mRNA, and the increase in cell number.\n",
      "\n",
      "\u001b[1mDephosphorylation(IL6(), IRS1(), Y)\u001b[0m\n",
      "\n",
      "pmid 23476101, from REACH: Meanwhile, many studies find that IL-6 could increase the expression of cytokine signaling-3 (SOCS3) via activation of JAK-STAT signaling pathway in adipocytes to inhibit tyrosine phosphorylation of insulin receptor substrate (IRS-1), leading to impaired insulin signaling [XREF_BIBR - XREF_BIBR].\n",
      "\n",
      "\u001b[1mDephosphorylation(INS(), IRS1(), Y)\u001b[0m\n",
      "\n",
      "pmid 26099503, from REACH: Compared with control cells, INS-1 cells overexpressing PTP1B showed decrease in insulin stimulated tyrosine phosphorylation of the insulin receptor (IR) and insulin receptor substrate-1 (IRS-1) by 56.4% and 53.1%, respectively.\n",
      "\n",
      "pmid 18949383, from REACH: In the present study, we demonstrated that TNFalpha-IKKbeta-mediated inactivation of TSC1 resulted in increasing phosphorylation of IRS1 serine 307 and serine 636/639, impaired insulin induced glucose uptake, tyrosine phosphorylation of IRS1, and the association between IRS1 and PI3K p85.\n",
      "\n",
      "pmid 20361178, from REACH: Reduced plasma NEFA levels correlate closely with improved insulin stimulated muscle glucose disposal and decreased hepatic glucose production.In type 2 diabetic patients, impaired insulin stimulated IRS-1 tyrosine phosphorylation and PI 3 kinase activity [XREF_BIBR] are improved by rosiglitazone [XREF_BIBR], with enhanced insulin signalling correlating closely with reduced plasma NEFA.\n",
      "\n",
      "pmid 15522123, from REACH: The data showed that treatment with DesCoA induced HDAC2 to bind to IRS-1 to a similar extent to phorbol ester, which was coincident with reduced insulin stimulated tyrosine phosphorylation of IRS-1.\n",
      "\n",
      "pmid 9525995, from REACH: Concurrently, amino acids inhibit early steps in insulin action critical for glucose transport and inhibition of gluconeogenesis, including decreased insulin stimulated tyrosine phosphorylation of IRS-1 and IRS-2, decreased binding of grb 2 and the p85 subunit of phosphatidylinositol 3-kinase to IRS-1 and IRS-2, and a marked inhibition of insulin stimulated phosphatidylinositol 3-kinase.\n",
      "\n",
      "\u001b[1mDephosphorylation(JNK(), IRS1(), Y)\u001b[0m\n",
      "\n",
      "pmid 28677618, from REACH: The phosphorylation of JNK impairs the phosphorylation of tyrosine residues of the IRS-1 and subsequently inhibits AKT activation by insulin in HFD fed rodents [XREF_BIBR].\n",
      "\n",
      "\u001b[1mDephosphorylation(AG-490(), IRS1())\u001b[0m\n",
      "\n",
      "pmid 17496209, from REACH: The specific JAK2 inhibitor AG-490 blocked ANG-(1-7)-induced JAK2 and IRS-1 phosphorylation but had no effect on ANG-(1-7)-induced phosphorylation of Akt, indicating that activation of cardiac Akt by ANG-(1-7) appears not to involve the recruitment of JAK2 but proceeds through the receptor Mas and involves PI3K.\n",
      "\n",
      "\u001b[1mDephosphorylation(None, IRS1())\u001b[0m\n",
      "\n",
      "pmid 11278339, from SPARSER: IRS-1 complexes and the rate of Tyr dephosphorylation of IRS-1.\n",
      "\n",
      "pmid 9921276, from SPARSER: While the effect of the IRS-1/SHPTP2 association on insulin signal transduction is not completely known, this association may dephosphorylate IRS-1 and may play a critical role in the mitogenic actions of insulin.\n",
      "\n",
      "pmid 9794462, from SPARSER: This drug effect was paralleled by a significant dephosphorylation of IRS-1 on Ser/Thr.\n",
      "\n",
      "\u001b[1mDephosphorylation(Chromium(), IRS1(), S)\u001b[0m\n",
      "\n",
      "pmid 21243441, from REACH: Chromium glycinate, acetate, and propionate decreased the amount of IRS-1 phosphorylated at serine.\n",
      "\n",
      "\u001b[1mDephosphorylation(JNK(), IRS1())\u001b[0m\n",
      "\n",
      "pmid 29642178, from REACH: In this study, experiments on animal and cellular indicated that LECT2 induces insulin resistance in the skeletal muscle by activating c-Jun N-terminal kinase (JNK), which can inhibit the phosphorylation of insulin receptor substrates-1 (IRS-1).\n",
      "\n",
      "\u001b[1mDephosphorylation(N-acetyl-L-cysteine(), IRS1(), S)\u001b[0m\n",
      "\n",
      "pmid 24824652, from REACH: An antioxidant, N-acetyl-L-cysteine (NAC), prevented IH induced hepatic insulin resistance in parallel with prevention of decreased IkappaBalpha content, increased JNK phosphorylation (markers of IKKbeta and JNK activation, respectively), increased serine phosphorylation of IRS-1 and IRS-2, and impaired insulin signaling in the liver without affecting IH induced hepatic PKCdelta activation.\n",
      "\n",
      "\u001b[1mDephosphorylation(EIF2AK2(), IRS1())\u001b[0m\n",
      "\n",
      "pmid 20685959, from REACH: First, PKR induces phosphorylation of IRS1 at Ser312 and suppresses tyrosine phosphorylation of IRS1, mediated by the IRS kinases, JNK and IKK.\n",
      "\n",
      "\u001b[1mDephosphorylation(L-NAME(), IRS1(), Y)\u001b[0m\n",
      "\n",
      "pmid 17584959, from REACH: Insulin stimulated tyrosine phosphorylation of insulin receptor substrate-1 and serine phosphorylation of Akt and Akt2 in soleus muscle was markedly impaired in HFD fed mice but reversed by L-NAME treatment.\n",
      "\n",
      "\u001b[1mDephosphorylation(RA(), IRS1(), S)\u001b[0m\n",
      "\n",
      "pmid 15516986, from REACH: Two PKC inhibitors, but not a MAPK inhibitor, blocked the RA induced degradation and serine phosphorylation of IRS-1.\n",
      "\n",
      "\u001b[1mDephosphorylation(tunicamycin(), IRS1(), Y)\u001b[0m\n",
      "\n",
      "pmid 28941626, from REACH: Levels of serine phosphorylation of IRS-1, TRIB3, Atg5/7, LC3B and the autophagy adaptor p62 were significantly upregulated while IRS-1 tyrosine phosphorylation was reduced by tunicamycin, the effect of which were obliterated by PTP1B ablation.\n",
      "\n",
      "\u001b[1mDephosphorylation(NVP-AEW541(), IRS1())\u001b[0m\n",
      "\n",
      "pmid 25202993, from REACH: However, the pre-treated NVP-AEW541 significantly suppressed the phosphorylation of IRS-1 induced by IGF1 (XREF_FIG A).\n",
      "\n",
      "\u001b[1mDephosphorylation(RHOA(), IRS1())\u001b[0m\n",
      "\n",
      "pmid 25892096, from REACH: RhoA and Rho associated protein kinase (ROCK) inhibit the phosphorylation of insulin receptor substrate 1 (IRS-1), which is the crucial step in IGF-1 signaling favoring osteoblast differentiation.\n",
      "\n",
      "\u001b[1mDephosphorylation(Hispidin(), IRS1(), S, 307)\u001b[0m\n",
      "\n",
      "pmid 28731188, from REACH: Hispidin suppressed insulin receptor substrate-1 Ser307 phosphorylation, and significantly promoted the activation of phosphatidylinositol-3-kinase and Akt, via inhibition of protein kinase C theta.\n",
      "\n",
      "\u001b[1mDephosphorylation(ERBB3(mods: (modification)), IRS1(), S)\u001b[0m\n",
      "\n",
      "pmid 21386087, from REACH: Similarly, simultaneous downregulation of ErbB2 and ErbB3 expression in Fao cells attenuated AN stimulated IRS-1 Ser phosphorylation, despite intact AN induced p38MAPK activation (XREF_FIG).\n",
      "\n",
      "\u001b[1mDephosphorylation(PI3K(), IRS1(), Y)\u001b[0m\n",
      "\n",
      "pmid 11756318, from REACH: Furthermore, we show that redistribution of PI 3-kinase to the insulin receptor increases insulin stimulated IRS-1 serine phosphorylation, impairs IRS-1 expression and its tyrosine phosphorylation, and decreases the ability of IRS-1 to bind and activate PI 3-kinase in response to insulin.\n",
      "\n",
      "\u001b[1mDephosphorylation(MAP2K7(muts: (None, None, None)), IRS1(), Y)\u001b[0m\n",
      "\n",
      "pmid 12554784, from REACH: Finally, the MKK7 mutant, which activates JNK, reduced tyrosine phosphorylation of IRS-1 and IRS-2 and IRS associated PI3K activity without affecting expression of the IR, IRS-1, or IRS-2.\n",
      "\n",
      "\u001b[1mDephosphorylation(JNK(), IRS1(), S)\u001b[0m\n",
      "\n",
      "pmid 19208352, from REACH: In addition, our data suggest that the mechanism responsible for the increase in insulin signaling involves down-regulation of JNK, which inhibits IRS-1 serine phosphorylation and the proximal component of the insulin signaling cascade XREF_BIBR.\n",
      "\n",
      "\u001b[1mDephosphorylation(INS(mods: (modification)), IRS1(), Y)\u001b[0m\n",
      "\n",
      "pmid 23983791, from REACH: Although the insulin response of the vehicle treated cells was similar to that of the untreated cells, a 2h naringenin pretreatment resulted in a significantly lower level of insulin induced IRS-1 tyrosine phosphorylation.\n",
      "\n",
      "\u001b[1mDephosphorylation(AGT(), IRS1())\u001b[0m\n",
      "\n",
      "pmid 20601126, from REACH: Importantly, reduction of PTP-1B expression by this antisense inhibited the blockade action of Ang II on insulin induced tyrosine phosphorylation of IRS-1 (XREF_FIG).\n",
      "\n",
      "pmid 23942780, from REACH: Mechanistically, Ang II, by AT1R, impairs the phosphorylation of insulin receptor substrate 1 (IRS-1) by alternative phosphorylation on a serine, instead of a tyrosine residue, thereby decreasing phosphatidylinositol 3-kinase (PI3K) activity and enhancing mitogen activated protein kinase (MAPK) pathways.\n",
      "\n",
      "\u001b[1mDephosphorylation(NDP-MSH(), IRS1(), S, 307)\u001b[0m\n",
      "\n",
      "pmid 19463742, from REACH: The above results are consistent with an interpretation that NDP-MSH inhibits JNK activity and IRS-1 ser307 phosphorylation by activating MC4R.\n",
      "\n",
      "\u001b[1mDephosphorylation(alpha-LAH(), IRS1())\u001b[0m\n",
      "\n",
      "pmid 29473848, from REACH: Bovine alpha-LAH also suppresses IRS-1 phosphorylation, enhances Akt phosphorylation, and inhibits the activation of IKK and MAPK signaling pathways in the adipose tissues of HFD fed C57BL/6J mice, which may contribute to its protective effects against insulin resistance and inflammation.\n",
      "\n",
      "\u001b[1mDephosphorylation(epicatechin(), IRS1(), S, 307)\u001b[0m\n",
      "\n",
      "pmid 22191431, from REACH: Moreover, we found that after 5 h of palmitate incubation, epicatechin gallate (ECG) can suppress IRS-1 Ser307 phosphorylation and significantly promote Akt, ERK1/2, p38 MAPK, and AMP activated protein kinase activation.\n",
      "\n",
      "\u001b[1mDephosphorylation(RPS6KB1(), IRS1())\u001b[0m\n",
      "\n",
      "pmid 21145457, from REACH: We do not observe any alteration in S6K1 mediated inhibitory phosphorylation of S636 and S639 IRS1 under these conditions (data not shown).\n",
      "\n",
      "\u001b[1mDephosphorylation(INSR(), IRS1(), Y)\u001b[0m\n",
      "\n",
      "pmid 20388825, from REACH: Ad vector infection significantly reduced total levels of the insulin receptor (IR), and insulin receptor substrates 1 and 2 (IRS-1, IRS-2) in the liver of rats, resulting in decreased insulin induced tyrosine phosphorylation of IR, IRS-1, and IRS-2, and decreased interaction of IRS-1 and IRS-2 with phosphoinositide 3-kinase (PI3K).\n",
      "\n",
      "\u001b[1mDephosphorylation(MTOR(), IRS1(), S)\u001b[0m\n",
      "\n",
      "pmid 18949383, from REACH: For instance, activation of the mTOR pathway suppresses insulin signaling by modulating the serine phosphorylation of IRS1, which serves as a feedback regulator of the insulin signaling pathway.\n",
      "\n",
      "\u001b[1mDephosphorylation([(), IRS1())\u001b[0m\n",
      "\n",
      "pmid 26956053, from REACH: Treatment with GNE-652, a small molecule pan-Pim inhibitor [XREF_BIBR, XREF_BIBR, XREF_BIBR], markedly inhibited the phosphorylation of wild type IRS1.\n",
      "\n",
      "\u001b[1mDephosphorylation(INS(), IRS1(), S, 639)\u001b[0m\n",
      "\n",
      "pmid 15604215, from REACH: Inhibition of mTOR and S6K1 by rapamycin blunted insulin induced Ser636 and Ser639 phosphorylation of IRS-1, leading to a rapid (approximately 5 min) and persistent increase in IRS-1-associated phosphatidylinositol 3-kinase activity and Akt phosphorylation.\n",
      "\n",
      "\u001b[1mDephosphorylation(TNF(), IRS1(), S)\u001b[0m\n",
      "\n",
      "pmid 25472042, from REACH: Impaired insulin signaling results from TNFalpha promotion of serine phosphorylation of insulin receptor substrate 1 (IRS-1) and reduced expression of Glucose Transporter 4 (GLUT 4).\n",
      "\n",
      "\u001b[1mDephosphorylation(IKK_family(), IRS1(), Y)\u001b[0m\n",
      "\n",
      "pmid 20685959, from REACH: First, PKR induces phosphorylation of IRS1 at Ser312 and suppresses tyrosine phosphorylation of IRS1, mediated by the IRS kinases, JNK and IKK.\n"
     ]
    }
   ],
   "source": [
    "# Print out the evidence prettily\n",
    "for stmt in stmts:\n",
    "    display_evidence(stmt)"
   ]
  },
  {
   "cell_type": "markdown",
   "metadata": {
    "slideshow": {
     "slide_type": "slide"
    }
   },
   "source": [
    "## Example 2: (a la Lily) What regulates GAB1?\n",
    "\n",
    "In a recent talk at a Sorger Lab meeting, it came up that we just don't know what regulates GAB1. Now it's trivial to find out:"
   ]
  },
  {
   "cell_type": "code",
   "execution_count": 51,
   "metadata": {
    "slideshow": {
     "slide_type": "subslide"
    }
   },
   "outputs": [
    {
     "name": "stderr",
     "output_type": "stream",
     "text": [
      "INFO: [2018-06-08 08:55:00] indra/db_rest_client - Found 14 DecreaseAmount statements.\n",
      "INFO: [2018-06-08 08:55:01] indra/db_rest_client - Found 11 IncreaseAmount statements.\n",
      "INFO: [2018-06-08 08:55:01] indra/db_rest_client - Found 0 Influence statements.\n",
      "INFO: [2018-06-08 08:55:02] indra/db_rest_client - Found 0 RegulateAmount statements.\n"
     ]
    },
    {
     "data": {
      "text/plain": [
       "[DecreaseAmount(hsa-miR-30c-5p(transcription), GAB1()),\n",
       " DecreaseAmount(hsa-miR-30d-5p(transcription), GAB1()),\n",
       " DecreaseAmount(hsa-miR-93-5p(transcription), GAB1()),\n",
       " DecreaseAmount(NOG(transcription), GAB1()),\n",
       " DecreaseAmount(hsa-miR-519d-3p(transcription), GAB1()),\n",
       " DecreaseAmount(hsa-miR-30e-5p(transcription), GAB1()),\n",
       " DecreaseAmount(hsa-miR-30b-5p(transcription), GAB1()),\n",
       " DecreaseAmount(hsa-miR-17-5p(transcription), GAB1()),\n",
       " DecreaseAmount(gefitinib(), GAB1(bound: [PIK3R2, True])),\n",
       " DecreaseAmount(hsa-miR-181d-5p(transcription), GAB1()),\n",
       " DecreaseAmount(hsa-miR-20a-5p(transcription), GAB1()),\n",
       " DecreaseAmount(hsa-miR-20b-5p(transcription), GAB1()),\n",
       " DecreaseAmount(hsa-miR-106b-5p(transcription), GAB1()),\n",
       " DecreaseAmount(hsa-miR-30a-5p(transcription), GAB1()),\n",
       " IncreaseAmount(EGF(), GAB1()),\n",
       " IncreaseAmount(EGFR(kinase), GAB1(bound: [GRB2, True], bound: [SHC1, True])),\n",
       " IncreaseAmount(EGFR(kinase), GAB1(bound: [SYP, True])),\n",
       " IncreaseAmount(ERK(), GAB1()),\n",
       " IncreaseAmount(IL6ST(catalytic), GAB1(bound: [PIK3R1, True])),\n",
       " IncreaseAmount(IL6ST(catalytic), GAB1(bound: [PTPN11, True])),\n",
       " IncreaseAmount(INSR(kinase), GAB1(bound: [PIK3R1, True])),\n",
       " IncreaseAmount(HGF(), GAB1()),\n",
       " IncreaseAmount(EGFR(bound: [ERBB2, True]), GAB1()),\n",
       " IncreaseAmount(GH1(), GAB1(bound: [PTPN11, True])),\n",
       " IncreaseAmount(IL6(), GAB1(bound: [PTPN11, True]))]"
      ]
     },
     "execution_count": 51,
     "metadata": {},
     "output_type": "execute_result"
    }
   ],
   "source": [
    "idbr.get_statements(object='GAB1', stmt_type='RegulateAmount')"
   ]
  },
  {
   "cell_type": "markdown",
   "metadata": {
    "slideshow": {
     "slide_type": "slide"
    }
   },
   "source": [
    "## Example 3: What is known about the mechanisms of LKB1?\n",
    "\n",
    "We recently had a talk by Lee Albecker, who studies LKB1 (STK11) function at Foundation Medicine where this came up."
   ]
  },
  {
   "cell_type": "code",
   "execution_count": 41,
   "metadata": {
    "slideshow": {
     "slide_type": "subslide"
    }
   },
   "outputs": [
    {
     "data": {
      "text/plain": [
       "[Activation(STK11(), AMPK()),\n",
       " Phosphorylation(STK11(), AMPK(), T, 172),\n",
       " Phosphorylation(STK11(), AMPK()),\n",
       " Inhibition(STK11(), AMPK()),\n",
       " Phosphorylation(STK11(mods: (modification)), AMPK()),\n",
       " Dephosphorylation(STK11(), AMPK()),\n",
       " Phosphorylation(STK11(mods: (phosphorylation, S, 307)), AMPK(), T, 172),\n",
       " Inhibition(STK11(bound: [orphan nuclear receptor, True]), AMPK())]"
      ]
     },
     "execution_count": 41,
     "metadata": {},
     "output_type": "execute_result"
    }
   ],
   "source": [
    "stmts = idbr.get_statements(subject='STK11', object='AMPK@FPLX')\n",
    "stmts"
   ]
  },
  {
   "cell_type": "code",
   "execution_count": 46,
   "metadata": {
    "slideshow": {
     "slide_type": "subslide"
    }
   },
   "outputs": [
    {
     "name": "stdout",
     "output_type": "stream",
     "text": [
      "\n",
      "\u001b[1mPhosphorylation(STK11(), AMPK(), T, 172)\u001b[0m\n",
      "\n",
      "pmid 22315316, from REACH: The main upstream AMPK kinases are the tumor suppressor liver kinase B1 (LKB1) and Ca 2+ / calmodulin dependent protein kinase kinase alpha and beta (CaMKKalpha and CaMKKbeta), which phosphorylate AMPK at Thr 172.\n",
      "\n",
      "pmid 18593953, from SPARSER: AMPK is phosphorylated on Thr172 by constitutively active LKB1, a reaction that occurs due to conformational changes induced in the γ regulatory subunit of AMPK by its binding of AMP, an event that occurs with greater prevalence when the ratio of AMP/ATP increases within the cell ( xref ).\n",
      "\n",
      "pmid 26856538, from REACH: The functional LKB1 complex, which consists of LKB1 and two accessory subunits (STRAD and MO25), phosphorylate threonine 172 (T172) of AMPK.\n",
      "\n",
      "pmid 23110147, from REACH: We observe an increase in the AMP and ATP ratio, which promotes the phosphorylation of AMPK on Thr172 by the protein kinase LKB1.\n",
      "\n",
      "pmid 24119841, from REACH: However, the cyclic nucleotide cAMP has been reported to regulate the Epac (exchange protein directly activated by cAMP) family, which are guanine nucleotide exchange factors (GEFs) able to influence LKB1 mediated control of AMPK T172 phosphorylation.\n",
      "\n",
      "pmid 18812171, from REACH: Activation of AMPK by MEDICA or LCFA is accounted for by (a) decreased intracellular ATP and AMP ratio and energy charge by the free acid, (b) activation of LKB1 phosphorylation of AMPK (Thr172) by the acyl-CoA thioester.\n"
     ]
    }
   ],
   "source": [
    "display_evidence(stmts[1], limit=20)"
   ]
  },
  {
   "cell_type": "markdown",
   "metadata": {
    "slideshow": {
     "slide_type": "slide"
    }
   },
   "source": [
    "## Example 4: Look up the statements from a paper!\n",
    "\n",
    "Soon, this will even extend to finding papers relevant to a statement."
   ]
  },
  {
   "cell_type": "code",
   "execution_count": 47,
   "metadata": {
    "slideshow": {
     "slide_type": "fragment"
    }
   },
   "outputs": [
    {
     "data": {
      "text/plain": [
       "[Dephosphorylation(INS(), IRS1(), S), Phosphorylation(None, IRS1())]"
      ]
     },
     "execution_count": 47,
     "metadata": {},
     "output_type": "execute_result"
    }
   ],
   "source": [
    "stmts = idbr.get_statements_for_paper(21185755)\n",
    "stmts"
   ]
  },
  {
   "cell_type": "code",
   "execution_count": 48,
   "metadata": {
    "slideshow": {
     "slide_type": "fragment"
    }
   },
   "outputs": [
    {
     "name": "stdout",
     "output_type": "stream",
     "text": [
      "\n",
      "\u001b[1mDephosphorylation(INS(), IRS1(), S)\u001b[0m\n",
      "\n",
      "pmid 21185755, from REACH: It also diminished insulin stimulated tyrosine phosphorylation of IRS1 and serine phosphorylation of Akt without affecting the phosphorylation of IR, ERK1/2, p38, or JNK.\n",
      "\n",
      "\u001b[1mPhosphorylation(None, IRS1())\u001b[0m\n",
      "\n",
      "pmid 21185755, from SPARSER: It also diminished insulin-stimulated tyrosine phosphorylation of IRS1 and serine phosphorylation of Akt without affecting the phosphorylation of IR, ERK1/2, p38, or JNK.\n"
     ]
    }
   ],
   "source": [
    "for stmt in stmts:\n",
    "    display_evidence(stmt)"
   ]
  },
  {
   "cell_type": "markdown",
   "metadata": {
    "slideshow": {
     "slide_type": "slide"
    }
   },
   "source": [
    "## Coming soon:\n",
    "\n",
    "- Getting papers with as detailed or more detailed information on a statement\n",
    "- Get statements that support, or are supported by a any statement that is included in the database\n",
    "- INDRA \"Google\": a website where you can enter questions about protein mechanisms and get answers! We will also develop a Slack bot, which will act on the same premise."
   ]
  }
 ],
 "metadata": {
  "celltoolbar": "Slideshow",
  "kernelspec": {
   "display_name": "Python 3",
   "language": "python",
   "name": "python3"
  },
  "language_info": {
   "codemirror_mode": {
    "name": "ipython",
    "version": 3
   },
   "file_extension": ".py",
   "mimetype": "text/x-python",
   "name": "python",
   "nbconvert_exporter": "python",
   "pygments_lexer": "ipython3",
   "version": "3.5.2"
  }
 },
 "nbformat": 4,
 "nbformat_minor": 2
}
