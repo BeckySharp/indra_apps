{
 "cells": [
  {
   "cell_type": "markdown",
   "metadata": {
    "slideshow": {
     "slide_type": "slide"
    }
   },
   "source": [
    "# Introducing:\n",
    "# The INDRA Database Web Service and Client\n",
    "### By: Patrick Greene"
   ]
  },
  {
   "cell_type": "markdown",
   "metadata": {
    "slideshow": {
     "slide_type": "skip"
    }
   },
   "source": [
    "## The Web API\n",
    "As presented in a previous short talk, we have created a REST service hosted on AWS Lambda which gives access to the Statements that INDRA uses to represent knowledge. Direct calls to the service get the JSON serialization of INDRA statements, which require some work to convert back into Python objects, so we made...\n",
    "\n",
    "## The Client\n",
    "Built right into INDRA. You can instantly get Python serialized Statements using the API defined in `indra.sources.indra_db_rest`. Access to the mechinisms found in all literature is now easier than ever!"
   ]
  },
  {
   "cell_type": "code",
   "execution_count": 1,
   "metadata": {
    "slideshow": {
     "slide_type": "skip"
    }
   },
   "outputs": [],
   "source": [
    "# Some prep work\n",
    "from indra.sources import indra_db_rest as idbr\n",
    "\n",
    "def display_evidence(stmt, limit=5):\n",
    "    print(\"\\n\\033[1m%s\\033[0m\\n\" % str(stmt))\n",
    "    print('\\n\\n'.join(['pmid %s, from %s: %s' % (ev.pmid, ev.source_api.upper(), ev.text)\n",
    "                       for ev in stmt.evidence][:5]))\n",
    "    if len(stmt.evidence) > limit:\n",
    "        print('...')"
   ]
  },
  {
   "cell_type": "markdown",
   "metadata": {
    "slideshow": {
     "slide_type": "skip"
    }
   },
   "source": [
    "### The architecture:\n",
    "\n",
    "<img src=\"REST_API_architecture.png\">"
   ]
  },
  {
   "cell_type": "markdown",
   "metadata": {
    "slideshow": {
     "slide_type": "slide"
    }
   },
   "source": [
    "## Example 1: (a la John) What is reported to dephosphorylate IRS1?\n",
    "\n",
    "This came up in John's talk, we wanted to know the possible mediator(s) of IRS1's self-regulation through dephosphorylation."
   ]
  },
  {
   "cell_type": "code",
   "execution_count": 9,
   "metadata": {
    "slideshow": {
     "slide_type": "subslide"
    }
   },
   "outputs": [
    {
     "name": "stderr",
     "output_type": "stream",
     "text": [
      "INFO: [2018-06-07 16:40:33] indra/db_rest_client - Found 19 Dephosphorylation statements.\n"
     ]
    },
    {
     "data": {
      "text/plain": [
       "[Dephosphorylation(protein tyrosine phosphatase(), IRS1(), Y),\n",
       " Dephosphorylation(PTPN11(), IRS1(), Y, 896),\n",
       " Dephosphorylation(PTPN1(), IRS1()),\n",
       " Dephosphorylation(PTPN11(), IRS1(), Y, 1179),\n",
       " Dephosphorylation(SAM(), IRS1(), Y),\n",
       " Dephosphorylation(TLR4(), IRS1()),\n",
       " Dephosphorylation(INS(), IRS1(), S),\n",
       " Dephosphorylation(ST3GAL4(), IRS1()),\n",
       " Dephosphorylation(Insulin-like growth factor(), IRS1(), Y, 612),\n",
       " Dephosphorylation(IGFBP5(), IRS1(), Y),\n",
       " Dephosphorylation(IL6(), IRS1(), Y),\n",
       " Dephosphorylation(INS(), IRS1(), Y),\n",
       " Dephosphorylation(JNK(), IRS1(), Y),\n",
       " Dephosphorylation(AG-490(), IRS1()),\n",
       " Dephosphorylation(None, IRS1()),\n",
       " Dephosphorylation(Chromium(), IRS1(), S),\n",
       " Dephosphorylation(JNK(), IRS1()),\n",
       " Dephosphorylation(N-acetyl-L-cysteine(), IRS1(), S),\n",
       " Dephosphorylation(EIF2AK2(), IRS1())]"
      ]
     },
     "execution_count": 9,
     "metadata": {},
     "output_type": "execute_result"
    }
   ],
   "source": [
    "# Once you've imported the indra db rest client, this is all you need to do:\n",
    "stmts = idbr.get_statements(object='IRS1', stmt_type='Dephosphorylation')\n",
    "stmts"
   ]
  },
  {
   "cell_type": "markdown",
   "metadata": {
    "slideshow": {
     "slide_type": "subslide"
    }
   },
   "source": [
    "### Evidence:\n",
    "We can see exactly what text inspired this statement by looking at the \"evidence\"."
   ]
  },
  {
   "cell_type": "code",
   "execution_count": 10,
   "metadata": {
    "slideshow": {
     "slide_type": "-"
    }
   },
   "outputs": [
    {
     "name": "stdout",
     "output_type": "stream",
     "text": [
      "\n",
      "\u001b[1mDephosphorylation(protein tyrosine phosphatase(), IRS1(), Y)\u001b[0m\n",
      "\n",
      "pmid None, from BIOPAX: None\n",
      "\n",
      "\u001b[1mDephosphorylation(PTPN11(), IRS1(), Y, 896)\u001b[0m\n",
      "\n",
      "pmid 10660596, from SIGNOR: The specific activity of four candidate protein-tyrosine phosphatases (protein-tyrosine phosphatase 1b (ptp1b), sh2 domain-containing ptpase-2 (shp-2), leukocyte common antigen-related (lar), and leukocyte antigen-related phosphatase) (lrp) toward irs-1 dephosphorylation was studied using recombinant proteins in vitro. Ptp1b exhibited the highest specific activity these results provide new insight into novel molecular interactions involving ptp1b and grb2 that may influence the steady-state capacity of irs-1 to function as a phosphotyrosine scaffold and possibly affect the balance of postreceptor insulin signaling.\n",
      "\n",
      "pmid 7515062, from SIGNOR: The specific activity of four candidate protein-tyrosine phosphatases (protein-tyrosine phosphatase 1b (ptp1b), sh2 domain-containing ptpase-2 (shp-2), leukocyte common antigen-related (lar), and leukocyte antigen-related phosphatase) (lrp) toward irs-1 dephosphorylation was studied using recombinant proteins in vitro. Ptp1b exhibited the highest specific activity these results provide new insight into novel molecular interactions involving ptp1b and grb2 that may influence the steady-state capacity of irs-1 to function as a phosphotyrosine scaffold and possibly affect the balance of postreceptor insulin signaling.\n",
      "\n",
      "\u001b[1mDephosphorylation(PTPN1(), IRS1())\u001b[0m\n",
      "\n",
      "pmid 10660596, from SIGNOR: Tyrosine dephosphorylation and deactivation of insulin receptor substrate-1 by protein-tyrosine phosphatase 1B. Possible facilitation by the formation of a ternary complex with the Grb2 adaptor protein.\n",
      "\n",
      "\u001b[1mDephosphorylation(PTPN11(), IRS1(), Y, 1179)\u001b[0m\n",
      "\n",
      "pmid 10660596, from SIGNOR: The specific activity of four candidate protein-tyrosine phosphatases (protein-tyrosine phosphatase 1b (ptp1b), sh2 domain-containing ptpase-2 (shp-2), leukocyte common antigen-related (lar), and leukocyte antigen-related phosphatase) (lrp) toward irs-1 dephosphorylation was studied using recombinant proteins in vitro. Ptp1b exhibited the highest specific activity these results provide new insight into novel molecular interactions involving ptp1b and grb2 that may influence the steady-state capacity of irs-1 to function as a phosphotyrosine scaffold and possibly affect the balance of postreceptor insulin signaling.\n",
      "\n",
      "pmid 7515062, from SIGNOR: The specific activity of four candidate protein-tyrosine phosphatases (protein-tyrosine phosphatase 1b (ptp1b), sh2 domain-containing ptpase-2 (shp-2), leukocyte common antigen-related (lar), and leukocyte antigen-related phosphatase) (lrp) toward irs-1 dephosphorylation was studied using recombinant proteins in vitro. Ptp1b exhibited the highest specific activity these results provide new insight into novel molecular interactions involving ptp1b and grb2 that may influence the steady-state capacity of irs-1 to function as a phosphotyrosine scaffold and possibly affect the balance of postreceptor insulin signaling.\n",
      "\n",
      "\u001b[1mDephosphorylation(SAM(), IRS1(), Y)\u001b[0m\n",
      "\n",
      "pmid 28338397, from REACH: NGC and SAM treatments enhanced proximal insulin signaling by decreasing serine phosphorylation of insulin receptor substrate-1 (IRS-1) and increasing its tyrosine phosphorylation.\n",
      "\n",
      "\u001b[1mDephosphorylation(TLR4(), IRS1())\u001b[0m\n",
      "\n",
      "pmid 24252331, from REACH: Activation of the transcription factor NF-kB signaling pathway and inflammatory mediator toll like receptor-4 (TLR4) signaling via the serine kinase inhibitor kappaB kinase B (IKKB) activation may disrupt insulin signaling via inhibition of insulin receptor substrate 1, Akt (protein kinase B), and eNOS phosphorylation.\n",
      "\n",
      "\u001b[1mDephosphorylation(INS(), IRS1(), S)\u001b[0m\n",
      "\n",
      "pmid 21185755, from REACH: It also diminished insulin stimulated tyrosine phosphorylation of IRS1 and serine phosphorylation of Akt without affecting the phosphorylation of IR, ERK1/2, p38, or JNK.\n",
      "\n",
      "\u001b[1mDephosphorylation(ST3GAL4(), IRS1())\u001b[0m\n",
      "\n",
      "pmid 24719136, from REACH: XREF_BIBR, XREF_BIBR As shown in our data, STZ inhibits phosphorylation of IRS-1 in rats.\n",
      "\n",
      "\u001b[1mDephosphorylation(Insulin-like growth factor(), IRS1(), Y, 612)\u001b[0m\n",
      "\n",
      "pmid 21939528, from REACH: Insulin like growth factor type I receptor inhibition facilitates insulin receptor substrate 1 association with erbB3 and promotes heregulin beta1 induced phosphorylation of insulin receptor substrate 1 Y612 in MCF-7 and T47D cells.\n",
      "\n",
      "\u001b[1mDephosphorylation(IGFBP5(), IRS1(), Y)\u001b[0m\n",
      "\n",
      "pmid 9731744, from REACH: When added in the presence of 30 ng/ml IGF-I, IGFBP-5 (250 ng/ml) inhibited all markers of the early proliferative response : the tyrosine phosphorylation of the cytoplasmic signaling molecules IRS-1 and Shc, the activation of the MAP kinases, ERK1 and 2, the elevation of c-fos mRNA, the early inhibition of the elevation in myogenin mRNA, and the increase in cell number.\n",
      "\n",
      "\u001b[1mDephosphorylation(IL6(), IRS1(), Y)\u001b[0m\n",
      "\n",
      "pmid 23476101, from REACH: Meanwhile, many studies find that IL-6 could increase the expression of cytokine signaling-3 (SOCS3) via activation of JAK-STAT signaling pathway in adipocytes to inhibit tyrosine phosphorylation of insulin receptor substrate (IRS-1), leading to impaired insulin signaling [XREF_BIBR - XREF_BIBR].\n",
      "\n",
      "\u001b[1mDephosphorylation(INS(), IRS1(), Y)\u001b[0m\n",
      "\n",
      "pmid 26099503, from REACH: Compared with control cells, INS-1 cells overexpressing PTP1B showed decrease in insulin stimulated tyrosine phosphorylation of the insulin receptor (IR) and insulin receptor substrate-1 (IRS-1) by 56.4% and 53.1%, respectively.\n",
      "\n",
      "pmid 18949383, from REACH: In the present study, we demonstrated that TNFalpha-IKKbeta-mediated inactivation of TSC1 resulted in increasing phosphorylation of IRS1 serine 307 and serine 636/639, impaired insulin induced glucose uptake, tyrosine phosphorylation of IRS1, and the association between IRS1 and PI3K p85.\n",
      "\n",
      "\u001b[1mDephosphorylation(JNK(), IRS1(), Y)\u001b[0m\n",
      "\n",
      "pmid 28677618, from REACH: The phosphorylation of JNK impairs the phosphorylation of tyrosine residues of the IRS-1 and subsequently inhibits AKT activation by insulin in HFD fed rodents [XREF_BIBR].\n",
      "\n",
      "\u001b[1mDephosphorylation(AG-490(), IRS1())\u001b[0m\n",
      "\n",
      "pmid 17496209, from REACH: The specific JAK2 inhibitor AG-490 blocked ANG-(1-7)-induced JAK2 and IRS-1 phosphorylation but had no effect on ANG-(1-7)-induced phosphorylation of Akt, indicating that activation of cardiac Akt by ANG-(1-7) appears not to involve the recruitment of JAK2 but proceeds through the receptor Mas and involves PI3K.\n",
      "\n",
      "\u001b[1mDephosphorylation(None, IRS1())\u001b[0m\n",
      "\n",
      "pmid 11278339, from SPARSER: IRS-1 complexes and the rate of Tyr dephosphorylation of IRS-1.\n",
      "\n",
      "\u001b[1mDephosphorylation(Chromium(), IRS1(), S)\u001b[0m\n",
      "\n",
      "pmid 21243441, from REACH: Chromium glycinate, acetate, and propionate decreased the amount of IRS-1 phosphorylated at serine.\n",
      "\n",
      "\u001b[1mDephosphorylation(JNK(), IRS1())\u001b[0m\n",
      "\n",
      "pmid 29642178, from REACH: In this study, experiments on animal and cellular indicated that LECT2 induces insulin resistance in the skeletal muscle by activating c-Jun N-terminal kinase (JNK), which can inhibit the phosphorylation of insulin receptor substrates-1 (IRS-1).\n",
      "\n",
      "\u001b[1mDephosphorylation(N-acetyl-L-cysteine(), IRS1(), S)\u001b[0m\n",
      "\n",
      "pmid 24824652, from REACH: An antioxidant, N-acetyl-L-cysteine (NAC), prevented IH induced hepatic insulin resistance in parallel with prevention of decreased IkappaBalpha content, increased JNK phosphorylation (markers of IKKbeta and JNK activation, respectively), increased serine phosphorylation of IRS-1 and IRS-2, and impaired insulin signaling in the liver without affecting IH induced hepatic PKCdelta activation.\n",
      "\n",
      "\u001b[1mDephosphorylation(EIF2AK2(), IRS1())\u001b[0m\n",
      "\n",
      "pmid 20685959, from REACH: First, PKR induces phosphorylation of IRS1 at Ser312 and suppresses tyrosine phosphorylation of IRS1, mediated by the IRS kinases, JNK and IKK.\n"
     ]
    }
   ],
   "source": [
    "# Print out the evidence prettily\n",
    "for stmt in stmts:\n",
    "    display_evidence(stmt)"
   ]
  },
  {
   "cell_type": "markdown",
   "metadata": {
    "slideshow": {
     "slide_type": "slide"
    }
   },
   "source": [
    "## Example 2: (a la Lily) What regulates GAB1?\n",
    "\n",
    "In a recent talk at a Sorger Lab meeting, it came up that we just don't know what regulates GAB1. Now it's trivial to find out:"
   ]
  },
  {
   "cell_type": "code",
   "execution_count": 4,
   "metadata": {
    "slideshow": {
     "slide_type": "subslide"
    }
   },
   "outputs": [
    {
     "name": "stderr",
     "output_type": "stream",
     "text": [
      "INFO: [2018-06-07 16:37:39] indra/db_rest_client - Found 14 DecreaseAmount statements.\n",
      "INFO: [2018-06-07 16:37:39] indra/db_rest_client - Found 11 IncreaseAmount statements.\n",
      "INFO: [2018-06-07 16:37:39] indra/db_rest_client - Found 0 Influence statements.\n",
      "INFO: [2018-06-07 16:37:39] indra/db_rest_client - Found 0 RegulateAmount statements.\n"
     ]
    },
    {
     "data": {
      "text/plain": [
       "[DecreaseAmount(hsa-miR-93-5p(transcription), GAB1()),\n",
       " DecreaseAmount(NOG(transcription), GAB1()),\n",
       " DecreaseAmount(hsa-miR-519d-3p(transcription), GAB1()),\n",
       " DecreaseAmount(hsa-miR-30e-5p(transcription), GAB1()),\n",
       " DecreaseAmount(hsa-miR-30b-5p(transcription), GAB1()),\n",
       " DecreaseAmount(hsa-miR-17-5p(transcription), GAB1()),\n",
       " DecreaseAmount(gefitinib(), GAB1(bound: [PIK3R2, True])),\n",
       " DecreaseAmount(hsa-miR-181d-5p(transcription), GAB1()),\n",
       " DecreaseAmount(hsa-miR-20a-5p(transcription), GAB1()),\n",
       " DecreaseAmount(hsa-miR-20b-5p(transcription), GAB1()),\n",
       " DecreaseAmount(hsa-miR-106b-5p(transcription), GAB1()),\n",
       " DecreaseAmount(hsa-miR-30a-5p(transcription), GAB1()),\n",
       " DecreaseAmount(hsa-miR-30c-5p(transcription), GAB1()),\n",
       " DecreaseAmount(hsa-miR-30d-5p(transcription), GAB1()),\n",
       " IncreaseAmount(IL6ST(catalytic), GAB1(bound: [PIK3R1, True])),\n",
       " IncreaseAmount(IL6ST(catalytic), GAB1(bound: [PTPN11, True])),\n",
       " IncreaseAmount(INSR(kinase), GAB1(bound: [PIK3R1, True])),\n",
       " IncreaseAmount(HGF(), GAB1()),\n",
       " IncreaseAmount(EGFR(bound: [ERBB2, True]), GAB1()),\n",
       " IncreaseAmount(GH1(), GAB1(bound: [PTPN11, True])),\n",
       " IncreaseAmount(IL6(), GAB1(bound: [PTPN11, True])),\n",
       " IncreaseAmount(EGF(), GAB1()),\n",
       " IncreaseAmount(EGFR(kinase), GAB1(bound: [GRB2, True], bound: [SHC1, True])),\n",
       " IncreaseAmount(EGFR(kinase), GAB1(bound: [SYP, True])),\n",
       " IncreaseAmount(ERK(), GAB1())]"
      ]
     },
     "execution_count": 4,
     "metadata": {},
     "output_type": "execute_result"
    }
   ],
   "source": [
    "idbr.get_statements(object='GAB1', stmt_type='RegulateAmount')"
   ]
  },
  {
   "cell_type": "markdown",
   "metadata": {
    "slideshow": {
     "slide_type": "slide"
    }
   },
   "source": [
    "## Example 3: What is known about the mechanisms of LKB1?\n",
    "\n",
    "We recently had a talk by Lee Albecker, who studies LKB1 (STK11) function at Foundation Medicine where this came up."
   ]
  },
  {
   "cell_type": "code",
   "execution_count": 11,
   "metadata": {
    "slideshow": {
     "slide_type": "fragment"
    }
   },
   "outputs": [
    {
     "data": {
      "text/plain": [
       "[Activation(STK11(), AMPK()),\n",
       " Phosphorylation(STK11(), AMPK(), T, 172),\n",
       " Phosphorylation(STK11(), AMPK()),\n",
       " Inhibition(STK11(), AMPK()),\n",
       " Phosphorylation(STK11(mods: (modification)), AMPK()),\n",
       " Dephosphorylation(STK11(), AMPK())]"
      ]
     },
     "execution_count": 11,
     "metadata": {},
     "output_type": "execute_result"
    }
   ],
   "source": [
    "stmts = idbr.get_statements(subject='STK11', object='AMPK@FPLX')\n",
    "stmts"
   ]
  },
  {
   "cell_type": "code",
   "execution_count": 12,
   "metadata": {
    "slideshow": {
     "slide_type": "fragment"
    }
   },
   "outputs": [
    {
     "name": "stdout",
     "output_type": "stream",
     "text": [
      "\n",
      "\u001b[1mActivation(STK11(), AMPK())\u001b[0m\n",
      "\n",
      "pmid 19616619, from SPARSER: In conclusion, sauchinone protects the liver from toxicity induced by iron accumulation, and sauchinone&apos;s effects may be mediated by LKB1-dependent AMPK activation.\n",
      "\n",
      "pmid 24095280, from REACH: C-TAK1 (Cdc25C associated protein kinase 1, also known as MARK3, MAP and microtubule affinity regulating kinase 3), an AMPK like kinase activated by LKB1, has been shown to be a negative regulator of KSR1.\n",
      "\n",
      "pmid 22265968, from REACH: Our results demonstrate that LKB1 induction by FXR led to LKB1 activation, which promotes AMPK activation.\n",
      "\n",
      "pmid 29547541, from REACH: Upon energy stress, AMPK is activated by the serine/threonine kinase LKB1 and STK11 [XREF_BIBR, XREF_BIBR].\n",
      "\n",
      "pmid 22318606, from REACH: We further report important metabolism regulating roles of HDAC1 to govern crosstalk between acetylation and phosphorylation of AMPK catalytic subunit by controlling physical interaction with the upstream kinase LKB1 that modulates AMPK activity and thus lipid metabolism in human liver cells.\n"
     ]
    }
   ],
   "source": [
    "display_evidence(stmts[0], limit=20)"
   ]
  },
  {
   "cell_type": "markdown",
   "metadata": {
    "slideshow": {
     "slide_type": "slide"
    }
   },
   "source": [
    "## Example 4: Look up the statements from a paper!\n",
    "\n",
    "Soon, this will even extend to finding papers relevant to a statement."
   ]
  },
  {
   "cell_type": "code",
   "execution_count": 7,
   "metadata": {
    "slideshow": {
     "slide_type": "fragment"
    }
   },
   "outputs": [
    {
     "data": {
      "text/plain": [
       "[Dephosphorylation(INS(), IRS1(), S)]"
      ]
     },
     "execution_count": 7,
     "metadata": {},
     "output_type": "execute_result"
    }
   ],
   "source": [
    "stmts = idbr.get_statements_for_paper(21185755)\n",
    "stmts"
   ]
  },
  {
   "cell_type": "code",
   "execution_count": 8,
   "metadata": {
    "slideshow": {
     "slide_type": "fragment"
    }
   },
   "outputs": [
    {
     "data": {
      "text/plain": [
       "[Evidence(reach, 21185755, {'found_by': 'Phosphorylation_syntax_1a_noun'}, It also diminished insulin stimulated tyrosine phosphorylation of IRS1 and serine phosphorylation of Akt without affecting the phosphorylation of IR, ERK1/2, p38, or JNK.)]"
      ]
     },
     "execution_count": 8,
     "metadata": {},
     "output_type": "execute_result"
    }
   ],
   "source": [
    "stmts[0].evidence"
   ]
  },
  {
   "cell_type": "markdown",
   "metadata": {
    "slideshow": {
     "slide_type": "slide"
    }
   },
   "source": [
    "## Coming soon:\n",
    "\n",
    "- Getting papers with as detailed or more detailed information on a statement\n",
    "- Get statements that support, or are supported by a any statement that is included in the database\n",
    "- INDRA \"Google\": a website where you can enter questions about protein mechanisms and get answers! We will also develop a Slack bot, which will act on the same premise."
   ]
  }
 ],
 "metadata": {
  "celltoolbar": "Slideshow",
  "kernelspec": {
   "display_name": "Python 3",
   "language": "python",
   "name": "python3"
  },
  "language_info": {
   "codemirror_mode": {
    "name": "ipython",
    "version": 3
   },
   "file_extension": ".py",
   "mimetype": "text/x-python",
   "name": "python",
   "nbconvert_exporter": "python",
   "pygments_lexer": "ipython3",
   "version": "3.5.2"
  }
 },
 "nbformat": 4,
 "nbformat_minor": 2
}
