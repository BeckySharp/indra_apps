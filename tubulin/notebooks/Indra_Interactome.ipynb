{
 "cells": [
  {
   "cell_type": "code",
   "execution_count": 1,
   "metadata": {},
   "outputs": [],
   "source": [
    "import pickle\n",
    "\n",
    "import numpy as np\n",
    "import pandas as pd\n",
    "import seaborn as sns\n",
    "from sortedcollections import SortedDict"
   ]
  },
  {
   "cell_type": "markdown",
   "metadata": {},
   "source": [
    "# Building an INDRA interactome\n",
    "\n",
    "Attempting to build a high quality INDRA interactome for network reconstruction tasks\n",
    "\n",
    "## Loading Statements"
   ]
  },
  {
   "cell_type": "markdown",
   "metadata": {},
   "source": [
    "I'm trying a new technique where successive transformations of a pandas dictionary are stored in a SortedDict"
   ]
  },
  {
   "cell_type": "code",
   "execution_count": 2,
   "metadata": {},
   "outputs": [],
   "source": [
    "data = SortedDict()"
   ]
  },
  {
   "cell_type": "code",
   "execution_count": 3,
   "metadata": {},
   "outputs": [],
   "source": [
    "data['dump'] = pd.read_pickle('../input/db_dump_091719.pkl')"
   ]
  },
  {
   "cell_type": "markdown",
   "metadata": {},
   "source": [
    "We then filter to only statements where both agents have either a FamPlex or HGNC grounding"
   ]
  },
  {
   "cell_type": "code",
   "execution_count": 4,
   "metadata": {},
   "outputs": [
    {
     "data": {
      "text/html": [
       "<div>\n",
       "<style scoped>\n",
       "    .dataframe tbody tr th:only-of-type {\n",
       "        vertical-align: middle;\n",
       "    }\n",
       "\n",
       "    .dataframe tbody tr th {\n",
       "        vertical-align: top;\n",
       "    }\n",
       "\n",
       "    .dataframe thead th {\n",
       "        text-align: right;\n",
       "    }\n",
       "</style>\n",
       "<table border=\"1\" class=\"dataframe\">\n",
       "  <thead>\n",
       "    <tr style=\"text-align: right;\">\n",
       "      <th></th>\n",
       "      <th>agA_ns</th>\n",
       "      <th>agA_id</th>\n",
       "      <th>agA_name</th>\n",
       "      <th>agB_ns</th>\n",
       "      <th>agB_id</th>\n",
       "      <th>agB_name</th>\n",
       "      <th>stmt_type</th>\n",
       "      <th>evidence_count</th>\n",
       "      <th>stmt_hash</th>\n",
       "    </tr>\n",
       "  </thead>\n",
       "  <tbody>\n",
       "    <tr>\n",
       "      <th>0</th>\n",
       "      <td>HGNC</td>\n",
       "      <td>4013</td>\n",
       "      <td>FUT2</td>\n",
       "      <td>CHEBI</td>\n",
       "      <td>73579</td>\n",
       "      <td>Leu-Val</td>\n",
       "      <td>Activation</td>\n",
       "      <td>1</td>\n",
       "      <td>-21301812132397149</td>\n",
       "    </tr>\n",
       "    <tr>\n",
       "      <th>1</th>\n",
       "      <td>HGNC</td>\n",
       "      <td>12761</td>\n",
       "      <td>WEE1</td>\n",
       "      <td>HGNC</td>\n",
       "      <td>2498</td>\n",
       "      <td>CTDP1</td>\n",
       "      <td>Complex</td>\n",
       "      <td>1</td>\n",
       "      <td>21017369035451409</td>\n",
       "    </tr>\n",
       "    <tr>\n",
       "      <th>2</th>\n",
       "      <td>HGNC</td>\n",
       "      <td>2498</td>\n",
       "      <td>CTDP1</td>\n",
       "      <td>HGNC</td>\n",
       "      <td>12761</td>\n",
       "      <td>WEE1</td>\n",
       "      <td>Complex</td>\n",
       "      <td>1</td>\n",
       "      <td>21017369035451409</td>\n",
       "    </tr>\n",
       "    <tr>\n",
       "      <th>3</th>\n",
       "      <td>HGNC</td>\n",
       "      <td>2662</td>\n",
       "      <td>DAB2</td>\n",
       "      <td>HGNC</td>\n",
       "      <td>3796</td>\n",
       "      <td>FOS</td>\n",
       "      <td>DecreaseAmount</td>\n",
       "      <td>2</td>\n",
       "      <td>-18945642808758134</td>\n",
       "    </tr>\n",
       "    <tr>\n",
       "      <th>4</th>\n",
       "      <td>HGNC</td>\n",
       "      <td>8812</td>\n",
       "      <td>PDK4</td>\n",
       "      <td>FPLX</td>\n",
       "      <td>STAT5</td>\n",
       "      <td>STAT5</td>\n",
       "      <td>Inhibition</td>\n",
       "      <td>1</td>\n",
       "      <td>-13243120276770842</td>\n",
       "    </tr>\n",
       "  </tbody>\n",
       "</table>\n",
       "</div>"
      ],
      "text/plain": [
       "  agA_ns agA_id agA_name agB_ns agB_id agB_name       stmt_type  \\\n",
       "0   HGNC   4013     FUT2  CHEBI  73579  Leu-Val      Activation   \n",
       "1   HGNC  12761     WEE1   HGNC   2498    CTDP1         Complex   \n",
       "2   HGNC   2498    CTDP1   HGNC  12761     WEE1         Complex   \n",
       "3   HGNC   2662     DAB2   HGNC   3796      FOS  DecreaseAmount   \n",
       "4   HGNC   8812     PDK4   FPLX  STAT5    STAT5      Inhibition   \n",
       "\n",
       "   evidence_count          stmt_hash  \n",
       "0               1 -21301812132397149  \n",
       "1               1  21017369035451409  \n",
       "2               1  21017369035451409  \n",
       "3               2 -18945642808758134  \n",
       "4               1 -13243120276770842  "
      ]
     },
     "execution_count": 4,
     "metadata": {},
     "output_type": "execute_result"
    }
   ],
   "source": [
    "data['dump'].head()"
   ]
  },
  {
   "cell_type": "code",
   "execution_count": 5,
   "metadata": {},
   "outputs": [],
   "source": [
    "data['gene_stmts'] = data['dump'][((data['dump'].agA_ns == 'HGNC') | \n",
    "                                   (data['dump'].agA_ns == 'FPLX')) &\n",
    "                                   ((data['dump'].agB_ns == 'HGNC') | \n",
    "                                    (data['dump'].agB_ns == 'FPLX'))].copy()"
   ]
  },
  {
   "cell_type": "markdown",
   "metadata": {},
   "source": [
    "The belief scores are included in a separate pickle file. As are stratified evidence. The latter are used to filter to database only statements for database only interactomes"
   ]
  },
  {
   "cell_type": "code",
   "execution_count": 6,
   "metadata": {},
   "outputs": [],
   "source": [
    "with open('../input/belief_dict_091719.pkl', 'rb') as f:\n",
    "    belief = pickle.load(f)\n",
    "with open('../input/db_stratified_evidence_091819.pkl', 'rb') as f:\n",
    "    stratified_evidence = pickle.load(f)"
   ]
  },
  {
   "cell_type": "markdown",
   "metadata": {},
   "source": [
    "This dictionary is keyed by hash. Let's add them as a column to gene_stmts_df"
   ]
  },
  {
   "cell_type": "code",
   "execution_count": 7,
   "metadata": {},
   "outputs": [],
   "source": [
    "data['gene_stmts']['belief'] = data['gene_stmts'].stmt_hash.apply(lambda x: belief[x])\n",
    "data['gene_stmts']['ev_strat'] = data['gene_stmts'].stmt_hash.apply(lambda x: stratified_evidence[x])"
   ]
  },
  {
   "cell_type": "markdown",
   "metadata": {},
   "source": [
    "For on of our applications, we will be adding noise to edge weights. In OmicsIntegrator, edge weight values can be at most 0.99. It is problematic that belief scores cluster near 1, since additive noise will cause many weights to saturate at 0.99. We subtract a constant from belief scores to work around this. The specific value used is not important."
   ]
  },
  {
   "cell_type": "code",
   "execution_count": 8,
   "metadata": {},
   "outputs": [],
   "source": [
    "data['gene_stmts']['belief'] = data['gene_stmts']['belief'] - 0.1"
   ]
  },
  {
   "cell_type": "code",
   "execution_count": 9,
   "metadata": {},
   "outputs": [
    {
     "data": {
      "text/plain": [
       "<matplotlib.axes._subplots.AxesSubplot at 0x2b32ad1d0>"
      ]
     },
     "execution_count": 9,
     "metadata": {},
     "output_type": "execute_result"
    },
    {
     "data": {
      "image/png": "[encoded data removed]",
      "text/plain": [
       "<Figure size 432x288 with 1 Axes>"
      ]
     },
     "metadata": {
      "needs_background": "light"
     },
     "output_type": "display_data"
    }
   ],
   "source": [
    "sns.distplot(data['gene_stmts'].belief)"
   ]
  },
  {
   "cell_type": "markdown",
   "metadata": {},
   "source": [
    "Below we see the statements within our network. All of the different post-translational modifications as well as complexes should be included when building networks for running the temporal pathway synthesizer. One of its goals is to determine regulators of phosphorylation amoung different interactions beyond direct phosphorylation and dephosphorylation.\n",
    "Conversion statements are problematic in this context and will be filtered out."
   ]
  },
  {
   "cell_type": "code",
   "execution_count": 10,
   "metadata": {},
   "outputs": [
    {
     "data": {
      "text/plain": [
       "array(['Complex', 'DecreaseAmount', 'Inhibition', 'IncreaseAmount',\n",
       "       'Activation', 'Phosphorylation', 'Demethylation',\n",
       "       'Dephosphorylation', 'Acetylation', 'Sumoylation', 'Hydroxylation',\n",
       "       'Methylation', 'Deubiquitination', 'Ubiquitination',\n",
       "       'Deacetylation', 'Gef', 'Glycosylation', 'Deribosylation', 'Gap',\n",
       "       'Desumoylation', 'Ribosylation', 'Dehydroxylation',\n",
       "       'Deglycosylation', 'Palmitoylation', 'Farnesylation', 'Conversion',\n",
       "       'Myristoylation', 'GtpActivation', 'Depalmitoylation',\n",
       "       'Defarnesylation', 'Geranylgeranylation'], dtype=object)"
      ]
     },
     "execution_count": 10,
     "metadata": {},
     "output_type": "execute_result"
    }
   ],
   "source": [
    "data['gene_stmts'].stmt_type.unique()"
   ]
  },
  {
   "cell_type": "code",
   "execution_count": 11,
   "metadata": {},
   "outputs": [],
   "source": [
    "data['relevant_type'] = data['gene_stmts'][(data['gene_stmts'].stmt_type != \n",
    "                                            'Conversion')].copy()"
   ]
  },
  {
   "cell_type": "code",
   "execution_count": 12,
   "metadata": {},
   "outputs": [
    {
     "data": {
      "text/html": [
       "<div>\n",
       "<style scoped>\n",
       "    .dataframe tbody tr th:only-of-type {\n",
       "        vertical-align: middle;\n",
       "    }\n",
       "\n",
       "    .dataframe tbody tr th {\n",
       "        vertical-align: top;\n",
       "    }\n",
       "\n",
       "    .dataframe thead th {\n",
       "        text-align: right;\n",
       "    }\n",
       "</style>\n",
       "<table border=\"1\" class=\"dataframe\">\n",
       "  <thead>\n",
       "    <tr style=\"text-align: right;\">\n",
       "      <th></th>\n",
       "      <th>agA_ns</th>\n",
       "      <th>agA_id</th>\n",
       "      <th>agA_name</th>\n",
       "      <th>agB_ns</th>\n",
       "      <th>agB_id</th>\n",
       "      <th>agB_name</th>\n",
       "      <th>stmt_type</th>\n",
       "      <th>evidence_count</th>\n",
       "      <th>stmt_hash</th>\n",
       "      <th>belief</th>\n",
       "      <th>ev_strat</th>\n",
       "    </tr>\n",
       "  </thead>\n",
       "  <tbody>\n",
       "    <tr>\n",
       "      <th>1</th>\n",
       "      <td>HGNC</td>\n",
       "      <td>12761</td>\n",
       "      <td>WEE1</td>\n",
       "      <td>HGNC</td>\n",
       "      <td>2498</td>\n",
       "      <td>CTDP1</td>\n",
       "      <td>Complex</td>\n",
       "      <td>1</td>\n",
       "      <td>21017369035451409</td>\n",
       "      <td>0.55</td>\n",
       "      <td>{'reach': 1}</td>\n",
       "    </tr>\n",
       "    <tr>\n",
       "      <th>2</th>\n",
       "      <td>HGNC</td>\n",
       "      <td>2498</td>\n",
       "      <td>CTDP1</td>\n",
       "      <td>HGNC</td>\n",
       "      <td>12761</td>\n",
       "      <td>WEE1</td>\n",
       "      <td>Complex</td>\n",
       "      <td>1</td>\n",
       "      <td>21017369035451409</td>\n",
       "      <td>0.55</td>\n",
       "      <td>{'reach': 1}</td>\n",
       "    </tr>\n",
       "    <tr>\n",
       "      <th>3</th>\n",
       "      <td>HGNC</td>\n",
       "      <td>2662</td>\n",
       "      <td>DAB2</td>\n",
       "      <td>HGNC</td>\n",
       "      <td>3796</td>\n",
       "      <td>FOS</td>\n",
       "      <td>DecreaseAmount</td>\n",
       "      <td>2</td>\n",
       "      <td>-18945642808758134</td>\n",
       "      <td>0.76</td>\n",
       "      <td>{'reach': 2}</td>\n",
       "    </tr>\n",
       "    <tr>\n",
       "      <th>4</th>\n",
       "      <td>HGNC</td>\n",
       "      <td>8812</td>\n",
       "      <td>PDK4</td>\n",
       "      <td>FPLX</td>\n",
       "      <td>STAT5</td>\n",
       "      <td>STAT5</td>\n",
       "      <td>Inhibition</td>\n",
       "      <td>1</td>\n",
       "      <td>-13243120276770842</td>\n",
       "      <td>0.55</td>\n",
       "      <td>{'reach': 1}</td>\n",
       "    </tr>\n",
       "    <tr>\n",
       "      <th>5</th>\n",
       "      <td>HGNC</td>\n",
       "      <td>12435</td>\n",
       "      <td>TXN</td>\n",
       "      <td>HGNC</td>\n",
       "      <td>3059</td>\n",
       "      <td>HBEGF</td>\n",
       "      <td>Complex</td>\n",
       "      <td>1</td>\n",
       "      <td>31832599631814675</td>\n",
       "      <td>0.55</td>\n",
       "      <td>{'sparser': 1}</td>\n",
       "    </tr>\n",
       "  </tbody>\n",
       "</table>\n",
       "</div>"
      ],
      "text/plain": [
       "  agA_ns agA_id agA_name agB_ns agB_id agB_name       stmt_type  \\\n",
       "1   HGNC  12761     WEE1   HGNC   2498    CTDP1         Complex   \n",
       "2   HGNC   2498    CTDP1   HGNC  12761     WEE1         Complex   \n",
       "3   HGNC   2662     DAB2   HGNC   3796      FOS  DecreaseAmount   \n",
       "4   HGNC   8812     PDK4   FPLX  STAT5    STAT5      Inhibition   \n",
       "5   HGNC  12435      TXN   HGNC   3059    HBEGF         Complex   \n",
       "\n",
       "   evidence_count          stmt_hash  belief        ev_strat  \n",
       "1               1  21017369035451409    0.55    {'reach': 1}  \n",
       "2               1  21017369035451409    0.55    {'reach': 1}  \n",
       "3               2 -18945642808758134    0.76    {'reach': 2}  \n",
       "4               1 -13243120276770842    0.55    {'reach': 1}  \n",
       "5               1  31832599631814675    0.55  {'sparser': 1}  "
      ]
     },
     "execution_count": 12,
     "metadata": {},
     "output_type": "execute_result"
    }
   ],
   "source": [
    "data['relevant_type'].head()"
   ]
  },
  {
   "cell_type": "markdown",
   "metadata": {},
   "source": [
    "We now have to do some flattening. But first lets remove self edges since they have no role in steiner analysis"
   ]
  },
  {
   "cell_type": "code",
   "execution_count": 13,
   "metadata": {},
   "outputs": [],
   "source": [
    "data['no_self'] = data['relevant_type'][(data['relevant_type'].agA_name !=\n",
    "                                         data['relevant_type'].agB_name)].copy()"
   ]
  },
  {
   "cell_type": "markdown",
   "metadata": {},
   "source": [
    "We only want one edge between any pair of agents. If there are conflicting directions between two agents, we place an undirected edge between these agents. If there is only one direction along with undirected complexes, assign the edge the given direction."
   ]
  },
  {
   "cell_type": "markdown",
   "metadata": {},
   "source": [
    "Let's combine name space and name into a single identifier so we an distinguish between HGNC entries and FPLX entries"
   ]
  },
  {
   "cell_type": "code",
   "execution_count": 14,
   "metadata": {},
   "outputs": [],
   "source": [
    "df = data['no_self'].copy()\n",
    "df['agent1'] = df.apply(lambda row: f'{row.agA_ns}:{row.agA_name}', axis=1)\n",
    "df['agent2'] = df.apply(lambda row: f'{row.agB_ns}:{row.agB_name}', axis=1)"
   ]
  },
  {
   "cell_type": "markdown",
   "metadata": {},
   "source": [
    "We use stratified evidence to determine which statements have support from databases"
   ]
  },
  {
   "cell_type": "code",
   "execution_count": 15,
   "metadata": {},
   "outputs": [],
   "source": [
    "databases = set(['bel_lc', 'biogrid', 'cbn', 'hprd', 'pc11', 'phosphosite', 'signor', 'trrust'])"
   ]
  },
  {
   "cell_type": "code",
   "execution_count": 16,
   "metadata": {},
   "outputs": [],
   "source": [
    "df['database'] = df.ev_strat.apply(lambda x: bool(databases & x.keys()))"
   ]
  },
  {
   "cell_type": "code",
   "execution_count": 17,
   "metadata": {},
   "outputs": [],
   "source": [
    "data['final'] = df"
   ]
  },
  {
   "cell_type": "markdown",
   "metadata": {},
   "source": [
    "We than drop all but the relevant columns"
   ]
  },
  {
   "cell_type": "code",
   "execution_count": 18,
   "metadata": {},
   "outputs": [],
   "source": [
    "proto_interactome = data['final'][['agent1', 'agent2', 'stmt_type', 'belief', 'database']]"
   ]
  },
  {
   "cell_type": "markdown",
   "metadata": {},
   "source": [
    "We flatten statements with the same agents in the same order by taking the max of the belief scores and concatenating statement types into a list"
   ]
  },
  {
   "cell_type": "code",
   "execution_count": 19,
   "metadata": {},
   "outputs": [],
   "source": [
    "groups = proto_interactome.groupby(['agent1', 'agent2'], as_index=False)"
   ]
  },
  {
   "cell_type": "code",
   "execution_count": 20,
   "metadata": {},
   "outputs": [],
   "source": [
    "flattened = groups.agg({'stmt_type': list, 'belief': max, 'database': max})"
   ]
  },
  {
   "cell_type": "markdown",
   "metadata": {},
   "source": [
    "We create a new column that contains the agent strings sorted and concatenated, so we can check for pairs of statements with the same agents but in different directions"
   ]
  },
  {
   "cell_type": "code",
   "execution_count": 21,
   "metadata": {},
   "outputs": [],
   "source": [
    "flattened['agents_sorted'] = flattened.apply(lambda row: '#'.join(sorted([row.agent1,\n",
    "                                                                          row.agent2])),\n",
    "                                            axis=1)"
   ]
  },
  {
   "cell_type": "markdown",
   "metadata": {},
   "source": [
    "We also have a column for the agents concatenated in their original order"
   ]
  },
  {
   "cell_type": "code",
   "execution_count": 22,
   "metadata": {},
   "outputs": [],
   "source": [
    "flattened['agents'] = flattened.apply(lambda row: '#'.join(tuple([row.agent1,\n",
    "                                                                 row.agent2])),\n",
    "                                      axis=1)"
   ]
  },
  {
   "cell_type": "markdown",
   "metadata": {},
   "source": [
    "and then drop the columns agent1 and agent2 since they are no longer needed"
   ]
  },
  {
   "cell_type": "code",
   "execution_count": 23,
   "metadata": {},
   "outputs": [],
   "source": [
    "flattened = flattened.drop(['agent1', 'agent2'], axis=1)"
   ]
  },
  {
   "cell_type": "markdown",
   "metadata": {},
   "source": [
    "Complexes are undirected. All other statements are directed. If there is at least one directed statement for a given pair of agents in a given order we mark this edge as directed"
   ]
  },
  {
   "cell_type": "code",
   "execution_count": 24,
   "metadata": {},
   "outputs": [],
   "source": [
    "flattened['pre_direction'] = flattened.stmt_type.apply(lambda x: 'U' if x == ['Complex']\n",
    "                                                                  else 'D')"
   ]
  },
  {
   "cell_type": "markdown",
   "metadata": {},
   "source": [
    "We make an edge undirected if there are directed edges pointing in each direction. To carry this out we first group by the column agents_sorted"
   ]
  },
  {
   "cell_type": "code",
   "execution_count": 25,
   "metadata": {},
   "outputs": [],
   "source": [
    "groups = flattened.groupby('agents_sorted', as_index=False)"
   ]
  },
  {
   "cell_type": "markdown",
   "metadata": {},
   "source": [
    "We then aggregate by concatenating predirection, stmt_type and agents into lists, and taking the max of belief"
   ]
  },
  {
   "cell_type": "code",
   "execution_count": 26,
   "metadata": {},
   "outputs": [],
   "source": [
    "df = groups.agg({'pre_direction': list, 'stmt_type': list,\n",
    "                 'agents': lambda x: x.iloc[0], 'belief': max,\n",
    "                 'database': max})"
   ]
  },
  {
   "cell_type": "markdown",
   "metadata": {},
   "source": [
    "and here is where only edges with a directed statement in one of two directions become directed, with others being undirected"
   ]
  },
  {
   "cell_type": "code",
   "execution_count": 27,
   "metadata": {},
   "outputs": [],
   "source": [
    "df['direction'] = df.pre_direction.apply(lambda x: 'D' if x.count('D') == 1 else 'U')"
   ]
  },
  {
   "cell_type": "markdown",
   "metadata": {},
   "source": [
    "Let's recreate separate columns for agent1 and agent2"
   ]
  },
  {
   "cell_type": "code",
   "execution_count": 28,
   "metadata": {},
   "outputs": [],
   "source": [
    "df[['agent1', 'agent2']] = df.agents.apply(lambda x: pd.Series(x.split('#')))"
   ]
  },
  {
   "cell_type": "markdown",
   "metadata": {},
   "source": [
    "We extract the relevant columns into an interactome which is saved for later use"
   ]
  },
  {
   "cell_type": "code",
   "execution_count": 29,
   "metadata": {},
   "outputs": [],
   "source": [
    "interactome = df[['agent1', 'agent2', 'belief', 'direction']]"
   ]
  },
  {
   "cell_type": "markdown",
   "metadata": {},
   "source": [
    "filter to database statements to create a database only interactome"
   ]
  },
  {
   "cell_type": "code",
   "execution_count": 31,
   "metadata": {},
   "outputs": [],
   "source": [
    "db_only = df[df.database == True][['agent1', 'agent2', 'belief', 'direction']]"
   ]
  },
  {
   "cell_type": "code",
   "execution_count": null,
   "metadata": {},
   "outputs": [],
   "source": [
    "interactome"
   ]
  },
  {
   "cell_type": "code",
   "execution_count": null,
   "metadata": {},
   "outputs": [],
   "source": [
    "interactome.to_csv('../input/indra_interactome_091819.tsv', sep='\\t', header=False, index=False)"
   ]
  },
  {
   "cell_type": "code",
   "execution_count": 32,
   "metadata": {},
   "outputs": [],
   "source": [
    "db_only.to_csv('../input/indra_interactome_db_only_092319.tsv', sep='\\t', header=False, index=False)"
   ]
  },
  {
   "cell_type": "code",
   "execution_count": null,
   "metadata": {},
   "outputs": [],
   "source": [
    "[len(interactome), len(db_only)]"
   ]
  },
  {
   "cell_type": "markdown",
   "metadata": {},
   "source": [
    "## Phosphorylation and Dephosphorylation Stmts"
   ]
  },
  {
   "cell_type": "markdown",
   "metadata": {},
   "source": [
    "This pickle file contains jsons for all phosphorylation and dephosphorylation statements as of September 2019"
   ]
  },
  {
   "cell_type": "code",
   "execution_count": null,
   "metadata": {},
   "outputs": [],
   "source": [
    "with open('../input/phospho_stmts.pkl', 'rb') as f:\n",
    "    phospho_stmts = pickle.load(f)"
   ]
  },
  {
   "cell_type": "code",
   "execution_count": null,
   "metadata": {},
   "outputs": [],
   "source": [
    "phospho_stmts[0]"
   ]
  },
  {
   "cell_type": "markdown",
   "metadata": {},
   "source": [
    "Let's now put thes statements into a dataframe. We keep only statements where both agents have either an HGNC or FPLX grounding"
   ]
  },
  {
   "cell_type": "code",
   "execution_count": null,
   "metadata": {},
   "outputs": [],
   "source": [
    "rows = []\n",
    "for stmt in phospho_stmts:\n",
    "    row = {}\n",
    "    enz_refs = stmt['enz']['db_refs']\n",
    "    sub_refs = stmt['sub']['db_refs']\n",
    "    if 'FPLX' in enz_refs:\n",
    "        row['agent1'] = f'FPLX:{enz_refs[\"FPLX\"]}'\n",
    "    elif 'HGNC' in enz_refs:\n",
    "        name = stmt['enz']['name']\n",
    "        row['agent1'] = f'HGNC:{name}'\n",
    "    else:\n",
    "        continue\n",
    "    if 'FPLX' in sub_refs:\n",
    "        row['agent2'] = f'FPLX:{sub_refs[\"FPLX\"]}'\n",
    "    elif 'HGNC' in enz_refs:\n",
    "        name = stmt['sub']['name']\n",
    "        row['agent2'] = f'HGNC:{name}'\n",
    "    else:\n",
    "        continue\n",
    "    row['type'] = stmt['type']\n",
    "    row['position'] = stmt.get('position')\n",
    "    row['residue'] = stmt.get('residue')\n",
    "    row['hash'] = stmt['matches_hash']\n",
    "    rows.append(row)\n",
    "\n",
    "phospho_df = pd.DataFrame(rows)"
   ]
  },
  {
   "cell_type": "code",
   "execution_count": null,
   "metadata": {},
   "outputs": [],
   "source": [
    "len(phospho_df)"
   ]
  },
  {
   "cell_type": "code",
   "execution_count": null,
   "metadata": {},
   "outputs": [],
   "source": [
    "phospho_df['stmt_hash'] = phospho_df.hash.apply(int)"
   ]
  },
  {
   "cell_type": "markdown",
   "metadata": {},
   "source": [
    "We then add belief scores"
   ]
  },
  {
   "cell_type": "code",
   "execution_count": null,
   "metadata": {},
   "outputs": [],
   "source": [
    "phospho_df['belief'] = phospho_df.stmt_hash.apply(lambda x: belief[x])"
   ]
  },
  {
   "cell_type": "markdown",
   "metadata": {},
   "source": [
    "and subtract by a positive constant to avoid saturation when adding noise to edge weights"
   ]
  },
  {
   "cell_type": "code",
   "execution_count": null,
   "metadata": {},
   "outputs": [],
   "source": [
    "phospho_df['belief'] = phospho_df.belief - 0.1"
   ]
  },
  {
   "cell_type": "markdown",
   "metadata": {},
   "source": [
    "Get indicator of support from database"
   ]
  },
  {
   "cell_type": "code",
   "execution_count": null,
   "metadata": {},
   "outputs": [],
   "source": [
    "database = data['final'][['stmt_hash', 'database']]"
   ]
  },
  {
   "cell_type": "code",
   "execution_count": null,
   "metadata": {},
   "outputs": [],
   "source": [
    "phospho_df = phospho_df.merge(database, on='stmt_hash', how='left')"
   ]
  },
  {
   "cell_type": "markdown",
   "metadata": {},
   "source": [
    "Stick the site into the agent identifiers for making site specific network"
   ]
  },
  {
   "cell_type": "code",
   "execution_count": null,
   "metadata": {},
   "outputs": [],
   "source": [
    "phospho_df"
   ]
  },
  {
   "cell_type": "code",
   "execution_count": null,
   "metadata": {},
   "outputs": [],
   "source": [
    "with_sites = phospho_df.dropna().copy()\n",
    "with_sites['agent2'] = with_sites.apply(lambda row: f'{row.agent2}:{row.residue}:{row.position}', axis=1)"
   ]
  },
  {
   "cell_type": "code",
   "execution_count": null,
   "metadata": {},
   "outputs": [],
   "source": [
    "with_sites['edge'] = with_sites.type.apply(lambda x: 'A' if x == 'Phosphorylation' else 'I')"
   ]
  },
  {
   "cell_type": "code",
   "execution_count": null,
   "metadata": {},
   "outputs": [],
   "source": [
    "phospho_interactome_sites = with_sites[['agent1', 'agent2', 'belief', 'edge', 'database']]"
   ]
  },
  {
   "cell_type": "code",
   "execution_count": null,
   "metadata": {},
   "outputs": [],
   "source": [
    "groups = phospho_interactome_sites.groupby(['agent1', 'agent2'], as_index=False)"
   ]
  },
  {
   "cell_type": "code",
   "execution_count": null,
   "metadata": {},
   "outputs": [],
   "source": [
    "flattened = groups.agg({'belief': max, 'edge': list, 'database': max})"
   ]
  },
  {
   "cell_type": "code",
   "execution_count": null,
   "metadata": {},
   "outputs": [],
   "source": [
    "flattened['edge'] = flattened.edge.apply(lambda x: 'A' if set(x) == set(['A'])\n",
    "                                                       else 'I' if set(x) == set(['I'])\n",
    "                                                       else 'N')"
   ]
  },
  {
   "cell_type": "code",
   "execution_count": null,
   "metadata": {},
   "outputs": [],
   "source": [
    "flattened.drop('database', axis=1).to_csv('../input/phospho_interactome_with_sites_091819.tsv', sep='\\t', header=False, index=False)"
   ]
  },
  {
   "cell_type": "markdown",
   "metadata": {},
   "source": [
    "And once again, but db only"
   ]
  },
  {
   "cell_type": "code",
   "execution_count": null,
   "metadata": {},
   "outputs": [],
   "source": [
    "flattened_db = flattened[flattened.database == True]"
   ]
  },
  {
   "cell_type": "code",
   "execution_count": null,
   "metadata": {},
   "outputs": [],
   "source": [
    "flattened_db.drop('database', axis=1).to_csv('../input/phospho_interactome_with_sites_db_only_092319.tsv',\n",
    "                                             sep='\\t', header=False, index=False)"
   ]
  },
  {
   "cell_type": "markdown",
   "metadata": {},
   "source": [
    "### Flatten across sites"
   ]
  },
  {
   "cell_type": "code",
   "execution_count": null,
   "metadata": {},
   "outputs": [],
   "source": [
    "phospho_no_sites = phospho_df[['agent1', 'agent2', 'type', 'belief', 'database']]"
   ]
  },
  {
   "cell_type": "code",
   "execution_count": null,
   "metadata": {},
   "outputs": [],
   "source": [
    "flattened_no_sites = phospho_no_sites.groupby(['agent1', 'agent2'],\n",
    "                                              as_index=False).agg({'belief': max, \n",
    "                                                                   'type': list,\n",
    "                                                                   'database': max})"
   ]
  },
  {
   "cell_type": "code",
   "execution_count": null,
   "metadata": {},
   "outputs": [],
   "source": [
    "flattened_no_sites['edge'] = flattened_no_sites.type.apply(lambda x: 'A' if set(x) == set(['Phosphorylation'])\n",
    "                                                                else 'I' if set(x) == set(['Dephosphorylation'])\n",
    "                                                                else 'N')"
   ]
  },
  {
   "cell_type": "code",
   "execution_count": null,
   "metadata": {},
   "outputs": [],
   "source": [
    "flat = flattened_no_sites[['agent1', 'agent2', 'belief', 'edge', 'database']]"
   ]
  },
  {
   "cell_type": "markdown",
   "metadata": {},
   "source": [
    "We should still remove self edges"
   ]
  },
  {
   "cell_type": "code",
   "execution_count": null,
   "metadata": {},
   "outputs": [],
   "source": [
    "df = phospho_interactome\n",
    "df = df[df.agent1 != df.agent2]\n",
    "phospho_interactome = df"
   ]
  },
  {
   "cell_type": "code",
   "execution_count": null,
   "metadata": {},
   "outputs": [],
   "source": [
    "phospho_interactome = flat.drop('database', axis=1)"
   ]
  },
  {
   "cell_type": "code",
   "execution_count": null,
   "metadata": {},
   "outputs": [],
   "source": [
    "phospho_interactome.to_csv('../input/phospho_interactome_091819.tsv', sep='\\t', header=False, index=False)"
   ]
  },
  {
   "cell_type": "code",
   "execution_count": null,
   "metadata": {},
   "outputs": [],
   "source": [
    "phospho_db = flat[flat.database == True].drop('database', axis=1)"
   ]
  },
  {
   "cell_type": "code",
   "execution_count": null,
   "metadata": {},
   "outputs": [],
   "source": [
    "phospho_db.to_csv('../input/phospho_interactome_db_only_092319.tsv',\n",
    "                  sep='\\t', header=False, index=False)"
   ]
  },
  {
   "cell_type": "code",
   "execution_count": 36,
   "metadata": {},
   "outputs": [],
   "source": [
    "df = pd.read_csv('../input/phospho_interactome_db_only_092319.tsv', sep='\\t',\n",
    "                 names=['agent1', 'agent2', 'belief', 'edge'])"
   ]
  },
  {
   "cell_type": "code",
   "execution_count": 38,
   "metadata": {},
   "outputs": [],
   "source": [
    "df = df[['agent1', 'edge', 'agent2']]"
   ]
  },
  {
   "cell_type": "code",
   "execution_count": 39,
   "metadata": {},
   "outputs": [],
   "source": [
    "df.to_csv('../input/indra_tps_prior_092319.tsv', sep='\\t', header=False, index=False)"
   ]
  },
  {
   "cell_type": "code",
   "execution_count": null,
   "metadata": {},
   "outputs": [],
   "source": []
  }
 ],
 "metadata": {
  "kernelspec": {
   "display_name": "Python 3",
   "language": "python",
   "name": "python3"
  },
  "language_info": {
   "codemirror_mode": {
    "name": "ipython",
    "version": 3
   },
   "file_extension": ".py",
   "mimetype": "text/x-python",
   "name": "python",
   "nbconvert_exporter": "python",
   "pygments_lexer": "ipython3",
   "version": "3.7.2"
  }
 },
 "nbformat": 4,
 "nbformat_minor": 2
}
