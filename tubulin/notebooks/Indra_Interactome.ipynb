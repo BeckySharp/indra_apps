{
 "cells": [
  {
   "cell_type": "code",
   "execution_count": 1,
   "metadata": {},
   "outputs": [],
   "source": [
    "import pickle\n",
    "import pandas as pd\n",
    "import seaborn as sns\n",
    "from sortedcollections import SortedDict"
   ]
  },
  {
   "cell_type": "markdown",
   "metadata": {},
   "source": [
    "# Building an INDRA interactome\n",
    "\n",
    "Attempting to build a high quality INDRA interactome for network reconstruction tasks\n",
    "\n",
    "## Loading Statements"
   ]
  },
  {
   "cell_type": "markdown",
   "metadata": {},
   "source": [
    "I'm trying a new technique where successive transformations of a pandas dictionary are stored in a SortedDict"
   ]
  },
  {
   "cell_type": "code",
   "execution_count": 2,
   "metadata": {},
   "outputs": [],
   "source": [
    "data = SortedDict()"
   ]
  },
  {
   "cell_type": "code",
   "execution_count": 3,
   "metadata": {},
   "outputs": [],
   "source": [
    "data['dump'] = pd.read_pickle('../input/refresh_db_dataframe_20190702.pkl')"
   ]
  },
  {
   "cell_type": "markdown",
   "metadata": {},
   "source": [
    "We then filter to only statements where both agents have either a FamPlex or HGNC grounding"
   ]
  },
  {
   "cell_type": "code",
   "execution_count": 4,
   "metadata": {},
   "outputs": [
    {
     "data": {
      "text/html": [
       "<div>\n",
       "<style scoped>\n",
       "    .dataframe tbody tr th:only-of-type {\n",
       "        vertical-align: middle;\n",
       "    }\n",
       "\n",
       "    .dataframe tbody tr th {\n",
       "        vertical-align: top;\n",
       "    }\n",
       "\n",
       "    .dataframe thead th {\n",
       "        text-align: right;\n",
       "    }\n",
       "</style>\n",
       "<table border=\"1\" class=\"dataframe\">\n",
       "  <thead>\n",
       "    <tr style=\"text-align: right;\">\n",
       "      <th></th>\n",
       "      <th>agA_ns</th>\n",
       "      <th>agA_id</th>\n",
       "      <th>agA_name</th>\n",
       "      <th>agB_ns</th>\n",
       "      <th>agB_id</th>\n",
       "      <th>agB_name</th>\n",
       "      <th>stmt_type</th>\n",
       "      <th>evidence_count</th>\n",
       "      <th>hash</th>\n",
       "    </tr>\n",
       "  </thead>\n",
       "  <tbody>\n",
       "    <tr>\n",
       "      <th>0</th>\n",
       "      <td>CHEBI</td>\n",
       "      <td>33390</td>\n",
       "      <td>curium atom</td>\n",
       "      <td>CHEBI</td>\n",
       "      <td>73393</td>\n",
       "      <td>Ala-Pro</td>\n",
       "      <td>Activation</td>\n",
       "      <td>2</td>\n",
       "      <td>34383272364686263</td>\n",
       "    </tr>\n",
       "    <tr>\n",
       "      <th>1</th>\n",
       "      <td>HGNC</td>\n",
       "      <td>23115</td>\n",
       "      <td>EAF2</td>\n",
       "      <td>HGNC</td>\n",
       "      <td>9949</td>\n",
       "      <td>RECQL4</td>\n",
       "      <td>Complex</td>\n",
       "      <td>8</td>\n",
       "      <td>-15857139029803505</td>\n",
       "    </tr>\n",
       "    <tr>\n",
       "      <th>2</th>\n",
       "      <td>HGNC</td>\n",
       "      <td>9949</td>\n",
       "      <td>RECQL4</td>\n",
       "      <td>HGNC</td>\n",
       "      <td>23115</td>\n",
       "      <td>EAF2</td>\n",
       "      <td>Complex</td>\n",
       "      <td>8</td>\n",
       "      <td>-15857139029803505</td>\n",
       "    </tr>\n",
       "    <tr>\n",
       "      <th>3</th>\n",
       "      <td>HGNC</td>\n",
       "      <td>1504</td>\n",
       "      <td>CASP3</td>\n",
       "      <td>HGNC</td>\n",
       "      <td>1504</td>\n",
       "      <td>CASP3</td>\n",
       "      <td>Activation</td>\n",
       "      <td>1</td>\n",
       "      <td>-13935936771122175</td>\n",
       "    </tr>\n",
       "    <tr>\n",
       "      <th>4</th>\n",
       "      <td>FPLX</td>\n",
       "      <td>Histone</td>\n",
       "      <td>Histone</td>\n",
       "      <td>HGNC</td>\n",
       "      <td>7838</td>\n",
       "      <td>NKX3-1</td>\n",
       "      <td>Complex</td>\n",
       "      <td>1</td>\n",
       "      <td>-13189437166943042</td>\n",
       "    </tr>\n",
       "  </tbody>\n",
       "</table>\n",
       "</div>"
      ],
      "text/plain": [
       "  agA_ns   agA_id     agA_name agB_ns agB_id agB_name   stmt_type  \\\n",
       "0  CHEBI    33390  curium atom  CHEBI  73393  Ala-Pro  Activation   \n",
       "1   HGNC    23115         EAF2   HGNC   9949   RECQL4     Complex   \n",
       "2   HGNC     9949       RECQL4   HGNC  23115     EAF2     Complex   \n",
       "3   HGNC     1504        CASP3   HGNC   1504    CASP3  Activation   \n",
       "4   FPLX  Histone      Histone   HGNC   7838   NKX3-1     Complex   \n",
       "\n",
       "   evidence_count               hash  \n",
       "0               2  34383272364686263  \n",
       "1               8 -15857139029803505  \n",
       "2               8 -15857139029803505  \n",
       "3               1 -13935936771122175  \n",
       "4               1 -13189437166943042  "
      ]
     },
     "execution_count": 4,
     "metadata": {},
     "output_type": "execute_result"
    }
   ],
   "source": [
    "data['dump'].head()"
   ]
  },
  {
   "cell_type": "code",
   "execution_count": 5,
   "metadata": {},
   "outputs": [],
   "source": [
    "data['gene_stmts'] = data['dump'][((data['dump'].agA_ns == 'HGNC') | \n",
    "                                   (data['dump'].agA_ns == 'FPLX')) &\n",
    "                                   ((data['dump'].agB_ns == 'HGNC') | \n",
    "                                    (data['dump'].agB_ns == 'FPLX'))].copy()"
   ]
  },
  {
   "cell_type": "markdown",
   "metadata": {},
   "source": [
    "The belief scores are included in a separate pickle file"
   ]
  },
  {
   "cell_type": "code",
   "execution_count": 6,
   "metadata": {},
   "outputs": [],
   "source": [
    "with open('../input/belief_dict_refresh_db_20190701.pkl', 'rb') as f:\n",
    "    belief = pickle.load(f)"
   ]
  },
  {
   "cell_type": "markdown",
   "metadata": {},
   "source": [
    "This dictionary is keyed by hash. Let's add them as a column to gene_stmts_df"
   ]
  },
  {
   "cell_type": "code",
   "execution_count": 7,
   "metadata": {},
   "outputs": [],
   "source": [
    "data['gene_stmts']['belief'] = data['gene_stmts'].hash.apply(lambda x: belief[x])"
   ]
  },
  {
   "cell_type": "markdown",
   "metadata": {},
   "source": [
    "We see below that there is a large peak of statements with minimal belief. Of 3,077,741 total statements with both agents grounded to human genes or gene families, only 1,473,180 have belief greater than 0.65. We filter out the low belief statements"
   ]
  },
  {
   "cell_type": "code",
   "execution_count": 8,
   "metadata": {},
   "outputs": [
    {
     "data": {
      "text/plain": [
       "<matplotlib.axes._subplots.AxesSubplot at 0x18c2e75f8>"
      ]
     },
     "execution_count": 8,
     "metadata": {},
     "output_type": "execute_result"
    },
    {
     "data": {
      "image/png": "[encoded data removed]",
      "text/plain": [
       "<Figure size 432x288 with 1 Axes>"
      ]
     },
     "metadata": {
      "needs_background": "light"
     },
     "output_type": "display_data"
    }
   ],
   "source": [
    "sns.distplot(data['gene_stmts'].belief)"
   ]
  },
  {
   "cell_type": "code",
   "execution_count": 9,
   "metadata": {},
   "outputs": [],
   "source": [
    "data['filter_belief'] = data['gene_stmts'][data['gene_stmts'].belief > 0.65].copy()"
   ]
  },
  {
   "cell_type": "code",
   "execution_count": 10,
   "metadata": {},
   "outputs": [
    {
     "data": {
      "text/plain": [
       "(1473180, 3077741)"
      ]
     },
     "execution_count": 10,
     "metadata": {},
     "output_type": "execute_result"
    }
   ],
   "source": [
    "(len(data['filter_belief']), len(data['gene_stmts']))"
   ]
  },
  {
   "cell_type": "code",
   "execution_count": 11,
   "metadata": {},
   "outputs": [
    {
     "data": {
      "text/plain": [
       "<matplotlib.axes._subplots.AxesSubplot at 0x1c99f0550>"
      ]
     },
     "execution_count": 11,
     "metadata": {},
     "output_type": "execute_result"
    },
    {
     "data": {
      "image/png": "[encoded data removed]",
      "text/plain": [
       "<Figure size 432x288 with 1 Axes>"
      ]
     },
     "metadata": {
      "needs_background": "light"
     },
     "output_type": "display_data"
    }
   ],
   "source": [
    "sns.distplot(data['filter_belief'].belief)"
   ]
  },
  {
   "cell_type": "markdown",
   "metadata": {},
   "source": [
    "Below we see the statements within our network. All of the different post-translational modifications as well as complexes should be included when building networks for running the temporal pathway synthesizer. One of its goals is to determine regulators of phosphorylation amoung different interactions beyond direct phosphorylation and dephosphorylation.\n",
    "Conversion statements are problematic in this context and will be filtered out."
   ]
  },
  {
   "cell_type": "code",
   "execution_count": 13,
   "metadata": {},
   "outputs": [
    {
     "data": {
      "text/plain": [
       "array(['Complex', 'DecreaseAmount', 'Phosphorylation', 'Activation',\n",
       "       'IncreaseAmount', 'Inhibition', 'Acetylation', 'Dephosphorylation',\n",
       "       'Glycosylation', 'Ubiquitination', 'Deacetylation', 'Sumoylation',\n",
       "       'Methylation', 'Deubiquitination', 'Demethylation',\n",
       "       'Deglycosylation', 'Dehydroxylation', 'Gap', 'Gef',\n",
       "       'Hydroxylation', 'Palmitoylation', 'Desumoylation',\n",
       "       'GtpActivation', 'Ribosylation', 'Depalmitoylation', 'Conversion',\n",
       "       'Myristoylation', 'Farnesylation', 'Deribosylation',\n",
       "       'Geranylgeranylation'], dtype=object)"
      ]
     },
     "execution_count": 13,
     "metadata": {},
     "output_type": "execute_result"
    }
   ],
   "source": [
    "data['filter_belief'].stmt_type.unique()"
   ]
  },
  {
   "cell_type": "code",
   "execution_count": 15,
   "metadata": {},
   "outputs": [],
   "source": [
    "data['relevant_type'] = data['filter_belief'][(data['filter_belief'].stmt_type != \n",
    "                                               'Conversion')].copy()"
   ]
  },
  {
   "cell_type": "code",
   "execution_count": 16,
   "metadata": {},
   "outputs": [
    {
     "data": {
      "text/html": [
       "<div>\n",
       "<style scoped>\n",
       "    .dataframe tbody tr th:only-of-type {\n",
       "        vertical-align: middle;\n",
       "    }\n",
       "\n",
       "    .dataframe tbody tr th {\n",
       "        vertical-align: top;\n",
       "    }\n",
       "\n",
       "    .dataframe thead th {\n",
       "        text-align: right;\n",
       "    }\n",
       "</style>\n",
       "<table border=\"1\" class=\"dataframe\">\n",
       "  <thead>\n",
       "    <tr style=\"text-align: right;\">\n",
       "      <th></th>\n",
       "      <th>agA_ns</th>\n",
       "      <th>agA_id</th>\n",
       "      <th>agA_name</th>\n",
       "      <th>agB_ns</th>\n",
       "      <th>agB_id</th>\n",
       "      <th>agB_name</th>\n",
       "      <th>stmt_type</th>\n",
       "      <th>evidence_count</th>\n",
       "      <th>hash</th>\n",
       "      <th>belief</th>\n",
       "    </tr>\n",
       "  </thead>\n",
       "  <tbody>\n",
       "    <tr>\n",
       "      <th>1</th>\n",
       "      <td>HGNC</td>\n",
       "      <td>23115</td>\n",
       "      <td>EAF2</td>\n",
       "      <td>HGNC</td>\n",
       "      <td>9949</td>\n",
       "      <td>RECQL4</td>\n",
       "      <td>Complex</td>\n",
       "      <td>8</td>\n",
       "      <td>-15857139029803505</td>\n",
       "      <td>0.992898</td>\n",
       "    </tr>\n",
       "    <tr>\n",
       "      <th>2</th>\n",
       "      <td>HGNC</td>\n",
       "      <td>9949</td>\n",
       "      <td>RECQL4</td>\n",
       "      <td>HGNC</td>\n",
       "      <td>23115</td>\n",
       "      <td>EAF2</td>\n",
       "      <td>Complex</td>\n",
       "      <td>8</td>\n",
       "      <td>-15857139029803505</td>\n",
       "      <td>0.992898</td>\n",
       "    </tr>\n",
       "    <tr>\n",
       "      <th>10</th>\n",
       "      <td>HGNC</td>\n",
       "      <td>9232</td>\n",
       "      <td>PPARA</td>\n",
       "      <td>HGNC</td>\n",
       "      <td>3576</td>\n",
       "      <td>FADS3</td>\n",
       "      <td>DecreaseAmount</td>\n",
       "      <td>1</td>\n",
       "      <td>-32896660950224390</td>\n",
       "      <td>0.790000</td>\n",
       "    </tr>\n",
       "    <tr>\n",
       "      <th>26</th>\n",
       "      <td>HGNC</td>\n",
       "      <td>3052</td>\n",
       "      <td>DSP</td>\n",
       "      <td>HGNC</td>\n",
       "      <td>8823</td>\n",
       "      <td>PECAM1</td>\n",
       "      <td>Complex</td>\n",
       "      <td>2</td>\n",
       "      <td>14830522647946258</td>\n",
       "      <td>0.997800</td>\n",
       "    </tr>\n",
       "    <tr>\n",
       "      <th>27</th>\n",
       "      <td>HGNC</td>\n",
       "      <td>8823</td>\n",
       "      <td>PECAM1</td>\n",
       "      <td>HGNC</td>\n",
       "      <td>3052</td>\n",
       "      <td>DSP</td>\n",
       "      <td>Complex</td>\n",
       "      <td>2</td>\n",
       "      <td>14830522647946258</td>\n",
       "      <td>0.997800</td>\n",
       "    </tr>\n",
       "  </tbody>\n",
       "</table>\n",
       "</div>"
      ],
      "text/plain": [
       "   agA_ns agA_id agA_name agB_ns agB_id agB_name       stmt_type  \\\n",
       "1    HGNC  23115     EAF2   HGNC   9949   RECQL4         Complex   \n",
       "2    HGNC   9949   RECQL4   HGNC  23115     EAF2         Complex   \n",
       "10   HGNC   9232    PPARA   HGNC   3576    FADS3  DecreaseAmount   \n",
       "26   HGNC   3052      DSP   HGNC   8823   PECAM1         Complex   \n",
       "27   HGNC   8823   PECAM1   HGNC   3052      DSP         Complex   \n",
       "\n",
       "    evidence_count               hash    belief  \n",
       "1                8 -15857139029803505  0.992898  \n",
       "2                8 -15857139029803505  0.992898  \n",
       "10               1 -32896660950224390  0.790000  \n",
       "26               2  14830522647946258  0.997800  \n",
       "27               2  14830522647946258  0.997800  "
      ]
     },
     "execution_count": 16,
     "metadata": {},
     "output_type": "execute_result"
    }
   ],
   "source": [
    "data['relevant_type'].head()"
   ]
  },
  {
   "cell_type": "markdown",
   "metadata": {},
   "source": [
    "We now have to do some flattening. But first lets remove self edges since they have no role in steiner analysis"
   ]
  },
  {
   "cell_type": "code",
   "execution_count": 17,
   "metadata": {},
   "outputs": [],
   "source": [
    "data['no_self'] = data['relevant_type'][(data['relevant_type'].agA_name !=\n",
    "                                         data['relevant_type'].agB_name)].copy()"
   ]
  },
  {
   "cell_type": "markdown",
   "metadata": {},
   "source": [
    "We only want one edge between any pair of agents. If there are conflicting directions between two agents, we place an undirected edge between these agents. If there is only one direction along with undirected complexes, assign the edge the given direction."
   ]
  },
  {
   "cell_type": "code",
   "execution_count": 18,
   "metadata": {},
   "outputs": [],
   "source": [
    "df = data['no_self'].copy()"
   ]
  },
  {
   "cell_type": "markdown",
   "metadata": {},
   "source": [
    "Let's combine name space and name into a single identifier so we an distinguish between HGNC entries and FPLX entries"
   ]
  },
  {
   "cell_type": "code",
   "execution_count": 19,
   "metadata": {},
   "outputs": [],
   "source": [
    "df['agent1'] = df.apply(lambda row: f'{row.agA_ns}:{row.agA_name}', axis=1)"
   ]
  },
  {
   "cell_type": "code",
   "execution_count": 20,
   "metadata": {},
   "outputs": [],
   "source": [
    "df['agent2'] = df.apply(lambda row: f'{row.agB_ns}:{row.agB_name}', axis=1)"
   ]
  },
  {
   "cell_type": "markdown",
   "metadata": {},
   "source": [
    "We than drop all but the relevant columns"
   ]
  },
  {
   "cell_type": "code",
   "execution_count": 21,
   "metadata": {},
   "outputs": [],
   "source": [
    "df = df[['agent1', 'agent2', 'stmt_type', 'belief']]"
   ]
  },
  {
   "cell_type": "markdown",
   "metadata": {},
   "source": [
    "We flatten statements with the same agents in the same order by taking the max of the belief scores and concatenating statement types into a list"
   ]
  },
  {
   "cell_type": "code",
   "execution_count": 22,
   "metadata": {},
   "outputs": [],
   "source": [
    "groups = df.groupby(['agent1', 'agent2'], as_index=False)"
   ]
  },
  {
   "cell_type": "code",
   "execution_count": 23,
   "metadata": {},
   "outputs": [],
   "source": [
    "flattened = groups.agg({'stmt_type': list, 'belief': max})"
   ]
  },
  {
   "cell_type": "markdown",
   "metadata": {},
   "source": [
    "We create a new column that contains the agent strings sorted and concatenated, so we can check for pairs of statements with the same agents but in different directions"
   ]
  },
  {
   "cell_type": "code",
   "execution_count": 24,
   "metadata": {},
   "outputs": [],
   "source": [
    "flattened['agents_sorted'] = flattened.apply(lambda row: '#'.join(sorted([row.agent1,\n",
    "                                                                          row.agent2])),\n",
    "                                            axis=1)"
   ]
  },
  {
   "cell_type": "markdown",
   "metadata": {},
   "source": [
    "We also have a column for the agents concatenated in their original order"
   ]
  },
  {
   "cell_type": "code",
   "execution_count": 25,
   "metadata": {},
   "outputs": [],
   "source": [
    "flattened['agents'] = flattened.apply(lambda row: '#'.join(tuple([row.agent1,\n",
    "                                                                 row.agent2])),\n",
    "                                            axis=1)"
   ]
  },
  {
   "cell_type": "markdown",
   "metadata": {},
   "source": [
    "and then drop the columns agent1 and agent2 since they are no longer needed"
   ]
  },
  {
   "cell_type": "code",
   "execution_count": 26,
   "metadata": {},
   "outputs": [],
   "source": [
    "flattened = flattened.drop(['agent1', 'agent2'], axis=1)"
   ]
  },
  {
   "cell_type": "markdown",
   "metadata": {},
   "source": [
    "Complexes are undirected. All other statements are directed. If there is at least one directed statement for a given pair of agents in a given order we mark this edge as directed"
   ]
  },
  {
   "cell_type": "code",
   "execution_count": 27,
   "metadata": {},
   "outputs": [],
   "source": [
    "flattened['pre_direction'] = flattened.stmt_type.apply(lambda x: 'U' if x == ['Complex']\n",
    "                                                   else 'D')"
   ]
  },
  {
   "cell_type": "markdown",
   "metadata": {},
   "source": [
    "This is only the pre_direction, since we will make an edge undirected if there are directed edges pointing in each direction. To carry this out we first group by the column agents_sorted"
   ]
  },
  {
   "cell_type": "code",
   "execution_count": 28,
   "metadata": {},
   "outputs": [],
   "source": [
    "groups = flattened.groupby('agents_sorted', as_index=False)"
   ]
  },
  {
   "cell_type": "markdown",
   "metadata": {},
   "source": [
    "We then aggregate by concatenating predirection, stmt_type and agents into lists, and taking the max of belief"
   ]
  },
  {
   "cell_type": "code",
   "execution_count": 37,
   "metadata": {},
   "outputs": [],
   "source": [
    "df = groups.agg({'pre_direction': list, 'stmt_type': list,\n",
    "                 'agents': lambda x: x.iloc[0], 'belief': max})"
   ]
  },
  {
   "cell_type": "markdown",
   "metadata": {},
   "source": [
    "and here is where only edges with a directed statement in one of two directions become directed, with others being undirected"
   ]
  },
  {
   "cell_type": "code",
   "execution_count": 38,
   "metadata": {},
   "outputs": [],
   "source": [
    "df['direction'] = df.pre_direction.apply(lambda x: 'D' if x.count('D') == 1 else 'U')"
   ]
  },
  {
   "cell_type": "markdown",
   "metadata": {},
   "source": [
    "Let's recreate separate columns for agent1 and agent2"
   ]
  },
  {
   "cell_type": "code",
   "execution_count": 45,
   "metadata": {},
   "outputs": [],
   "source": [
    "df[['agent1', 'agent2']] = df.agents.apply(lambda x: pd.Series(x.split('#')))"
   ]
  },
  {
   "cell_type": "markdown",
   "metadata": {},
   "source": [
    "We extract the relevant columns into an interactome which is saved for later use"
   ]
  },
  {
   "cell_type": "code",
   "execution_count": 47,
   "metadata": {},
   "outputs": [],
   "source": [
    "interactome = df[['agent1', 'agent2', 'belief', 'direction']]"
   ]
  },
  {
   "cell_type": "code",
   "execution_count": 50,
   "metadata": {},
   "outputs": [],
   "source": [
    "interactome.to_csv('../input/indra_interactome3.tsv', sep='\\t', header=False, index=False)"
   ]
  },
  {
   "cell_type": "code",
   "execution_count": 51,
   "metadata": {},
   "outputs": [
    {
     "data": {
      "text/plain": [
       "631160"
      ]
     },
     "execution_count": 51,
     "metadata": {},
     "output_type": "execute_result"
    }
   ],
   "source": [
    "len(interactome)"
   ]
  },
  {
   "cell_type": "code",
   "execution_count": null,
   "metadata": {},
   "outputs": [],
   "source": []
  }
 ],
 "metadata": {
  "kernelspec": {
   "display_name": "Python 3",
   "language": "python",
   "name": "python3"
  },
  "language_info": {
   "codemirror_mode": {
    "name": "ipython",
    "version": 3
   },
   "file_extension": ".py",
   "mimetype": "text/x-python",
   "name": "python",
   "nbconvert_exporter": "python",
   "pygments_lexer": "ipython3",
   "version": "3.7.2"
  }
 },
 "nbformat": 4,
 "nbformat_minor": 2
}
