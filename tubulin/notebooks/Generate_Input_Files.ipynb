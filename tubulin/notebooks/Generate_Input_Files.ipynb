{
 "cells": [
  {
   "cell_type": "code",
   "execution_count": 1,
   "metadata": {},
   "outputs": [
    {
     "name": "stderr",
     "output_type": "stream",
     "text": [
      "/Users/albertsteppi/msda/msda/mapping.py:9: FutureWarning: read_table is deprecated, use read_csv instead, passing sep='\\t'.\n",
      "  df_map = pd.read_table(os.path.join(resource_path, 'hgnc_mapping.txt'))\n",
      "/Users/albertsteppi/msda/msda/phospho_network.py:16: FutureWarning: read_table is deprecated, use read_csv instead, passing sep='\\t'.\n",
      "  error_bad_lines=False)\n",
      "b'Skipping line 9391: expected 21 fields, saw 22\\n'\n"
     ]
    }
   ],
   "source": [
    "import numpy as np\n",
    "import pandas as pd\n",
    "import seaborn as sns\n",
    "import networkx as nx\n",
    "import scipy.stats as st\n",
    "from statsmodels.stats.multitest import multipletests\n",
    "\n",
    "from msda import preprocessing, phospho_network as pn, \\\n",
    "    process_phospho_ms as ppm\n",
    "from indra.databases.uniprot_client import get_gene_name"
   ]
  },
  {
   "cell_type": "markdown",
   "metadata": {},
   "source": [
    "## Script"
   ]
  },
  {
   "cell_type": "code",
   "execution_count": 2,
   "metadata": {},
   "outputs": [],
   "source": [
    "df_timecourse = preprocessing.read_dataset('../input/Mature_Neuron_MT_pMS_Stabilizer'\n",
    "                                           '1_2_time_course_ys.xlsx')"
   ]
  },
  {
   "cell_type": "markdown",
   "metadata": {},
   "source": [
    "Some columns have to be renamed because the data does not conform to the expectations of the latest MSDA"
   ]
  },
  {
   "cell_type": "code",
   "execution_count": 3,
   "metadata": {},
   "outputs": [],
   "source": [
    "df_timecourse = df_timecourse.rename(columns={'Max Score': 'max_score',\n",
    "                                              'Protein Id': 'Uniprot_Id'})"
   ]
  },
  {
   "cell_type": "markdown",
   "metadata": {},
   "source": [
    "#### Correct HGNC symbols that do not match associated Uniprot IDs\n",
    "We trust the Uniprot IDs more than the HGNC symbols"
   ]
  },
  {
   "cell_type": "code",
   "execution_count": 4,
   "metadata": {},
   "outputs": [],
   "source": [
    "df_timecourse['uniprot'] = df_timecourse['Uniprot_Id'].apply(lambda x:\n",
    "                                                             x.split('|')[1].split('-')[0])"
   ]
  },
  {
   "cell_type": "code",
   "execution_count": 5,
   "metadata": {},
   "outputs": [],
   "source": [
    "df_timecourse['hgnc'] = df_timecourse['uniprot'].apply(get_gene_name)"
   ]
  },
  {
   "cell_type": "code",
   "execution_count": 6,
   "metadata": {},
   "outputs": [
    {
     "name": "stdout",
     "output_type": "stream",
     "text": [
      "71\n"
     ]
    }
   ],
   "source": [
    "invalid_gene_symbols = df_timecourse[df_timecourse.hgnc != df_timecourse.gene_symbol]\n",
    "print(len(invalid_gene_symbols.gene_symbol.unique()))"
   ]
  },
  {
   "cell_type": "markdown",
   "metadata": {},
   "source": [
    "71 of the gene symbols in the data do not match their corresponding Uniprot IDs accounting for 139 rows in the data."
   ]
  },
  {
   "cell_type": "markdown",
   "metadata": {},
   "source": [
    "### Filter out sites with low score\n",
    "\n",
    "The data includes a column `max_score` which measures quality of the results. We use MSDA to filter out sites with a max score below 13. **I do not recall the justification for choosing this value. This may be something to reevaluate.**"
   ]
  },
  {
   "cell_type": "code",
   "execution_count": 7,
   "metadata": {},
   "outputs": [],
   "source": [
    "df_timecourse = ppm.filter_max_score(df_timecourse, max_score_cutoff=13.0)"
   ]
  },
  {
   "cell_type": "code",
   "execution_count": 8,
   "metadata": {},
   "outputs": [
    {
     "data": {
      "text/plain": [
       "Index(['site_id', 'siteIDstr', 'Uniprot_Id', 'gene_symbol', 'prot_description',\n",
       "       'Site Position', 'Motif', 'max_score', 'low_bound', 'high_bound',\n",
       "       'best_search_id', 'best_peptide_id', 'best_scan', 'best_search_name',\n",
       "       'file', 'redundancy', 'sequence', 'numMatchingCompSites',\n",
       "       'numQuantCompSites', 'default_spectral_counts', 'default_num_quant',\n",
       "       'DIV 14 EpoB 0 (stabilizer 1)', 'DIV 14 EpoB 10 min (stabilizer 1)',\n",
       "       'DIV 14 EpoB 60 min (stabilizer 1)', 'DIV 14 EpoB 2hr (stabilizer 1)',\n",
       "       'DIV 14 EpoB 6hr (stabilizer 1)', 'DIV 14 Fiji 0 (stabilizer 2)',\n",
       "       'DIV 14 Fiji 10 min (stabilizer 2)',\n",
       "       'DIV 14 Fiji 60 min (stabilizer 2)', 'DIV 14 Fiji 2hr (stabilizer 2)',\n",
       "       'DIV 14 Fiji 6hr (stabilizer 2)', 'Fold Change', 'Bar Chart', 'uniprot',\n",
       "       'hgnc', 'max_score_1', 'max_score_2', 'max_score_3'],\n",
       "      dtype='object')"
      ]
     },
     "execution_count": 8,
     "metadata": {},
     "output_type": "execute_result"
    }
   ],
   "source": [
    "df_timecourse.columns"
   ]
  },
  {
   "cell_type": "markdown",
   "metadata": {},
   "source": [
    "### Fold change differences"
   ]
  },
  {
   "cell_type": "markdown",
   "metadata": {},
   "source": [
    "Let's get all of the timepoint data for EpoB and calculate pairwise fold changes"
   ]
  },
  {
   "cell_type": "code",
   "execution_count": 9,
   "metadata": {},
   "outputs": [],
   "source": [
    "timepoint_indices = list(range(21, 26))\n",
    "timepoints = ['0min', '10min', '60min', '2hr', '6hr']"
   ]
  },
  {
   "cell_type": "code",
   "execution_count": 10,
   "metadata": {},
   "outputs": [],
   "source": [
    "for i in range(5):\n",
    "    for j in range(i+1, 5):\n",
    "        a, b = timepoint_indices[i], timepoint_indices[j]\n",
    "        df_timecourse[f'{timepoints[j]}.vs.{timepoints[i]}'] = \\\n",
    "        df_timecourse.iloc[:, b]/df_timecourse.iloc[:, a]\n",
    "        "
   ]
  },
  {
   "cell_type": "markdown",
   "metadata": {},
   "source": [
    "We calculate the maximum of the absolute value of pairwise log fold changes"
   ]
  },
  {
   "cell_type": "code",
   "execution_count": 11,
   "metadata": {},
   "outputs": [],
   "source": [
    "df_timecourse['maxLogFC'] = df_timecourse.iloc[:, -10:].apply(lambda row:\n",
    "                                      max([abs(np.log2(x)) for x in row]), \n",
    "                                      axis=1)"
   ]
  },
  {
   "cell_type": "markdown",
   "metadata": {},
   "source": [
    "We split compound sites into separate rows and deduplicate by choosing the row with maximum\n",
    "`maxLogFC`"
   ]
  },
  {
   "cell_type": "code",
   "execution_count": 12,
   "metadata": {},
   "outputs": [],
   "source": [
    "df_timecourse = pn.split_sites(df_timecourse)"
   ]
  },
  {
   "cell_type": "code",
   "execution_count": 13,
   "metadata": {},
   "outputs": [
    {
     "data": {
      "text/plain": [
       "4095"
      ]
     },
     "execution_count": 13,
     "metadata": {},
     "output_type": "execute_result"
    }
   ],
   "source": [
    "len(df_timecourse)"
   ]
  },
  {
   "cell_type": "code",
   "execution_count": 14,
   "metadata": {},
   "outputs": [],
   "source": [
    "df_timecourse = df_timecourse.sort_values('maxLogFC', \n",
    "                                          ascending=False).drop_duplicates(['Gene_Symbol',\n",
    "                                                                            'Site'])"
   ]
  },
  {
   "cell_type": "markdown",
   "metadata": {},
   "source": [
    "### Peptide mapping file"
   ]
  },
  {
   "cell_type": "code",
   "execution_count": 15,
   "metadata": {},
   "outputs": [],
   "source": [
    "df_timecourse['peptide'] = df_timecourse.index"
   ]
  },
  {
   "cell_type": "code",
   "execution_count": 16,
   "metadata": {},
   "outputs": [],
   "source": [
    "peptide_map = df_timecourse[['peptide', 'hgnc']]"
   ]
  },
  {
   "cell_type": "code",
   "execution_count": 17,
   "metadata": {},
   "outputs": [],
   "source": [
    "peptide_map.columns = ['peptide', 'protein(s)']"
   ]
  },
  {
   "cell_type": "code",
   "execution_count": 18,
   "metadata": {},
   "outputs": [],
   "source": [
    "peptide_map.to_csv('../work/EpoB_peptide_mapping.tsv', sep='\\t', index=False)"
   ]
  },
  {
   "cell_type": "markdown",
   "metadata": {},
   "source": [
    "### p-values\n",
    "\n",
    "We now calcuate p-values for fold change differences. Let's examine the distribution of all pairwise foldchange differences for all peptides"
   ]
  },
  {
   "cell_type": "code",
   "execution_count": 19,
   "metadata": {},
   "outputs": [],
   "source": [
    "fc_flat = df_timecourse.iloc[:, -18:-8].values.flatten()"
   ]
  },
  {
   "cell_type": "code",
   "execution_count": 20,
   "metadata": {},
   "outputs": [
    {
     "data": {
      "text/plain": [
       "<matplotlib.axes._subplots.AxesSubplot at 0x13e87a860>"
      ]
     },
     "execution_count": 20,
     "metadata": {},
     "output_type": "execute_result"
    },
    {
     "data": {
      "image/png": "[encoded data removed]",
      "text/plain": [
       "<Figure size 432x288 with 1 Axes>"
      ]
     },
     "metadata": {
      "needs_background": "light"
     },
     "output_type": "display_data"
    }
   ],
   "source": [
    "sns.distplot(fc_flat)"
   ]
  },
  {
   "cell_type": "code",
   "execution_count": 21,
   "metadata": {},
   "outputs": [
    {
     "data": {
      "text/plain": [
       "<matplotlib.axes._subplots.AxesSubplot at 0x133477d30>"
      ]
     },
     "execution_count": 21,
     "metadata": {},
     "output_type": "execute_result"
    },
    {
     "data": {
      "image/png": "[encoded data removed]",
      "text/plain": [
       "<Figure size 432x288 with 1 Axes>"
      ]
     },
     "metadata": {
      "needs_background": "light"
     },
     "output_type": "display_data"
    }
   ],
   "source": [
    "sns.distplot(np.log2(fc_flat))"
   ]
  },
  {
   "cell_type": "code",
   "execution_count": 22,
   "metadata": {},
   "outputs": [
    {
     "data": {
      "text/plain": [
       "NormaltestResult(statistic=46550.21242229866, pvalue=0.0)"
      ]
     },
     "execution_count": 22,
     "metadata": {},
     "output_type": "execute_result"
    }
   ],
   "source": [
    "st.normaltest(fc_flat)"
   ]
  },
  {
   "cell_type": "code",
   "execution_count": 23,
   "metadata": {},
   "outputs": [
    {
     "data": {
      "text/plain": [
       "NormaltestResult(statistic=4341.54815949146, pvalue=0.0)"
      ]
     },
     "execution_count": 23,
     "metadata": {},
     "output_type": "execute_result"
    }
   ],
   "source": [
    "st.normaltest(np.log2(fc_flat))"
   ]
  },
  {
   "cell_type": "markdown",
   "metadata": {},
   "source": [
    "We will work with log2 fold changes rather than direct fold changes. Let's transform the foldchanges into log2 fold changes"
   ]
  },
  {
   "cell_type": "code",
   "execution_count": 24,
   "metadata": {},
   "outputs": [],
   "source": [
    "df_timecourse.iloc[:, -18:-8] = np.log2(df_timecourse.iloc[:, -18:-8])"
   ]
  },
  {
   "cell_type": "markdown",
   "metadata": {},
   "source": [
    "We then assume the log2 fold changes are independantly drawn from a normal distribution with mean 0 and standard deviation equal to the empirical standard deviation we observed above"
   ]
  },
  {
   "cell_type": "code",
   "execution_count": 25,
   "metadata": {},
   "outputs": [
    {
     "name": "stdout",
     "output_type": "stream",
     "text": [
      "The empirical standard deviation is 0.4156247743017312\n"
     ]
    }
   ],
   "source": [
    "print(f'The empirical standard deviation is {np.std(np.log2(fc_flat))}')"
   ]
  },
  {
   "cell_type": "code",
   "execution_count": 26,
   "metadata": {},
   "outputs": [],
   "source": [
    "df_timecourse.iloc[:, -18:-8] = df_timecourse.iloc[:, -18:-8]/np.std(np.log2(fc_flat))"
   ]
  },
  {
   "cell_type": "markdown",
   "metadata": {},
   "source": [
    "Let's now convert these into p-values"
   ]
  },
  {
   "cell_type": "code",
   "execution_count": 27,
   "metadata": {},
   "outputs": [],
   "source": [
    "df_timecourse.iloc[:, -18:-8] = df_timecourse.iloc[:, -18:-8].applymap(lambda x:\n",
    "                                                                 2*(1 - st.norm.cdf(abs(x))))"
   ]
  },
  {
   "cell_type": "code",
   "execution_count": 28,
   "metadata": {},
   "outputs": [
    {
     "data": {
      "text/html": [
       "<div>\n",
       "<style scoped>\n",
       "    .dataframe tbody tr th:only-of-type {\n",
       "        vertical-align: middle;\n",
       "    }\n",
       "\n",
       "    .dataframe tbody tr th {\n",
       "        vertical-align: top;\n",
       "    }\n",
       "\n",
       "    .dataframe thead th {\n",
       "        text-align: right;\n",
       "    }\n",
       "</style>\n",
       "<table border=\"1\" class=\"dataframe\">\n",
       "  <thead>\n",
       "    <tr style=\"text-align: right;\">\n",
       "      <th></th>\n",
       "      <th>10min.vs.0min</th>\n",
       "      <th>60min.vs.0min</th>\n",
       "      <th>2hr.vs.0min</th>\n",
       "      <th>6hr.vs.0min</th>\n",
       "      <th>60min.vs.10min</th>\n",
       "      <th>2hr.vs.10min</th>\n",
       "      <th>6hr.vs.10min</th>\n",
       "      <th>2hr.vs.60min</th>\n",
       "      <th>6hr.vs.60min</th>\n",
       "      <th>6hr.vs.2hr</th>\n",
       "    </tr>\n",
       "  </thead>\n",
       "  <tbody>\n",
       "    <tr>\n",
       "      <th>NELFA_T277_S</th>\n",
       "      <td>0.000000e+00</td>\n",
       "      <td>6.505196e-06</td>\n",
       "      <td>3.558413e-03</td>\n",
       "      <td>4.765586e-02</td>\n",
       "      <td>3.306092e-07</td>\n",
       "      <td>2.091238e-11</td>\n",
       "      <td>2.287059e-14</td>\n",
       "      <td>0.110846</td>\n",
       "      <td>1.144393e-02</td>\n",
       "      <td>0.350076</td>\n",
       "    </tr>\n",
       "    <tr>\n",
       "      <th>MAPK1_Y187_C</th>\n",
       "      <td>6.241257e-06</td>\n",
       "      <td>1.310063e-14</td>\n",
       "      <td>6.554979e-12</td>\n",
       "      <td>2.772549e-07</td>\n",
       "      <td>1.441496e-03</td>\n",
       "      <td>1.882446e-02</td>\n",
       "      <td>5.351003e-01</td>\n",
       "      <td>0.402468</td>\n",
       "      <td>1.028873e-02</td>\n",
       "      <td>0.083854</td>\n",
       "    </tr>\n",
       "    <tr>\n",
       "      <th>MAPK1_T185_C</th>\n",
       "      <td>6.241257e-06</td>\n",
       "      <td>1.310063e-14</td>\n",
       "      <td>6.554979e-12</td>\n",
       "      <td>2.772549e-07</td>\n",
       "      <td>1.441496e-03</td>\n",
       "      <td>1.882446e-02</td>\n",
       "      <td>5.351003e-01</td>\n",
       "      <td>0.402468</td>\n",
       "      <td>1.028873e-02</td>\n",
       "      <td>0.083854</td>\n",
       "    </tr>\n",
       "    <tr>\n",
       "      <th>SAFB2_S207_S</th>\n",
       "      <td>5.639933e-14</td>\n",
       "      <td>5.666327e-01</td>\n",
       "      <td>6.451142e-01</td>\n",
       "      <td>6.988831e-01</td>\n",
       "      <td>3.830714e-12</td>\n",
       "      <td>1.716627e-12</td>\n",
       "      <td>1.007416e-12</td>\n",
       "      <td>0.910461</td>\n",
       "      <td>8.522964e-01</td>\n",
       "      <td>0.941224</td>\n",
       "    </tr>\n",
       "    <tr>\n",
       "      <th>CRTC3_S413_S</th>\n",
       "      <td>3.100620e-06</td>\n",
       "      <td>1.156079e-02</td>\n",
       "      <td>2.730550e-01</td>\n",
       "      <td>6.133242e-01</td>\n",
       "      <td>6.512568e-13</td>\n",
       "      <td>8.406724e-09</td>\n",
       "      <td>2.348801e-07</td>\n",
       "      <td>0.152941</td>\n",
       "      <td>4.338955e-02</td>\n",
       "      <td>0.554708</td>\n",
       "    </tr>\n",
       "    <tr>\n",
       "      <th>MAPK3_Y204_C</th>\n",
       "      <td>4.460237e-04</td>\n",
       "      <td>3.773204e-12</td>\n",
       "      <td>4.471554e-10</td>\n",
       "      <td>4.717466e-08</td>\n",
       "      <td>5.943375e-04</td>\n",
       "      <td>6.422924e-03</td>\n",
       "      <td>5.112788e-02</td>\n",
       "      <td>0.478440</td>\n",
       "      <td>1.378671e-01</td>\n",
       "      <td>0.438360</td>\n",
       "    </tr>\n",
       "    <tr>\n",
       "      <th>MAPK3_T202_C</th>\n",
       "      <td>4.460237e-04</td>\n",
       "      <td>3.773204e-12</td>\n",
       "      <td>4.471554e-10</td>\n",
       "      <td>4.717466e-08</td>\n",
       "      <td>5.943375e-04</td>\n",
       "      <td>6.422924e-03</td>\n",
       "      <td>5.112788e-02</td>\n",
       "      <td>0.478440</td>\n",
       "      <td>1.378671e-01</td>\n",
       "      <td>0.438360</td>\n",
       "    </tr>\n",
       "    <tr>\n",
       "      <th>MAP1A_S2257_S</th>\n",
       "      <td>3.573681e-01</td>\n",
       "      <td>7.965850e-12</td>\n",
       "      <td>5.709509e-09</td>\n",
       "      <td>2.070701e-05</td>\n",
       "      <td>3.243618e-09</td>\n",
       "      <td>9.358957e-07</td>\n",
       "      <td>8.476843e-04</td>\n",
       "      <td>0.310531</td>\n",
       "      <td>9.822042e-03</td>\n",
       "      <td>0.116899</td>\n",
       "    </tr>\n",
       "    <tr>\n",
       "      <th>MAP2_S1782_C</th>\n",
       "      <td>2.866848e-01</td>\n",
       "      <td>4.363846e-01</td>\n",
       "      <td>5.534971e-04</td>\n",
       "      <td>6.723089e-11</td>\n",
       "      <td>7.740284e-01</td>\n",
       "      <td>1.693979e-02</td>\n",
       "      <td>4.726991e-08</td>\n",
       "      <td>0.007470</td>\n",
       "      <td>9.009450e-09</td>\n",
       "      <td>0.002117</td>\n",
       "    </tr>\n",
       "    <tr>\n",
       "      <th>MAP2_S1786_C</th>\n",
       "      <td>2.866848e-01</td>\n",
       "      <td>4.363846e-01</td>\n",
       "      <td>5.534971e-04</td>\n",
       "      <td>6.723089e-11</td>\n",
       "      <td>7.740284e-01</td>\n",
       "      <td>1.693979e-02</td>\n",
       "      <td>4.726991e-08</td>\n",
       "      <td>0.007470</td>\n",
       "      <td>9.009450e-09</td>\n",
       "      <td>0.002117</td>\n",
       "    </tr>\n",
       "    <tr>\n",
       "      <th>MAP2_S1778_C</th>\n",
       "      <td>2.866848e-01</td>\n",
       "      <td>4.363846e-01</td>\n",
       "      <td>5.534971e-04</td>\n",
       "      <td>6.723089e-11</td>\n",
       "      <td>7.740284e-01</td>\n",
       "      <td>1.693979e-02</td>\n",
       "      <td>4.726991e-08</td>\n",
       "      <td>0.007470</td>\n",
       "      <td>9.009450e-09</td>\n",
       "      <td>0.002117</td>\n",
       "    </tr>\n",
       "    <tr>\n",
       "      <th>MAPK1_T190_C</th>\n",
       "      <td>9.605407e-06</td>\n",
       "      <td>9.571011e-11</td>\n",
       "      <td>8.889358e-09</td>\n",
       "      <td>3.786017e-05</td>\n",
       "      <td>4.058886e-02</td>\n",
       "      <td>1.852397e-01</td>\n",
       "      <td>7.598285e-01</td>\n",
       "      <td>0.469734</td>\n",
       "      <td>1.860203e-02</td>\n",
       "      <td>0.102996</td>\n",
       "    </tr>\n",
       "    <tr>\n",
       "      <th>STAT3_Y705_S</th>\n",
       "      <td>5.569485e-07</td>\n",
       "      <td>1.378890e-10</td>\n",
       "      <td>6.315154e-05</td>\n",
       "      <td>1.137900e-09</td>\n",
       "      <td>1.577647e-01</td>\n",
       "      <td>3.149629e-01</td>\n",
       "      <td>2.787283e-01</td>\n",
       "      <td>0.015628</td>\n",
       "      <td>7.418166e-01</td>\n",
       "      <td>0.036794</td>\n",
       "    </tr>\n",
       "    <tr>\n",
       "      <th>DPYSL3_S56_S</th>\n",
       "      <td>5.155452e-02</td>\n",
       "      <td>1.664037e-06</td>\n",
       "      <td>1.328989e-09</td>\n",
       "      <td>1.395992e-10</td>\n",
       "      <td>4.460424e-03</td>\n",
       "      <td>3.838068e-05</td>\n",
       "      <td>7.840469e-06</td>\n",
       "      <td>0.202877</td>\n",
       "      <td>1.039763e-01</td>\n",
       "      <td>0.724481</td>\n",
       "    </tr>\n",
       "    <tr>\n",
       "      <th>MAP2_S1630_S</th>\n",
       "      <td>7.154165e-02</td>\n",
       "      <td>1.762221e-10</td>\n",
       "      <td>4.868528e-10</td>\n",
       "      <td>1.610424e-07</td>\n",
       "      <td>4.678149e-06</td>\n",
       "      <td>9.812662e-06</td>\n",
       "      <td>5.872373e-04</td>\n",
       "      <td>0.874878</td>\n",
       "      <td>2.537513e-01</td>\n",
       "      <td>0.325204</td>\n",
       "    </tr>\n",
       "    <tr>\n",
       "      <th>CTNND1_S352_S</th>\n",
       "      <td>8.014576e-10</td>\n",
       "      <td>5.634306e-02</td>\n",
       "      <td>9.512769e-01</td>\n",
       "      <td>9.804357e-01</td>\n",
       "      <td>2.272676e-05</td>\n",
       "      <td>5.443943e-10</td>\n",
       "      <td>9.350731e-10</td>\n",
       "      <td>0.048898</td>\n",
       "      <td>5.958527e-02</td>\n",
       "      <td>0.931764</td>\n",
       "    </tr>\n",
       "    <tr>\n",
       "      <th>VIM_S72_S</th>\n",
       "      <td>5.919090e-10</td>\n",
       "      <td>1.982996e-01</td>\n",
       "      <td>2.448958e-01</td>\n",
       "      <td>7.152775e-01</td>\n",
       "      <td>9.287717e-07</td>\n",
       "      <td>4.911616e-07</td>\n",
       "      <td>5.616522e-09</td>\n",
       "      <td>0.901652</td>\n",
       "      <td>3.567197e-01</td>\n",
       "      <td>0.424836</td>\n",
       "    </tr>\n",
       "    <tr>\n",
       "      <th>MAP1B_S1443_C</th>\n",
       "      <td>4.709414e-02</td>\n",
       "      <td>4.151242e-05</td>\n",
       "      <td>9.913158e-02</td>\n",
       "      <td>5.771716e-01</td>\n",
       "      <td>1.169653e-09</td>\n",
       "      <td>2.784868e-04</td>\n",
       "      <td>1.099136e-02</td>\n",
       "      <td>0.014293</td>\n",
       "      <td>3.980461e-04</td>\n",
       "      <td>0.275028</td>\n",
       "    </tr>\n",
       "    <tr>\n",
       "      <th>MAP1B_S1438_C</th>\n",
       "      <td>4.709414e-02</td>\n",
       "      <td>4.151242e-05</td>\n",
       "      <td>9.913158e-02</td>\n",
       "      <td>5.771716e-01</td>\n",
       "      <td>1.169653e-09</td>\n",
       "      <td>2.784868e-04</td>\n",
       "      <td>1.099136e-02</td>\n",
       "      <td>0.014293</td>\n",
       "      <td>3.980461e-04</td>\n",
       "      <td>0.275028</td>\n",
       "    </tr>\n",
       "    <tr>\n",
       "      <th>CLIP1_S348_S</th>\n",
       "      <td>1.861116e-06</td>\n",
       "      <td>1.020680e-03</td>\n",
       "      <td>7.780343e-01</td>\n",
       "      <td>2.740217e-01</td>\n",
       "      <td>1.380253e-01</td>\n",
       "      <td>4.422038e-07</td>\n",
       "      <td>4.578871e-09</td>\n",
       "      <td>0.000362</td>\n",
       "      <td>1.194379e-05</td>\n",
       "      <td>0.416811</td>\n",
       "    </tr>\n",
       "    <tr>\n",
       "      <th>AHNAK_S511_C</th>\n",
       "      <td>1.034962e-01</td>\n",
       "      <td>1.718838e-01</td>\n",
       "      <td>4.522754e-03</td>\n",
       "      <td>7.410359e-06</td>\n",
       "      <td>2.750653e-03</td>\n",
       "      <td>2.258726e-01</td>\n",
       "      <td>4.325243e-03</td>\n",
       "      <td>0.000026</td>\n",
       "      <td>4.983455e-09</td>\n",
       "      <td>0.100517</td>\n",
       "    </tr>\n",
       "    <tr>\n",
       "      <th>AHNAK_S501_C</th>\n",
       "      <td>1.034962e-01</td>\n",
       "      <td>1.718838e-01</td>\n",
       "      <td>4.522754e-03</td>\n",
       "      <td>7.410359e-06</td>\n",
       "      <td>2.750653e-03</td>\n",
       "      <td>2.258726e-01</td>\n",
       "      <td>4.325243e-03</td>\n",
       "      <td>0.000026</td>\n",
       "      <td>4.983455e-09</td>\n",
       "      <td>0.100517</td>\n",
       "    </tr>\n",
       "    <tr>\n",
       "      <th>EYA4_S139_S</th>\n",
       "      <td>1.735105e-01</td>\n",
       "      <td>1.051679e-04</td>\n",
       "      <td>2.866360e-01</td>\n",
       "      <td>7.404882e-02</td>\n",
       "      <td>1.182452e-02</td>\n",
       "      <td>7.676273e-01</td>\n",
       "      <td>1.647735e-03</td>\n",
       "      <td>0.004911</td>\n",
       "      <td>1.473160e-08</td>\n",
       "      <td>0.004347</td>\n",
       "    </tr>\n",
       "    <tr>\n",
       "      <th>CSTF2_S524_S</th>\n",
       "      <td>9.076322e-01</td>\n",
       "      <td>4.743242e-07</td>\n",
       "      <td>4.877044e-03</td>\n",
       "      <td>5.346517e-01</td>\n",
       "      <td>2.571139e-07</td>\n",
       "      <td>3.377962e-03</td>\n",
       "      <td>6.136325e-01</td>\n",
       "      <td>0.026326</td>\n",
       "      <td>1.537381e-08</td>\n",
       "      <td>0.000590</td>\n",
       "    </tr>\n",
       "    <tr>\n",
       "      <th>PLIN3_S130_S</th>\n",
       "      <td>1.139894e-06</td>\n",
       "      <td>4.896605e-02</td>\n",
       "      <td>4.868665e-01</td>\n",
       "      <td>4.911480e-01</td>\n",
       "      <td>3.768433e-03</td>\n",
       "      <td>2.680633e-08</td>\n",
       "      <td>2.787369e-08</td>\n",
       "      <td>0.007717</td>\n",
       "      <td>7.875266e-03</td>\n",
       "      <td>0.994561</td>\n",
       "    </tr>\n",
       "    <tr>\n",
       "      <th>CANX_S554_S</th>\n",
       "      <td>8.651232e-03</td>\n",
       "      <td>3.946818e-03</td>\n",
       "      <td>4.312237e-01</td>\n",
       "      <td>7.688532e-01</td>\n",
       "      <td>3.631012e-08</td>\n",
       "      <td>6.433764e-04</td>\n",
       "      <td>3.506917e-03</td>\n",
       "      <td>0.036146</td>\n",
       "      <td>9.639326e-03</td>\n",
       "      <td>0.621854</td>\n",
       "    </tr>\n",
       "    <tr>\n",
       "      <th>HSPB1_S15_S</th>\n",
       "      <td>5.974538e-06</td>\n",
       "      <td>8.522546e-01</td>\n",
       "      <td>3.571933e-01</td>\n",
       "      <td>8.723294e-01</td>\n",
       "      <td>2.434607e-06</td>\n",
       "      <td>5.093511e-08</td>\n",
       "      <td>1.262024e-05</td>\n",
       "      <td>0.462654</td>\n",
       "      <td>7.286342e-01</td>\n",
       "      <td>0.279507</td>\n",
       "    </tr>\n",
       "    <tr>\n",
       "      <th>ADAR_S648_S</th>\n",
       "      <td>1.169439e-01</td>\n",
       "      <td>5.273549e-08</td>\n",
       "      <td>2.448814e-05</td>\n",
       "      <td>2.112959e-02</td>\n",
       "      <td>1.070193e-04</td>\n",
       "      <td>8.007937e-03</td>\n",
       "      <td>4.605572e-01</td>\n",
       "      <td>0.221569</td>\n",
       "      <td>1.711695e-03</td>\n",
       "      <td>0.055645</td>\n",
       "    </tr>\n",
       "    <tr>\n",
       "      <th>ADAR_T644_S</th>\n",
       "      <td>1.431500e-01</td>\n",
       "      <td>6.100020e-08</td>\n",
       "      <td>5.984214e-05</td>\n",
       "      <td>4.709660e-02</td>\n",
       "      <td>7.760338e-05</td>\n",
       "      <td>1.079482e-02</td>\n",
       "      <td>6.021790e-01</td>\n",
       "      <td>0.160792</td>\n",
       "      <td>6.026615e-04</td>\n",
       "      <td>0.042560</td>\n",
       "    </tr>\n",
       "    <tr>\n",
       "      <th>CD3EAP_S138_S</th>\n",
       "      <td>9.418484e-05</td>\n",
       "      <td>6.779066e-08</td>\n",
       "      <td>2.525374e-05</td>\n",
       "      <td>1.787081e-02</td>\n",
       "      <td>1.357447e-01</td>\n",
       "      <td>7.585269e-01</td>\n",
       "      <td>1.243374e-01</td>\n",
       "      <td>0.236251</td>\n",
       "      <td>2.456520e-03</td>\n",
       "      <td>0.065149</td>\n",
       "    </tr>\n",
       "    <tr>\n",
       "      <th>...</th>\n",
       "      <td>...</td>\n",
       "      <td>...</td>\n",
       "      <td>...</td>\n",
       "      <td>...</td>\n",
       "      <td>...</td>\n",
       "      <td>...</td>\n",
       "      <td>...</td>\n",
       "      <td>...</td>\n",
       "      <td>...</td>\n",
       "      <td>...</td>\n",
       "    </tr>\n",
       "    <tr>\n",
       "      <th>C15orf52_S387_S</th>\n",
       "      <td>9.041259e-01</td>\n",
       "      <td>9.894858e-01</td>\n",
       "      <td>9.748330e-01</td>\n",
       "      <td>8.890871e-01</td>\n",
       "      <td>9.145724e-01</td>\n",
       "      <td>9.291585e-01</td>\n",
       "      <td>7.949328e-01</td>\n",
       "      <td>0.985344</td>\n",
       "      <td>8.786842e-01</td>\n",
       "      <td>0.864218</td>\n",
       "    </tr>\n",
       "    <tr>\n",
       "      <th>REST_S864_S</th>\n",
       "      <td>8.915464e-01</td>\n",
       "      <td>9.614925e-01</td>\n",
       "      <td>9.512452e-01</td>\n",
       "      <td>9.039650e-01</td>\n",
       "      <td>9.298235e-01</td>\n",
       "      <td>9.400519e-01</td>\n",
       "      <td>7.971773e-01</td>\n",
       "      <td>0.989738</td>\n",
       "      <td>8.658478e-01</td>\n",
       "      <td>0.855742</td>\n",
       "    </tr>\n",
       "    <tr>\n",
       "      <th>H2AFY_T129_S</th>\n",
       "      <td>7.997109e-01</td>\n",
       "      <td>9.559340e-01</td>\n",
       "      <td>9.653784e-01</td>\n",
       "      <td>9.879370e-01</td>\n",
       "      <td>8.426815e-01</td>\n",
       "      <td>8.334210e-01</td>\n",
       "      <td>8.114142e-01</td>\n",
       "      <td>0.990544</td>\n",
       "      <td>9.679836e-01</td>\n",
       "      <td>0.977434</td>\n",
       "    </tr>\n",
       "    <tr>\n",
       "      <th>ATF7IP_S445_S</th>\n",
       "      <td>8.782414e-01</td>\n",
       "      <td>9.672704e-01</td>\n",
       "      <td>8.026135e-01</td>\n",
       "      <td>9.076843e-01</td>\n",
       "      <td>9.106911e-01</td>\n",
       "      <td>9.229112e-01</td>\n",
       "      <td>9.702944e-01</td>\n",
       "      <td>0.834500</td>\n",
       "      <td>9.402721e-01</td>\n",
       "      <td>0.893398</td>\n",
       "    </tr>\n",
       "    <tr>\n",
       "      <th>SRRM2_S1101_C</th>\n",
       "      <td>9.050800e-01</td>\n",
       "      <td>8.791666e-01</td>\n",
       "      <td>9.222248e-01</td>\n",
       "      <td>9.370613e-01</td>\n",
       "      <td>9.738507e-01</td>\n",
       "      <td>8.283032e-01</td>\n",
       "      <td>9.678678e-01</td>\n",
       "      <td>0.802852</td>\n",
       "      <td>9.417570e-01</td>\n",
       "      <td>0.859826</td>\n",
       "    </tr>\n",
       "    <tr>\n",
       "      <th>LRP2_S4618_C</th>\n",
       "      <td>8.297624e-01</td>\n",
       "      <td>8.988121e-01</td>\n",
       "      <td>8.043435e-01</td>\n",
       "      <td>8.054823e-01</td>\n",
       "      <td>9.300005e-01</td>\n",
       "      <td>9.738951e-01</td>\n",
       "      <td>9.750685e-01</td>\n",
       "      <td>0.904033</td>\n",
       "      <td>9.051991e-01</td>\n",
       "      <td>0.998826</td>\n",
       "    </tr>\n",
       "    <tr>\n",
       "      <th>DAXX_S495_S</th>\n",
       "      <td>9.033339e-01</td>\n",
       "      <td>9.294970e-01</td>\n",
       "      <td>9.000810e-01</td>\n",
       "      <td>9.976822e-01</td>\n",
       "      <td>9.736960e-01</td>\n",
       "      <td>8.049006e-01</td>\n",
       "      <td>9.056351e-01</td>\n",
       "      <td>0.830518</td>\n",
       "      <td>9.318061e-01</td>\n",
       "      <td>0.897782</td>\n",
       "    </tr>\n",
       "    <tr>\n",
       "      <th>PLEC_S720_S</th>\n",
       "      <td>9.601342e-01</td>\n",
       "      <td>8.576364e-01</td>\n",
       "      <td>9.670953e-01</td>\n",
       "      <td>9.797758e-01</td>\n",
       "      <td>8.185822e-01</td>\n",
       "      <td>9.273045e-01</td>\n",
       "      <td>9.803460e-01</td>\n",
       "      <td>0.890136</td>\n",
       "      <td>8.377801e-01</td>\n",
       "      <td>0.946899</td>\n",
       "    </tr>\n",
       "    <tr>\n",
       "      <th>PIAS1_S503_S</th>\n",
       "      <td>9.015183e-01</td>\n",
       "      <td>9.019557e-01</td>\n",
       "      <td>8.194390e-01</td>\n",
       "      <td>8.438575e-01</td>\n",
       "      <td>9.995593e-01</td>\n",
       "      <td>9.167543e-01</td>\n",
       "      <td>9.416325e-01</td>\n",
       "      <td>0.916316</td>\n",
       "      <td>9.411930e-01</td>\n",
       "      <td>0.975026</td>\n",
       "    </tr>\n",
       "    <tr>\n",
       "      <th>CLASP2_S370_S</th>\n",
       "      <td>9.242765e-01</td>\n",
       "      <td>9.536003e-01</td>\n",
       "      <td>8.207164e-01</td>\n",
       "      <td>8.343378e-01</td>\n",
       "      <td>9.705950e-01</td>\n",
       "      <td>8.953202e-01</td>\n",
       "      <td>9.091639e-01</td>\n",
       "      <td>0.866239</td>\n",
       "      <td>8.800110e-01</td>\n",
       "      <td>0.986052</td>\n",
       "    </tr>\n",
       "    <tr>\n",
       "      <th>FAM53C_S299_S</th>\n",
       "      <td>9.768597e-01</td>\n",
       "      <td>9.078447e-01</td>\n",
       "      <td>8.213333e-01</td>\n",
       "      <td>9.659041e-01</td>\n",
       "      <td>9.308692e-01</td>\n",
       "      <td>8.439651e-01</td>\n",
       "      <td>9.890377e-01</td>\n",
       "      <td>0.912352</td>\n",
       "      <td>9.417968e-01</td>\n",
       "      <td>0.854732</td>\n",
       "    </tr>\n",
       "    <tr>\n",
       "      <th>SPTBN2_T2354_S</th>\n",
       "      <td>8.361098e-01</td>\n",
       "      <td>9.542339e-01</td>\n",
       "      <td>8.523676e-01</td>\n",
       "      <td>8.215266e-01</td>\n",
       "      <td>8.811739e-01</td>\n",
       "      <td>9.834262e-01</td>\n",
       "      <td>9.850725e-01</td>\n",
       "      <td>0.897589</td>\n",
       "      <td>8.664329e-01</td>\n",
       "      <td>0.968505</td>\n",
       "    </tr>\n",
       "    <tr>\n",
       "      <th>PTPN13_S908_S</th>\n",
       "      <td>9.616502e-01</td>\n",
       "      <td>9.709984e-01</td>\n",
       "      <td>9.114051e-01</td>\n",
       "      <td>9.104324e-01</td>\n",
       "      <td>9.906436e-01</td>\n",
       "      <td>8.733937e-01</td>\n",
       "      <td>9.486436e-01</td>\n",
       "      <td>0.882641</td>\n",
       "      <td>9.393101e-01</td>\n",
       "      <td>0.822944</td>\n",
       "    </tr>\n",
       "    <tr>\n",
       "      <th>NDRG2_S352_S</th>\n",
       "      <td>9.581760e-01</td>\n",
       "      <td>8.760781e-01</td>\n",
       "      <td>9.938704e-01</td>\n",
       "      <td>9.512702e-01</td>\n",
       "      <td>8.349280e-01</td>\n",
       "      <td>9.520560e-01</td>\n",
       "      <td>9.930831e-01</td>\n",
       "      <td>0.882137</td>\n",
       "      <td>8.281658e-01</td>\n",
       "      <td>0.945153</td>\n",
       "    </tr>\n",
       "    <tr>\n",
       "      <th>TRIM2_S455_S</th>\n",
       "      <td>8.719257e-01</td>\n",
       "      <td>8.318627e-01</td>\n",
       "      <td>9.808136e-01</td>\n",
       "      <td>8.480293e-01</td>\n",
       "      <td>9.592456e-01</td>\n",
       "      <td>8.909011e-01</td>\n",
       "      <td>9.757316e-01</td>\n",
       "      <td>0.850669</td>\n",
       "      <td>9.835012e-01</td>\n",
       "      <td>0.866910</td>\n",
       "    </tr>\n",
       "    <tr>\n",
       "      <th>LRIG1_S1069_S</th>\n",
       "      <td>8.531367e-01</td>\n",
       "      <td>9.801101e-01</td>\n",
       "      <td>9.880947e-01</td>\n",
       "      <td>8.812420e-01</td>\n",
       "      <td>8.336298e-01</td>\n",
       "      <td>8.648559e-01</td>\n",
       "      <td>9.715034e-01</td>\n",
       "      <td>0.968211</td>\n",
       "      <td>8.616094e-01</td>\n",
       "      <td>0.893028</td>\n",
       "    </tr>\n",
       "    <tr>\n",
       "      <th>GULP1_T208_S</th>\n",
       "      <td>8.758651e-01</td>\n",
       "      <td>9.063010e-01</td>\n",
       "      <td>8.359267e-01</td>\n",
       "      <td>8.734994e-01</td>\n",
       "      <td>9.692831e-01</td>\n",
       "      <td>9.594104e-01</td>\n",
       "      <td>9.976047e-01</td>\n",
       "      <td>0.928763</td>\n",
       "      <td>9.668897e-01</td>\n",
       "      <td>0.961803</td>\n",
       "    </tr>\n",
       "    <tr>\n",
       "      <th>FBXO4_S12_S</th>\n",
       "      <td>8.600679e-01</td>\n",
       "      <td>8.576162e-01</td>\n",
       "      <td>8.409090e-01</td>\n",
       "      <td>9.237428e-01</td>\n",
       "      <td>9.975093e-01</td>\n",
       "      <td>9.804992e-01</td>\n",
       "      <td>9.357858e-01</td>\n",
       "      <td>0.982989</td>\n",
       "      <td>9.333035e-01</td>\n",
       "      <td>0.916367</td>\n",
       "    </tr>\n",
       "    <tr>\n",
       "      <th>TNKS1BP1_S672_S</th>\n",
       "      <td>8.634065e-01</td>\n",
       "      <td>8.410215e-01</td>\n",
       "      <td>8.775775e-01</td>\n",
       "      <td>8.908815e-01</td>\n",
       "      <td>9.772254e-01</td>\n",
       "      <td>9.856400e-01</td>\n",
       "      <td>9.721989e-01</td>\n",
       "      <td>0.962875</td>\n",
       "      <td>9.494495e-01</td>\n",
       "      <td>0.986555</td>\n",
       "    </tr>\n",
       "    <tr>\n",
       "      <th>TLN2_T1843_S</th>\n",
       "      <td>9.741887e-01</td>\n",
       "      <td>9.394700e-01</td>\n",
       "      <td>9.471329e-01</td>\n",
       "      <td>8.962276e-01</td>\n",
       "      <td>9.137646e-01</td>\n",
       "      <td>9.729152e-01</td>\n",
       "      <td>8.706889e-01</td>\n",
       "      <td>0.886888</td>\n",
       "      <td>9.565430e-01</td>\n",
       "      <td>0.844034</td>\n",
       "    </tr>\n",
       "    <tr>\n",
       "      <th>RBM14_T206_S</th>\n",
       "      <td>9.609852e-01</td>\n",
       "      <td>9.205571e-01</td>\n",
       "      <td>9.477083e-01</td>\n",
       "      <td>9.049490e-01</td>\n",
       "      <td>8.818304e-01</td>\n",
       "      <td>9.867018e-01</td>\n",
       "      <td>8.663243e-01</td>\n",
       "      <td>0.868695</td>\n",
       "      <td>9.842987e-01</td>\n",
       "      <td>0.853232</td>\n",
       "    </tr>\n",
       "    <tr>\n",
       "      <th>ADCY2_S991_S</th>\n",
       "      <td>9.937353e-01</td>\n",
       "      <td>8.954462e-01</td>\n",
       "      <td>9.588746e-01</td>\n",
       "      <td>9.134572e-01</td>\n",
       "      <td>8.892385e-01</td>\n",
       "      <td>9.651322e-01</td>\n",
       "      <td>9.072320e-01</td>\n",
       "      <td>0.854812</td>\n",
       "      <td>9.818599e-01</td>\n",
       "      <td>0.872688</td>\n",
       "    </tr>\n",
       "    <tr>\n",
       "      <th>DCAF5_S794_S</th>\n",
       "      <td>9.540207e-01</td>\n",
       "      <td>9.642033e-01</td>\n",
       "      <td>9.074867e-01</td>\n",
       "      <td>9.553519e-01</td>\n",
       "      <td>9.183296e-01</td>\n",
       "      <td>8.619695e-01</td>\n",
       "      <td>9.986667e-01</td>\n",
       "      <td>0.943135</td>\n",
       "      <td>9.196561e-01</td>\n",
       "      <td>0.863283</td>\n",
       "    </tr>\n",
       "    <tr>\n",
       "      <th>DST_S4148_S</th>\n",
       "      <td>9.701233e-01</td>\n",
       "      <td>8.943917e-01</td>\n",
       "      <td>9.921961e-01</td>\n",
       "      <td>9.702636e-01</td>\n",
       "      <td>8.648506e-01</td>\n",
       "      <td>9.623263e-01</td>\n",
       "      <td>9.404284e-01</td>\n",
       "      <td>0.902132</td>\n",
       "      <td>9.239403e-01</td>\n",
       "      <td>0.978063</td>\n",
       "    </tr>\n",
       "    <tr>\n",
       "      <th>VDAC1_S104_S</th>\n",
       "      <td>8.704202e-01</td>\n",
       "      <td>9.083855e-01</td>\n",
       "      <td>9.114176e-01</td>\n",
       "      <td>9.405107e-01</td>\n",
       "      <td>9.616768e-01</td>\n",
       "      <td>9.586290e-01</td>\n",
       "      <td>9.294819e-01</td>\n",
       "      <td>0.996948</td>\n",
       "      <td>9.677366e-01</td>\n",
       "      <td>0.970786</td>\n",
       "    </tr>\n",
       "    <tr>\n",
       "      <th>CCDC85C_S246_S</th>\n",
       "      <td>9.141586e-01</td>\n",
       "      <td>8.758124e-01</td>\n",
       "      <td>9.709732e-01</td>\n",
       "      <td>8.861832e-01</td>\n",
       "      <td>9.613295e-01</td>\n",
       "      <td>9.430739e-01</td>\n",
       "      <td>9.718079e-01</td>\n",
       "      <td>0.904569</td>\n",
       "      <td>9.895126e-01</td>\n",
       "      <td>0.914989</td>\n",
       "    </tr>\n",
       "    <tr>\n",
       "      <th>PNN_S347_S</th>\n",
       "      <td>8.888821e-01</td>\n",
       "      <td>8.816219e-01</td>\n",
       "      <td>9.567287e-01</td>\n",
       "      <td>9.954575e-01</td>\n",
       "      <td>9.926639e-01</td>\n",
       "      <td>9.318959e-01</td>\n",
       "      <td>8.843856e-01</td>\n",
       "      <td>0.924589</td>\n",
       "      <td>8.771314e-01</td>\n",
       "      <td>0.952194</td>\n",
       "    </tr>\n",
       "    <tr>\n",
       "      <th>TJAP1_S300_S</th>\n",
       "      <td>9.778998e-01</td>\n",
       "      <td>9.383522e-01</td>\n",
       "      <td>9.141117e-01</td>\n",
       "      <td>9.954118e-01</td>\n",
       "      <td>9.163415e-01</td>\n",
       "      <td>8.921724e-01</td>\n",
       "      <td>9.733137e-01</td>\n",
       "      <td>0.975658</td>\n",
       "      <td>9.429276e-01</td>\n",
       "      <td>0.918675</td>\n",
       "    </tr>\n",
       "    <tr>\n",
       "      <th>PPA2_S332_S</th>\n",
       "      <td>9.056854e-01</td>\n",
       "      <td>9.214379e-01</td>\n",
       "      <td>9.002405e-01</td>\n",
       "      <td>9.893331e-01</td>\n",
       "      <td>9.841552e-01</td>\n",
       "      <td>9.945145e-01</td>\n",
       "      <td>9.162861e-01</td>\n",
       "      <td>0.978671</td>\n",
       "      <td>9.320600e-01</td>\n",
       "      <td>0.910833</td>\n",
       "    </tr>\n",
       "    <tr>\n",
       "      <th>SPHK2_S449_S</th>\n",
       "      <td>9.760830e-01</td>\n",
       "      <td>9.605538e-01</td>\n",
       "      <td>9.553087e-01</td>\n",
       "      <td>9.653893e-01</td>\n",
       "      <td>9.366838e-01</td>\n",
       "      <td>9.314493e-01</td>\n",
       "      <td>9.892993e-01</td>\n",
       "      <td>0.994748</td>\n",
       "      <td>9.260225e-01</td>\n",
       "      <td>0.920794</td>\n",
       "    </tr>\n",
       "  </tbody>\n",
       "</table>\n",
       "<p>3826 rows × 10 columns</p>\n",
       "</div>"
      ],
      "text/plain": [
       "                 10min.vs.0min  60min.vs.0min   2hr.vs.0min   6hr.vs.0min  \\\n",
       "NELFA_T277_S      0.000000e+00   6.505196e-06  3.558413e-03  4.765586e-02   \n",
       "MAPK1_Y187_C      6.241257e-06   1.310063e-14  6.554979e-12  2.772549e-07   \n",
       "MAPK1_T185_C      6.241257e-06   1.310063e-14  6.554979e-12  2.772549e-07   \n",
       "SAFB2_S207_S      5.639933e-14   5.666327e-01  6.451142e-01  6.988831e-01   \n",
       "CRTC3_S413_S      3.100620e-06   1.156079e-02  2.730550e-01  6.133242e-01   \n",
       "MAPK3_Y204_C      4.460237e-04   3.773204e-12  4.471554e-10  4.717466e-08   \n",
       "MAPK3_T202_C      4.460237e-04   3.773204e-12  4.471554e-10  4.717466e-08   \n",
       "MAP1A_S2257_S     3.573681e-01   7.965850e-12  5.709509e-09  2.070701e-05   \n",
       "MAP2_S1782_C      2.866848e-01   4.363846e-01  5.534971e-04  6.723089e-11   \n",
       "MAP2_S1786_C      2.866848e-01   4.363846e-01  5.534971e-04  6.723089e-11   \n",
       "MAP2_S1778_C      2.866848e-01   4.363846e-01  5.534971e-04  6.723089e-11   \n",
       "MAPK1_T190_C      9.605407e-06   9.571011e-11  8.889358e-09  3.786017e-05   \n",
       "STAT3_Y705_S      5.569485e-07   1.378890e-10  6.315154e-05  1.137900e-09   \n",
       "DPYSL3_S56_S      5.155452e-02   1.664037e-06  1.328989e-09  1.395992e-10   \n",
       "MAP2_S1630_S      7.154165e-02   1.762221e-10  4.868528e-10  1.610424e-07   \n",
       "CTNND1_S352_S     8.014576e-10   5.634306e-02  9.512769e-01  9.804357e-01   \n",
       "VIM_S72_S         5.919090e-10   1.982996e-01  2.448958e-01  7.152775e-01   \n",
       "MAP1B_S1443_C     4.709414e-02   4.151242e-05  9.913158e-02  5.771716e-01   \n",
       "MAP1B_S1438_C     4.709414e-02   4.151242e-05  9.913158e-02  5.771716e-01   \n",
       "CLIP1_S348_S      1.861116e-06   1.020680e-03  7.780343e-01  2.740217e-01   \n",
       "AHNAK_S511_C      1.034962e-01   1.718838e-01  4.522754e-03  7.410359e-06   \n",
       "AHNAK_S501_C      1.034962e-01   1.718838e-01  4.522754e-03  7.410359e-06   \n",
       "EYA4_S139_S       1.735105e-01   1.051679e-04  2.866360e-01  7.404882e-02   \n",
       "CSTF2_S524_S      9.076322e-01   4.743242e-07  4.877044e-03  5.346517e-01   \n",
       "PLIN3_S130_S      1.139894e-06   4.896605e-02  4.868665e-01  4.911480e-01   \n",
       "CANX_S554_S       8.651232e-03   3.946818e-03  4.312237e-01  7.688532e-01   \n",
       "HSPB1_S15_S       5.974538e-06   8.522546e-01  3.571933e-01  8.723294e-01   \n",
       "ADAR_S648_S       1.169439e-01   5.273549e-08  2.448814e-05  2.112959e-02   \n",
       "ADAR_T644_S       1.431500e-01   6.100020e-08  5.984214e-05  4.709660e-02   \n",
       "CD3EAP_S138_S     9.418484e-05   6.779066e-08  2.525374e-05  1.787081e-02   \n",
       "...                        ...            ...           ...           ...   \n",
       "C15orf52_S387_S   9.041259e-01   9.894858e-01  9.748330e-01  8.890871e-01   \n",
       "REST_S864_S       8.915464e-01   9.614925e-01  9.512452e-01  9.039650e-01   \n",
       "H2AFY_T129_S      7.997109e-01   9.559340e-01  9.653784e-01  9.879370e-01   \n",
       "ATF7IP_S445_S     8.782414e-01   9.672704e-01  8.026135e-01  9.076843e-01   \n",
       "SRRM2_S1101_C     9.050800e-01   8.791666e-01  9.222248e-01  9.370613e-01   \n",
       "LRP2_S4618_C      8.297624e-01   8.988121e-01  8.043435e-01  8.054823e-01   \n",
       "DAXX_S495_S       9.033339e-01   9.294970e-01  9.000810e-01  9.976822e-01   \n",
       "PLEC_S720_S       9.601342e-01   8.576364e-01  9.670953e-01  9.797758e-01   \n",
       "PIAS1_S503_S      9.015183e-01   9.019557e-01  8.194390e-01  8.438575e-01   \n",
       "CLASP2_S370_S     9.242765e-01   9.536003e-01  8.207164e-01  8.343378e-01   \n",
       "FAM53C_S299_S     9.768597e-01   9.078447e-01  8.213333e-01  9.659041e-01   \n",
       "SPTBN2_T2354_S    8.361098e-01   9.542339e-01  8.523676e-01  8.215266e-01   \n",
       "PTPN13_S908_S     9.616502e-01   9.709984e-01  9.114051e-01  9.104324e-01   \n",
       "NDRG2_S352_S      9.581760e-01   8.760781e-01  9.938704e-01  9.512702e-01   \n",
       "TRIM2_S455_S      8.719257e-01   8.318627e-01  9.808136e-01  8.480293e-01   \n",
       "LRIG1_S1069_S     8.531367e-01   9.801101e-01  9.880947e-01  8.812420e-01   \n",
       "GULP1_T208_S      8.758651e-01   9.063010e-01  8.359267e-01  8.734994e-01   \n",
       "FBXO4_S12_S       8.600679e-01   8.576162e-01  8.409090e-01  9.237428e-01   \n",
       "TNKS1BP1_S672_S   8.634065e-01   8.410215e-01  8.775775e-01  8.908815e-01   \n",
       "TLN2_T1843_S      9.741887e-01   9.394700e-01  9.471329e-01  8.962276e-01   \n",
       "RBM14_T206_S      9.609852e-01   9.205571e-01  9.477083e-01  9.049490e-01   \n",
       "ADCY2_S991_S      9.937353e-01   8.954462e-01  9.588746e-01  9.134572e-01   \n",
       "DCAF5_S794_S      9.540207e-01   9.642033e-01  9.074867e-01  9.553519e-01   \n",
       "DST_S4148_S       9.701233e-01   8.943917e-01  9.921961e-01  9.702636e-01   \n",
       "VDAC1_S104_S      8.704202e-01   9.083855e-01  9.114176e-01  9.405107e-01   \n",
       "CCDC85C_S246_S    9.141586e-01   8.758124e-01  9.709732e-01  8.861832e-01   \n",
       "PNN_S347_S        8.888821e-01   8.816219e-01  9.567287e-01  9.954575e-01   \n",
       "TJAP1_S300_S      9.778998e-01   9.383522e-01  9.141117e-01  9.954118e-01   \n",
       "PPA2_S332_S       9.056854e-01   9.214379e-01  9.002405e-01  9.893331e-01   \n",
       "SPHK2_S449_S      9.760830e-01   9.605538e-01  9.553087e-01  9.653893e-01   \n",
       "\n",
       "                 60min.vs.10min  2hr.vs.10min  6hr.vs.10min  2hr.vs.60min  \\\n",
       "NELFA_T277_S       3.306092e-07  2.091238e-11  2.287059e-14      0.110846   \n",
       "MAPK1_Y187_C       1.441496e-03  1.882446e-02  5.351003e-01      0.402468   \n",
       "MAPK1_T185_C       1.441496e-03  1.882446e-02  5.351003e-01      0.402468   \n",
       "SAFB2_S207_S       3.830714e-12  1.716627e-12  1.007416e-12      0.910461   \n",
       "CRTC3_S413_S       6.512568e-13  8.406724e-09  2.348801e-07      0.152941   \n",
       "MAPK3_Y204_C       5.943375e-04  6.422924e-03  5.112788e-02      0.478440   \n",
       "MAPK3_T202_C       5.943375e-04  6.422924e-03  5.112788e-02      0.478440   \n",
       "MAP1A_S2257_S      3.243618e-09  9.358957e-07  8.476843e-04      0.310531   \n",
       "MAP2_S1782_C       7.740284e-01  1.693979e-02  4.726991e-08      0.007470   \n",
       "MAP2_S1786_C       7.740284e-01  1.693979e-02  4.726991e-08      0.007470   \n",
       "MAP2_S1778_C       7.740284e-01  1.693979e-02  4.726991e-08      0.007470   \n",
       "MAPK1_T190_C       4.058886e-02  1.852397e-01  7.598285e-01      0.469734   \n",
       "STAT3_Y705_S       1.577647e-01  3.149629e-01  2.787283e-01      0.015628   \n",
       "DPYSL3_S56_S       4.460424e-03  3.838068e-05  7.840469e-06      0.202877   \n",
       "MAP2_S1630_S       4.678149e-06  9.812662e-06  5.872373e-04      0.874878   \n",
       "CTNND1_S352_S      2.272676e-05  5.443943e-10  9.350731e-10      0.048898   \n",
       "VIM_S72_S          9.287717e-07  4.911616e-07  5.616522e-09      0.901652   \n",
       "MAP1B_S1443_C      1.169653e-09  2.784868e-04  1.099136e-02      0.014293   \n",
       "MAP1B_S1438_C      1.169653e-09  2.784868e-04  1.099136e-02      0.014293   \n",
       "CLIP1_S348_S       1.380253e-01  4.422038e-07  4.578871e-09      0.000362   \n",
       "AHNAK_S511_C       2.750653e-03  2.258726e-01  4.325243e-03      0.000026   \n",
       "AHNAK_S501_C       2.750653e-03  2.258726e-01  4.325243e-03      0.000026   \n",
       "EYA4_S139_S        1.182452e-02  7.676273e-01  1.647735e-03      0.004911   \n",
       "CSTF2_S524_S       2.571139e-07  3.377962e-03  6.136325e-01      0.026326   \n",
       "PLIN3_S130_S       3.768433e-03  2.680633e-08  2.787369e-08      0.007717   \n",
       "CANX_S554_S        3.631012e-08  6.433764e-04  3.506917e-03      0.036146   \n",
       "HSPB1_S15_S        2.434607e-06  5.093511e-08  1.262024e-05      0.462654   \n",
       "ADAR_S648_S        1.070193e-04  8.007937e-03  4.605572e-01      0.221569   \n",
       "ADAR_T644_S        7.760338e-05  1.079482e-02  6.021790e-01      0.160792   \n",
       "CD3EAP_S138_S      1.357447e-01  7.585269e-01  1.243374e-01      0.236251   \n",
       "...                         ...           ...           ...           ...   \n",
       "C15orf52_S387_S    9.145724e-01  9.291585e-01  7.949328e-01      0.985344   \n",
       "REST_S864_S        9.298235e-01  9.400519e-01  7.971773e-01      0.989738   \n",
       "H2AFY_T129_S       8.426815e-01  8.334210e-01  8.114142e-01      0.990544   \n",
       "ATF7IP_S445_S      9.106911e-01  9.229112e-01  9.702944e-01      0.834500   \n",
       "SRRM2_S1101_C      9.738507e-01  8.283032e-01  9.678678e-01      0.802852   \n",
       "LRP2_S4618_C       9.300005e-01  9.738951e-01  9.750685e-01      0.904033   \n",
       "DAXX_S495_S        9.736960e-01  8.049006e-01  9.056351e-01      0.830518   \n",
       "PLEC_S720_S        8.185822e-01  9.273045e-01  9.803460e-01      0.890136   \n",
       "PIAS1_S503_S       9.995593e-01  9.167543e-01  9.416325e-01      0.916316   \n",
       "CLASP2_S370_S      9.705950e-01  8.953202e-01  9.091639e-01      0.866239   \n",
       "FAM53C_S299_S      9.308692e-01  8.439651e-01  9.890377e-01      0.912352   \n",
       "SPTBN2_T2354_S     8.811739e-01  9.834262e-01  9.850725e-01      0.897589   \n",
       "PTPN13_S908_S      9.906436e-01  8.733937e-01  9.486436e-01      0.882641   \n",
       "NDRG2_S352_S       8.349280e-01  9.520560e-01  9.930831e-01      0.882137   \n",
       "TRIM2_S455_S       9.592456e-01  8.909011e-01  9.757316e-01      0.850669   \n",
       "LRIG1_S1069_S      8.336298e-01  8.648559e-01  9.715034e-01      0.968211   \n",
       "GULP1_T208_S       9.692831e-01  9.594104e-01  9.976047e-01      0.928763   \n",
       "FBXO4_S12_S        9.975093e-01  9.804992e-01  9.357858e-01      0.982989   \n",
       "TNKS1BP1_S672_S    9.772254e-01  9.856400e-01  9.721989e-01      0.962875   \n",
       "TLN2_T1843_S       9.137646e-01  9.729152e-01  8.706889e-01      0.886888   \n",
       "RBM14_T206_S       8.818304e-01  9.867018e-01  8.663243e-01      0.868695   \n",
       "ADCY2_S991_S       8.892385e-01  9.651322e-01  9.072320e-01      0.854812   \n",
       "DCAF5_S794_S       9.183296e-01  8.619695e-01  9.986667e-01      0.943135   \n",
       "DST_S4148_S        8.648506e-01  9.623263e-01  9.404284e-01      0.902132   \n",
       "VDAC1_S104_S       9.616768e-01  9.586290e-01  9.294819e-01      0.996948   \n",
       "CCDC85C_S246_S     9.613295e-01  9.430739e-01  9.718079e-01      0.904569   \n",
       "PNN_S347_S         9.926639e-01  9.318959e-01  8.843856e-01      0.924589   \n",
       "TJAP1_S300_S       9.163415e-01  8.921724e-01  9.733137e-01      0.975658   \n",
       "PPA2_S332_S        9.841552e-01  9.945145e-01  9.162861e-01      0.978671   \n",
       "SPHK2_S449_S       9.366838e-01  9.314493e-01  9.892993e-01      0.994748   \n",
       "\n",
       "                 6hr.vs.60min  6hr.vs.2hr  \n",
       "NELFA_T277_S     1.144393e-02    0.350076  \n",
       "MAPK1_Y187_C     1.028873e-02    0.083854  \n",
       "MAPK1_T185_C     1.028873e-02    0.083854  \n",
       "SAFB2_S207_S     8.522964e-01    0.941224  \n",
       "CRTC3_S413_S     4.338955e-02    0.554708  \n",
       "MAPK3_Y204_C     1.378671e-01    0.438360  \n",
       "MAPK3_T202_C     1.378671e-01    0.438360  \n",
       "MAP1A_S2257_S    9.822042e-03    0.116899  \n",
       "MAP2_S1782_C     9.009450e-09    0.002117  \n",
       "MAP2_S1786_C     9.009450e-09    0.002117  \n",
       "MAP2_S1778_C     9.009450e-09    0.002117  \n",
       "MAPK1_T190_C     1.860203e-02    0.102996  \n",
       "STAT3_Y705_S     7.418166e-01    0.036794  \n",
       "DPYSL3_S56_S     1.039763e-01    0.724481  \n",
       "MAP2_S1630_S     2.537513e-01    0.325204  \n",
       "CTNND1_S352_S    5.958527e-02    0.931764  \n",
       "VIM_S72_S        3.567197e-01    0.424836  \n",
       "MAP1B_S1443_C    3.980461e-04    0.275028  \n",
       "MAP1B_S1438_C    3.980461e-04    0.275028  \n",
       "CLIP1_S348_S     1.194379e-05    0.416811  \n",
       "AHNAK_S511_C     4.983455e-09    0.100517  \n",
       "AHNAK_S501_C     4.983455e-09    0.100517  \n",
       "EYA4_S139_S      1.473160e-08    0.004347  \n",
       "CSTF2_S524_S     1.537381e-08    0.000590  \n",
       "PLIN3_S130_S     7.875266e-03    0.994561  \n",
       "CANX_S554_S      9.639326e-03    0.621854  \n",
       "HSPB1_S15_S      7.286342e-01    0.279507  \n",
       "ADAR_S648_S      1.711695e-03    0.055645  \n",
       "ADAR_T644_S      6.026615e-04    0.042560  \n",
       "CD3EAP_S138_S    2.456520e-03    0.065149  \n",
       "...                       ...         ...  \n",
       "C15orf52_S387_S  8.786842e-01    0.864218  \n",
       "REST_S864_S      8.658478e-01    0.855742  \n",
       "H2AFY_T129_S     9.679836e-01    0.977434  \n",
       "ATF7IP_S445_S    9.402721e-01    0.893398  \n",
       "SRRM2_S1101_C    9.417570e-01    0.859826  \n",
       "LRP2_S4618_C     9.051991e-01    0.998826  \n",
       "DAXX_S495_S      9.318061e-01    0.897782  \n",
       "PLEC_S720_S      8.377801e-01    0.946899  \n",
       "PIAS1_S503_S     9.411930e-01    0.975026  \n",
       "CLASP2_S370_S    8.800110e-01    0.986052  \n",
       "FAM53C_S299_S    9.417968e-01    0.854732  \n",
       "SPTBN2_T2354_S   8.664329e-01    0.968505  \n",
       "PTPN13_S908_S    9.393101e-01    0.822944  \n",
       "NDRG2_S352_S     8.281658e-01    0.945153  \n",
       "TRIM2_S455_S     9.835012e-01    0.866910  \n",
       "LRIG1_S1069_S    8.616094e-01    0.893028  \n",
       "GULP1_T208_S     9.668897e-01    0.961803  \n",
       "FBXO4_S12_S      9.333035e-01    0.916367  \n",
       "TNKS1BP1_S672_S  9.494495e-01    0.986555  \n",
       "TLN2_T1843_S     9.565430e-01    0.844034  \n",
       "RBM14_T206_S     9.842987e-01    0.853232  \n",
       "ADCY2_S991_S     9.818599e-01    0.872688  \n",
       "DCAF5_S794_S     9.196561e-01    0.863283  \n",
       "DST_S4148_S      9.239403e-01    0.978063  \n",
       "VDAC1_S104_S     9.677366e-01    0.970786  \n",
       "CCDC85C_S246_S   9.895126e-01    0.914989  \n",
       "PNN_S347_S       8.771314e-01    0.952194  \n",
       "TJAP1_S300_S     9.429276e-01    0.918675  \n",
       "PPA2_S332_S      9.320600e-01    0.910833  \n",
       "SPHK2_S449_S     9.260225e-01    0.920794  \n",
       "\n",
       "[3826 rows x 10 columns]"
      ]
     },
     "execution_count": 28,
     "metadata": {},
     "output_type": "execute_result"
    }
   ],
   "source": [
    "df_timecourse.iloc[:, -18:-8]"
   ]
  },
  {
   "cell_type": "markdown",
   "metadata": {},
   "source": [
    "At this point we only need these p-values and the peptide so lets keep only those columns"
   ]
  },
  {
   "cell_type": "code",
   "execution_count": 29,
   "metadata": {},
   "outputs": [],
   "source": [
    "p_values = df_timecourse.iloc[:,-18:-8]\n",
    "p_values['peptide'] = p_values.index"
   ]
  },
  {
   "cell_type": "markdown",
   "metadata": {},
   "source": [
    "Temporal Pathway Synthesizer is only interested in differences between each timepoint and the first timepoint and differences between successive timepoints, so let's only keep those in addition to the peptide column"
   ]
  },
  {
   "cell_type": "code",
   "execution_count": 30,
   "metadata": {},
   "outputs": [
    {
     "data": {
      "text/plain": [
       "Index(['10min.vs.0min', '60min.vs.0min', '2hr.vs.0min', '6hr.vs.0min',\n",
       "       '60min.vs.10min', '2hr.vs.10min', '6hr.vs.10min', '2hr.vs.60min',\n",
       "       '6hr.vs.60min', '6hr.vs.2hr', 'peptide'],\n",
       "      dtype='object')"
      ]
     },
     "execution_count": 30,
     "metadata": {},
     "output_type": "execute_result"
    }
   ],
   "source": [
    "p_values.columns"
   ]
  },
  {
   "cell_type": "code",
   "execution_count": 31,
   "metadata": {},
   "outputs": [],
   "source": [
    "p_values = p_values.iloc[:, [-1, 0, 1, 2, 3, 4, 6, 8]]"
   ]
  },
  {
   "cell_type": "markdown",
   "metadata": {},
   "source": [
    "This is not the end of the story, because we are making many comparisons. We can use the Benjamini-Hochberg procedure to correct for multiple comparisons"
   ]
  },
  {
   "cell_type": "markdown",
   "metadata": {},
   "source": [
    "Let's look at the flat list of all p-values"
   ]
  },
  {
   "cell_type": "code",
   "execution_count": 32,
   "metadata": {},
   "outputs": [],
   "source": [
    "p_flat = p_values.iloc[:, 1:].values.flatten()"
   ]
  },
  {
   "cell_type": "code",
   "execution_count": 33,
   "metadata": {},
   "outputs": [
    {
     "data": {
      "text/plain": [
       "<matplotlib.axes._subplots.AxesSubplot at 0x13ecfee80>"
      ]
     },
     "execution_count": 33,
     "metadata": {},
     "output_type": "execute_result"
    },
    {
     "data": {
      "image/png": "[encoded data removed]",
      "text/plain": [
       "<Figure size 432x288 with 1 Axes>"
      ]
     },
     "metadata": {
      "needs_background": "light"
     },
     "output_type": "display_data"
    }
   ],
   "source": [
    "sns.distplot(p_flat)"
   ]
  },
  {
   "cell_type": "markdown",
   "metadata": {},
   "source": [
    "This distribution suggests that there may be many p-values that are only spuriously small, but there is a peak of small p-values that are likely to correspond to significant fold changes"
   ]
  },
  {
   "cell_type": "code",
   "execution_count": 34,
   "metadata": {},
   "outputs": [],
   "source": [
    "q_flat = multipletests(p_flat, method='fdr_bh')[1]"
   ]
  },
  {
   "cell_type": "code",
   "execution_count": 35,
   "metadata": {},
   "outputs": [
    {
     "data": {
      "text/plain": [
       "<matplotlib.axes._subplots.AxesSubplot at 0x13ea24da0>"
      ]
     },
     "execution_count": 35,
     "metadata": {},
     "output_type": "execute_result"
    },
    {
     "data": {
      "image/png": "[encoded data removed]",
      "text/plain": [
       "<Figure size 432x288 with 1 Axes>"
      ]
     },
     "metadata": {
      "needs_background": "light"
     },
     "output_type": "display_data"
    }
   ],
   "source": [
    "sns.distplot(q_flat)"
   ]
  },
  {
   "cell_type": "markdown",
   "metadata": {},
   "source": [
    "The following helper function maps p_values in the original data to q_values"
   ]
  },
  {
   "cell_type": "code",
   "execution_count": 36,
   "metadata": {},
   "outputs": [],
   "source": [
    "p_sorted = sorted(p_flat)\n",
    "q_sorted = sorted(q_flat)\n",
    "\n",
    "def q_map(x):\n",
    "    index = np.searchsorted(p_sorted, x)\n",
    "    if p_sorted[index] == x:\n",
    "        return q_sorted[index]\n",
    "    else:\n",
    "        return (q_sorted[max(index - 1, 0)] + q_sorted[min(index + 1, len(q_sorted)-1)])/2"
   ]
  },
  {
   "cell_type": "code",
   "execution_count": 37,
   "metadata": {},
   "outputs": [],
   "source": [
    "q_values = p_values.copy()\n",
    "q_values.iloc[:, 1:] = q_values.iloc[:, 1:].applymap(q_map)"
   ]
  },
  {
   "cell_type": "markdown",
   "metadata": {},
   "source": [
    "In the TPS paper they did not apply Benjamini-Hochberg directly to their data, but the authors used it to determine that their choice of p-value cutoff of 0.01 corresponded to controlling the False Discovery Rate (FDR) at 0.181. They claim that this is sufficient for their task and that the results are not very sensitive to the choice of cutoff. We choose the value 0.2, the above plot gives empirical support that this cutoff is reasonable."
   ]
  },
  {
   "cell_type": "markdown",
   "metadata": {},
   "source": [
    "There is a reasonable number of significant fold changes for each comparison"
   ]
  },
  {
   "cell_type": "code",
   "execution_count": 38,
   "metadata": {},
   "outputs": [
    {
     "data": {
      "text/plain": [
       "10min.vs.0min     102\n",
       "60min.vs.0min     118\n",
       "2hr.vs.0min        75\n",
       "6hr.vs.0min        42\n",
       "60min.vs.10min    118\n",
       "6hr.vs.10min      118\n",
       "6hr.vs.60min       51\n",
       "dtype: int64"
      ]
     },
     "execution_count": 38,
     "metadata": {},
     "output_type": "execute_result"
    }
   ],
   "source": [
    "(q_values.iloc[:, 1:] < 0.2).sum()"
   ]
  },
  {
   "cell_type": "markdown",
   "metadata": {},
   "source": [
    "We can now produce the p-value files needed by TPS"
   ]
  },
  {
   "cell_type": "code",
   "execution_count": 39,
   "metadata": {},
   "outputs": [],
   "source": [
    "p_first = q_values.iloc[:, [0, 1, 2, 3, 4]].copy()\n",
    "p_prev = q_values.iloc[:, [0, 5, 6, 7]].copy()"
   ]
  },
  {
   "cell_type": "code",
   "execution_count": 40,
   "metadata": {},
   "outputs": [],
   "source": [
    "p_first.to_csv('../work/EpoB_p_values_first.tsv', sep='\\t', header=False, index=False)\n",
    "p_prev.to_csv('../work/EpoB_p_values_prev.tsv', sep='\\t', header=False, index=False)"
   ]
  },
  {
   "cell_type": "markdown",
   "metadata": {},
   "source": [
    "### Protein Prizes\n",
    "\n",
    "In the TPS paper, protein prizes are obtained using the minimum peptide p-value over all peptides that map to a protein. They computed prizes as $-\\log_{10} p$"
   ]
  },
  {
   "cell_type": "code",
   "execution_count": 41,
   "metadata": {},
   "outputs": [],
   "source": [
    "p_values['min'] = p_values.iloc[:, 1:].apply(min, axis=1)"
   ]
  },
  {
   "cell_type": "code",
   "execution_count": 42,
   "metadata": {},
   "outputs": [],
   "source": [
    "p_values['hgnc'] = df_timecourse['hgnc']"
   ]
  },
  {
   "cell_type": "code",
   "execution_count": 43,
   "metadata": {},
   "outputs": [
    {
     "name": "stderr",
     "output_type": "stream",
     "text": [
      "/Users/albertsteppi/.virtualenvs/py37/lib/python3.7/site-packages/ipykernel_launcher.py:1: RuntimeWarning: divide by zero encountered in log10\n",
      "  \"\"\"Entry point for launching an IPython kernel.\n"
     ]
    }
   ],
   "source": [
    "prizes = -np.log10(p_values.groupby('hgnc')['min'].min())"
   ]
  },
  {
   "cell_type": "markdown",
   "metadata": {},
   "source": [
    "We have one p_value of zero which corresponds to an infinite prize. Let's cap this prize at 20"
   ]
  },
  {
   "cell_type": "code",
   "execution_count": 44,
   "metadata": {},
   "outputs": [],
   "source": [
    "prizes = prizes.apply(lambda x: min(x, 20))"
   ]
  },
  {
   "cell_type": "code",
   "execution_count": 45,
   "metadata": {},
   "outputs": [],
   "source": [
    "prizes.sort_values(inplace=True, ascending=False)"
   ]
  },
  {
   "cell_type": "code",
   "execution_count": 46,
   "metadata": {},
   "outputs": [],
   "source": [
    "prizes = pd.DataFrame(prizes).reset_index()"
   ]
  },
  {
   "cell_type": "code",
   "execution_count": 47,
   "metadata": {},
   "outputs": [],
   "source": [
    "prizes.columns = ['name', 'prize']"
   ]
  },
  {
   "cell_type": "code",
   "execution_count": 48,
   "metadata": {},
   "outputs": [],
   "source": [
    "prizes.to_csv('../work/EpoB_protein_prizes.tsv', sep='\\t', header=True, index=False)"
   ]
  },
  {
   "cell_type": "markdown",
   "metadata": {},
   "source": [
    "### Time Series File\n",
    "\n",
    "As almost an afterthought, we need a file containing the time series data"
   ]
  },
  {
   "cell_type": "code",
   "execution_count": 49,
   "metadata": {},
   "outputs": [
    {
     "data": {
      "text/plain": [
       "Index(['site_id', 'siteIDstr', 'Uniprot_Id', 'Gene_Symbol', 'prot_description',\n",
       "       'low_bound', 'high_bound', 'best_search_id', 'best_peptide_id',\n",
       "       'best_scan', 'best_search_name', 'file', 'redundancy', 'sequence',\n",
       "       'numMatchingCompSites', 'numQuantCompSites', 'default_spectral_counts',\n",
       "       'default_num_quant', 'DIV 14 EpoB 0 (stabilizer 1)',\n",
       "       'DIV 14 EpoB 10 min (stabilizer 1)',\n",
       "       'DIV 14 EpoB 60 min (stabilizer 1)', 'DIV 14 EpoB 2hr (stabilizer 1)',\n",
       "       'DIV 14 EpoB 6hr (stabilizer 1)', 'DIV 14 Fiji 0 (stabilizer 2)',\n",
       "       'DIV 14 Fiji 10 min (stabilizer 2)',\n",
       "       'DIV 14 Fiji 60 min (stabilizer 2)', 'DIV 14 Fiji 2hr (stabilizer 2)',\n",
       "       'DIV 14 Fiji 6hr (stabilizer 2)', 'Fold Change', 'Bar Chart', 'uniprot',\n",
       "       'hgnc', 'max_score_1', 'max_score_2', 'max_score_3', '10min.vs.0min',\n",
       "       '60min.vs.0min', '2hr.vs.0min', '6hr.vs.0min', '60min.vs.10min',\n",
       "       '2hr.vs.10min', '6hr.vs.10min', '2hr.vs.60min', '6hr.vs.60min',\n",
       "       '6hr.vs.2hr', 'maxLogFC', 'Origin', 'Motif', 'max_score',\n",
       "       'Site_Position', 'Site', 'Identifier', 'peptide'],\n",
       "      dtype='object')"
      ]
     },
     "execution_count": 49,
     "metadata": {},
     "output_type": "execute_result"
    }
   ],
   "source": [
    "df_timecourse.columns"
   ]
  },
  {
   "cell_type": "code",
   "execution_count": 57,
   "metadata": {},
   "outputs": [],
   "source": [
    "time_series = df_timecourse.iloc[:, 18:23]"
   ]
  },
  {
   "cell_type": "code",
   "execution_count": 58,
   "metadata": {},
   "outputs": [],
   "source": [
    "time_series.columns = ['0min', '10min', '60min', '2hr', '6hr']"
   ]
  },
  {
   "cell_type": "code",
   "execution_count": 59,
   "metadata": {},
   "outputs": [],
   "source": [
    "time_series['peptide'] = time_series.index"
   ]
  },
  {
   "cell_type": "code",
   "execution_count": 60,
   "metadata": {},
   "outputs": [],
   "source": [
    "time_series = time_series.iloc[:, [-1, 0, 1, 2, 3, 4]]"
   ]
  },
  {
   "cell_type": "code",
   "execution_count": 62,
   "metadata": {},
   "outputs": [],
   "source": [
    "time_series.to_csv('../work/EpoB_time_series.tsv', sep='\\t', index=False)"
   ]
  }
 ],
 "metadata": {
  "kernelspec": {
   "display_name": "Python 3",
   "language": "python",
   "name": "python3"
  },
  "language_info": {
   "codemirror_mode": {
    "name": "ipython",
    "version": 3
   },
   "file_extension": ".py",
   "mimetype": "text/x-python",
   "name": "python",
   "nbconvert_exporter": "python",
   "pygments_lexer": "ipython3",
   "version": "3.7.2"
  }
 },
 "nbformat": 4,
 "nbformat_minor": 2
}
