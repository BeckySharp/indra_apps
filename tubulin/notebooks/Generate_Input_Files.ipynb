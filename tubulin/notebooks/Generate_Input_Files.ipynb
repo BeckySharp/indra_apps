{
 "cells": [
  {
   "cell_type": "code",
   "execution_count": 3,
   "metadata": {},
   "outputs": [
    {
     "name": "stderr",
     "output_type": "stream",
     "text": [
      "b'Skipping line 9391: expected 21 fields, saw 22\\n'\n"
     ]
    }
   ],
   "source": [
    "import numpy as np\n",
    "import pandas as pd\n",
    "import seaborn as sns\n",
    "import networkx as nx\n",
    "import scipy.stats as st\n",
    "from statsmodels.stats.multitest import multipletests\n",
    "\n",
    "from msda import preprocessing, phospho_network as pn, \\\n",
    "    process_phospho_ms as ppm\n",
    "from indra.databases.uniprot_client import get_gene_name"
   ]
  },
  {
   "cell_type": "markdown",
   "metadata": {},
   "source": [
    "## Script"
   ]
  },
  {
   "cell_type": "code",
   "execution_count": 4,
   "metadata": {},
   "outputs": [],
   "source": [
    "df_timecourse = preprocessing.read_dataset('../input/Mature_Neuron_MT_pMS_Stabilizer'\n",
    "                                           '1_2_time_course_ys.xlsx')"
   ]
  },
  {
   "cell_type": "markdown",
   "metadata": {},
   "source": [
    "Some columns have to be renamed because the data does not conform to the expectations of the latest MSDA"
   ]
  },
  {
   "cell_type": "code",
   "execution_count": 5,
   "metadata": {},
   "outputs": [],
   "source": [
    "df_timecourse = df_timecourse.rename(columns={'Max Score': 'max_score',\n",
    "                                              'Protein Id': 'Uniprot_Id'})"
   ]
  },
  {
   "cell_type": "markdown",
   "metadata": {},
   "source": [
    "#### Correct HGNC symbols that do not match associated Uniprot IDs\n",
    "We trust the Uniprot IDs more than the HGNC symbols"
   ]
  },
  {
   "cell_type": "code",
   "execution_count": 6,
   "metadata": {},
   "outputs": [],
   "source": [
    "df_timecourse['uniprot'] = df_timecourse['Uniprot_Id'].apply(lambda x:\n",
    "                                                             x.split('|')[1].split('-')[0])"
   ]
  },
  {
   "cell_type": "code",
   "execution_count": 7,
   "metadata": {},
   "outputs": [],
   "source": [
    "df_timecourse['hgnc'] = df_timecourse['uniprot'].apply(get_gene_name)"
   ]
  },
  {
   "cell_type": "code",
   "execution_count": 8,
   "metadata": {},
   "outputs": [
    {
     "name": "stdout",
     "output_type": "stream",
     "text": [
      "71\n"
     ]
    }
   ],
   "source": [
    "invalid_gene_symbols = df_timecourse[df_timecourse.hgnc != df_timecourse.gene_symbol]\n",
    "print(len(invalid_gene_symbols.gene_symbol.unique()))"
   ]
  },
  {
   "cell_type": "markdown",
   "metadata": {},
   "source": [
    "71 of the gene symbols in the data do not match their corresponding Uniprot IDs accounting for 139 rows in the data."
   ]
  },
  {
   "cell_type": "markdown",
   "metadata": {},
   "source": [
    "### Filter out sites with low score\n",
    "\n",
    "The data includes a column `max_score` which measures quality of the results. We use MSDA to filter out sites with a max score below 13. **I do not recall the justification for choosing this value. This may be something to reevaluate.**"
   ]
  },
  {
   "cell_type": "code",
   "execution_count": 9,
   "metadata": {},
   "outputs": [],
   "source": [
    "df_timecourse = ppm.filter_max_score(df_timecourse, max_score_cutoff=13.0)"
   ]
  },
  {
   "cell_type": "code",
   "execution_count": 10,
   "metadata": {},
   "outputs": [
    {
     "data": {
      "text/plain": [
       "Index(['site_id', 'siteIDstr', 'Uniprot_Id', 'gene_symbol', 'prot_description',\n",
       "       'Site Position', 'Motif', 'max_score', 'low_bound', 'high_bound',\n",
       "       'best_search_id', 'best_peptide_id', 'best_scan', 'best_search_name',\n",
       "       'file', 'redundancy', 'sequence', 'numMatchingCompSites',\n",
       "       'numQuantCompSites', 'default_spectral_counts', 'default_num_quant',\n",
       "       'DIV 14 EpoB 0 (stabilizer 1)', 'DIV 14 EpoB 10 min (stabilizer 1)',\n",
       "       'DIV 14 EpoB 60 min (stabilizer 1)', 'DIV 14 EpoB 2hr (stabilizer 1)',\n",
       "       'DIV 14 EpoB 6hr (stabilizer 1)', 'DIV 14 Fiji 0 (stabilizer 2)',\n",
       "       'DIV 14 Fiji 10 min (stabilizer 2)',\n",
       "       'DIV 14 Fiji 60 min (stabilizer 2)', 'DIV 14 Fiji 2hr (stabilizer 2)',\n",
       "       'DIV 14 Fiji 6hr (stabilizer 2)', 'Fold Change', 'Bar Chart', 'uniprot',\n",
       "       'hgnc', 'max_score_1', 'max_score_2', 'max_score_3'],\n",
       "      dtype='object')"
      ]
     },
     "execution_count": 10,
     "metadata": {},
     "output_type": "execute_result"
    }
   ],
   "source": [
    "df_timecourse.columns"
   ]
  },
  {
   "cell_type": "markdown",
   "metadata": {},
   "source": [
    "### Fold change differences"
   ]
  },
  {
   "cell_type": "markdown",
   "metadata": {},
   "source": [
    "Let's get all of the timepoint data for EpoB and calculate pairwise fold changes"
   ]
  },
  {
   "cell_type": "code",
   "execution_count": 11,
   "metadata": {},
   "outputs": [],
   "source": [
    "timepoint_indices = list(range(21, 26))\n",
    "timepoints = ['0min', '10min', '60min', '2hr', '6hr']"
   ]
  },
  {
   "cell_type": "code",
   "execution_count": 12,
   "metadata": {},
   "outputs": [],
   "source": [
    "for i in range(5):\n",
    "    for j in range(i+1, 5):\n",
    "        a, b = timepoint_indices[i], timepoint_indices[j]\n",
    "        df_timecourse[f'{timepoints[j]}.vs.{timepoints[i]}'] = \\\n",
    "        df_timecourse.iloc[:, b]/df_timecourse.iloc[:, a]\n",
    "        "
   ]
  },
  {
   "cell_type": "markdown",
   "metadata": {},
   "source": [
    "We calculate the maximum of the absolute value of pairwise log fold changes"
   ]
  },
  {
   "cell_type": "code",
   "execution_count": 13,
   "metadata": {},
   "outputs": [],
   "source": [
    "df_timecourse['maxLogFC'] = df_timecourse.iloc[:, -10:].apply(lambda row:\n",
    "                                      max([abs(np.log2(x)) for x in row]), \n",
    "                                      axis=1)"
   ]
  },
  {
   "cell_type": "markdown",
   "metadata": {},
   "source": [
    "We split compound sites into separate rows and deduplicate by choosing the row with maximum\n",
    "`maxLogFC`"
   ]
  },
  {
   "cell_type": "code",
   "execution_count": 14,
   "metadata": {},
   "outputs": [],
   "source": [
    "df_timecourse = pn.split_sites(df_timecourse)"
   ]
  },
  {
   "cell_type": "code",
   "execution_count": 15,
   "metadata": {},
   "outputs": [
    {
     "data": {
      "text/plain": [
       "4095"
      ]
     },
     "execution_count": 15,
     "metadata": {},
     "output_type": "execute_result"
    }
   ],
   "source": [
    "len(df_timecourse)"
   ]
  },
  {
   "cell_type": "code",
   "execution_count": 14,
   "metadata": {},
   "outputs": [],
   "source": [
    "df_timecourse = df_timecourse.sort_values('maxLogFC', \n",
    "                                          ascending=False).drop_duplicates(['Gene_Symbol',\n",
    "                                                                            'Site'])"
   ]
  },
  {
   "cell_type": "markdown",
   "metadata": {},
   "source": [
    "### Peptide mapping file"
   ]
  },
  {
   "cell_type": "code",
   "execution_count": 16,
   "metadata": {},
   "outputs": [],
   "source": [
    "df_timecourse['peptide'] = df_timecourse.index"
   ]
  },
  {
   "cell_type": "code",
   "execution_count": 17,
   "metadata": {},
   "outputs": [],
   "source": [
    "peptide_map = df_timecourse[['peptide', 'hgnc']]"
   ]
  },
  {
   "cell_type": "code",
   "execution_count": 18,
   "metadata": {},
   "outputs": [],
   "source": [
    "peptide_map.columns = ['peptide', 'protein(s)']"
   ]
  },
  {
   "cell_type": "code",
   "execution_count": 19,
   "metadata": {},
   "outputs": [],
   "source": [
    "peptide_map.to_csv('../work/EpoB_peptide_mapping.tsv', sep='\\t', index=False)"
   ]
  },
  {
   "cell_type": "markdown",
   "metadata": {},
   "source": [
    "### p-values\n",
    "\n",
    "We now calcuate p-values for fold change differences. Let's examine the distribution of all pairwise foldchange differences for all peptides"
   ]
  },
  {
   "cell_type": "code",
   "execution_count": 20,
   "metadata": {},
   "outputs": [],
   "source": [
    "fc_flat = df_timecourse.iloc[:, -18:-8].values.flatten()"
   ]
  },
  {
   "cell_type": "code",
   "execution_count": 21,
   "metadata": {},
   "outputs": [
    {
     "data": {
      "text/plain": [
       "<matplotlib.axes._subplots.AxesSubplot at 0x13ac92278>"
      ]
     },
     "execution_count": 21,
     "metadata": {},
     "output_type": "execute_result"
    },
    {
     "data": {
      "image/png": "[encoded data removed]",
      "text/plain": [
       "<Figure size 432x288 with 1 Axes>"
      ]
     },
     "metadata": {
      "needs_background": "light"
     },
     "output_type": "display_data"
    }
   ],
   "source": [
    "sns.distplot(fc_flat)"
   ]
  },
  {
   "cell_type": "code",
   "execution_count": 22,
   "metadata": {},
   "outputs": [
    {
     "data": {
      "text/plain": [
       "<matplotlib.axes._subplots.AxesSubplot at 0x13ee4b400>"
      ]
     },
     "execution_count": 22,
     "metadata": {},
     "output_type": "execute_result"
    },
    {
     "data": {
      "image/png": "[encoded data removed]",
      "text/plain": [
       "<Figure size 432x288 with 1 Axes>"
      ]
     },
     "metadata": {
      "needs_background": "light"
     },
     "output_type": "display_data"
    }
   ],
   "source": [
    "sns.distplot(np.log2(fc_flat))"
   ]
  },
  {
   "cell_type": "code",
   "execution_count": 23,
   "metadata": {},
   "outputs": [
    {
     "data": {
      "text/plain": [
       "NormaltestResult(statistic=49461.62545814729, pvalue=0.0)"
      ]
     },
     "execution_count": 23,
     "metadata": {},
     "output_type": "execute_result"
    }
   ],
   "source": [
    "st.normaltest(fc_flat)"
   ]
  },
  {
   "cell_type": "code",
   "execution_count": 24,
   "metadata": {},
   "outputs": [
    {
     "data": {
      "text/plain": [
       "NormaltestResult(statistic=4756.291594943915, pvalue=0.0)"
      ]
     },
     "execution_count": 24,
     "metadata": {},
     "output_type": "execute_result"
    }
   ],
   "source": [
    "st.normaltest(np.log2(fc_flat))"
   ]
  },
  {
   "cell_type": "markdown",
   "metadata": {},
   "source": [
    "We will work with log2 fold changes rather than direct fold changes. Let's transform the foldchanges into log2 fold changes"
   ]
  },
  {
   "cell_type": "code",
   "execution_count": 25,
   "metadata": {},
   "outputs": [],
   "source": [
    "df_timecourse.iloc[:, -18:-8] = np.log2(df_timecourse.iloc[:, -18:-8])"
   ]
  },
  {
   "cell_type": "markdown",
   "metadata": {},
   "source": [
    "We then assume the log2 fold changes are independantly drawn from a normal distribution with mean 0 and standard deviation equal to the empirical standard deviation we observed above"
   ]
  },
  {
   "cell_type": "code",
   "execution_count": 26,
   "metadata": {},
   "outputs": [
    {
     "name": "stdout",
     "output_type": "stream",
     "text": [
      "The empirical standard deviation is 0.4130868952865386\n"
     ]
    }
   ],
   "source": [
    "print(f'The empirical standard deviation is {np.std(np.log2(fc_flat))}')"
   ]
  },
  {
   "cell_type": "code",
   "execution_count": 27,
   "metadata": {},
   "outputs": [],
   "source": [
    "df_timecourse.iloc[:, -18:-8] = df_timecourse.iloc[:, -18:-8]/np.std(np.log2(fc_flat))"
   ]
  },
  {
   "cell_type": "markdown",
   "metadata": {},
   "source": [
    "Let's now convert these into p-values"
   ]
  },
  {
   "cell_type": "code",
   "execution_count": 28,
   "metadata": {},
   "outputs": [],
   "source": [
    "df_timecourse.iloc[:, -18:-8] = df_timecourse.iloc[:, -18:-8].applymap(lambda x:\n",
    "                                                                 2*(1 - st.norm.cdf(abs(x))))"
   ]
  },
  {
   "cell_type": "markdown",
   "metadata": {},
   "source": [
    "At this point we only need these p-values and the peptide so lets keep only those columns"
   ]
  },
  {
   "cell_type": "code",
   "execution_count": 40,
   "metadata": {},
   "outputs": [],
   "source": [
    "p_values = df_timecourse.iloc[:,-18:-8]\n",
    "p_values['peptide'] = p_values.index"
   ]
  },
  {
   "cell_type": "markdown",
   "metadata": {},
   "source": [
    "Temporal Pathway Synthesizer is only interested in differences between each timepoint and the first timepoint and differences between successive timepoints, so let's only keep those in addition to the peptide column"
   ]
  },
  {
   "cell_type": "code",
   "execution_count": 41,
   "metadata": {},
   "outputs": [
    {
     "data": {
      "text/plain": [
       "Index(['10min.vs.0min', '60min.vs.0min', '2hr.vs.0min', '6hr.vs.0min',\n",
       "       '60min.vs.10min', '2hr.vs.10min', '6hr.vs.10min', '2hr.vs.60min',\n",
       "       '6hr.vs.60min', '6hr.vs.2hr', 'peptide'],\n",
       "      dtype='object')"
      ]
     },
     "execution_count": 41,
     "metadata": {},
     "output_type": "execute_result"
    }
   ],
   "source": [
    "p_values.columns"
   ]
  },
  {
   "cell_type": "code",
   "execution_count": 42,
   "metadata": {},
   "outputs": [],
   "source": [
    "p_values = p_values.iloc[:, [-1, 0, 1, 2, 3, 4, 7, 9]]"
   ]
  },
  {
   "cell_type": "code",
   "execution_count": 43,
   "metadata": {},
   "outputs": [
    {
     "data": {
      "text/plain": [
       "Index(['peptide', '10min.vs.0min', '60min.vs.0min', '2hr.vs.0min',\n",
       "       '6hr.vs.0min', '60min.vs.10min', '2hr.vs.60min', '6hr.vs.2hr'],\n",
       "      dtype='object')"
      ]
     },
     "execution_count": 43,
     "metadata": {},
     "output_type": "execute_result"
    }
   ],
   "source": [
    "p_values.columns"
   ]
  },
  {
   "cell_type": "markdown",
   "metadata": {},
   "source": [
    "This is not the end of the story, because we are making many comparisons. We can use the Benjamini-Hochberg procedure to correct for multiple comparisons"
   ]
  },
  {
   "cell_type": "markdown",
   "metadata": {},
   "source": [
    "Let's look at the flat list of all p-values"
   ]
  },
  {
   "cell_type": "code",
   "execution_count": 44,
   "metadata": {},
   "outputs": [],
   "source": [
    "p_flat = p_values.iloc[:, 1:].values.flatten()"
   ]
  },
  {
   "cell_type": "code",
   "execution_count": 45,
   "metadata": {},
   "outputs": [
    {
     "data": {
      "text/plain": [
       "<matplotlib.axes._subplots.AxesSubplot at 0x13f583710>"
      ]
     },
     "execution_count": 45,
     "metadata": {},
     "output_type": "execute_result"
    },
    {
     "data": {
      "image/png": "[encoded data removed]",
      "text/plain": [
       "<Figure size 432x288 with 1 Axes>"
      ]
     },
     "metadata": {
      "needs_background": "light"
     },
     "output_type": "display_data"
    }
   ],
   "source": [
    "sns.distplot(p_flat)"
   ]
  },
  {
   "cell_type": "markdown",
   "metadata": {},
   "source": [
    "This distribution suggests that there may be many p-values that are only spuriously small, but there is a peak of small p-values that are likely to correspond to significant fold changes"
   ]
  },
  {
   "cell_type": "code",
   "execution_count": 46,
   "metadata": {},
   "outputs": [],
   "source": [
    "q_flat = multipletests(p_flat, method='fdr_bh')[1]"
   ]
  },
  {
   "cell_type": "code",
   "execution_count": 47,
   "metadata": {},
   "outputs": [
    {
     "data": {
      "text/plain": [
       "<matplotlib.axes._subplots.AxesSubplot at 0x13f970ba8>"
      ]
     },
     "execution_count": 47,
     "metadata": {},
     "output_type": "execute_result"
    },
    {
     "data": {
      "image/png": "[encoded data removed]",
      "text/plain": [
       "<Figure size 432x288 with 1 Axes>"
      ]
     },
     "metadata": {
      "needs_background": "light"
     },
     "output_type": "display_data"
    }
   ],
   "source": [
    "sns.distplot(q_flat)"
   ]
  },
  {
   "cell_type": "markdown",
   "metadata": {},
   "source": [
    "The following helper function maps p_values in the original data to q_values"
   ]
  },
  {
   "cell_type": "code",
   "execution_count": 48,
   "metadata": {},
   "outputs": [],
   "source": [
    "p_sorted = sorted(p_flat)\n",
    "q_sorted = sorted(q_flat)\n",
    "\n",
    "def q_map(x):\n",
    "    index = np.searchsorted(p_sorted, x)\n",
    "    if p_sorted[index] == x:\n",
    "        return q_sorted[index]\n",
    "    else:\n",
    "        return (q_sorted[max(index - 1, 0)] + q_sorted[min(index + 1, len(q_sorted)-1)])/2"
   ]
  },
  {
   "cell_type": "code",
   "execution_count": 49,
   "metadata": {},
   "outputs": [],
   "source": [
    "q_values = p_values.copy()\n",
    "q_values.iloc[:, 1:] = q_values.iloc[:, 1:].applymap(q_map)"
   ]
  },
  {
   "cell_type": "markdown",
   "metadata": {},
   "source": [
    "In the TPS paper they did not apply Benjamini-Hochberg directly to their data, but the authors used it to determine that their choice of p-value cutoff of 0.01 corresponded to controlling the False Discovery Rate (FDR) at 0.181. They claim that this is sufficient for their task and that the results are not very sensitive to the choice of cutoff. We choose the value 0.2, the above plot gives empirical support that this cutoff is reasonable."
   ]
  },
  {
   "cell_type": "markdown",
   "metadata": {},
   "source": [
    "There is a reasonable number of significant fold changes for each comparison"
   ]
  },
  {
   "cell_type": "code",
   "execution_count": 50,
   "metadata": {},
   "outputs": [
    {
     "data": {
      "text/plain": [
       "10min.vs.0min      90\n",
       "60min.vs.0min     111\n",
       "2hr.vs.0min        72\n",
       "6hr.vs.0min        41\n",
       "60min.vs.10min    110\n",
       "2hr.vs.60min        9\n",
       "6hr.vs.2hr          6\n",
       "dtype: int64"
      ]
     },
     "execution_count": 50,
     "metadata": {},
     "output_type": "execute_result"
    }
   ],
   "source": [
    "(q_values.iloc[:, 1:] < 0.2).sum()"
   ]
  },
  {
   "cell_type": "markdown",
   "metadata": {},
   "source": [
    "We can now produce the p-value files needed by TPS"
   ]
  },
  {
   "cell_type": "code",
   "execution_count": 51,
   "metadata": {},
   "outputs": [
    {
     "data": {
      "text/plain": [
       "Index(['peptide', '10min.vs.0min', '60min.vs.0min', '2hr.vs.0min',\n",
       "       '6hr.vs.0min', '60min.vs.10min', '2hr.vs.60min', '6hr.vs.2hr'],\n",
       "      dtype='object')"
      ]
     },
     "execution_count": 51,
     "metadata": {},
     "output_type": "execute_result"
    }
   ],
   "source": [
    "q_values.columns"
   ]
  },
  {
   "cell_type": "code",
   "execution_count": 52,
   "metadata": {},
   "outputs": [],
   "source": [
    "p_first = q_values.iloc[:, [0, 1, 2, 3, 4]].copy()\n",
    "p_prev = q_values.iloc[:, [0, 1, 5, 6, 7]].copy()"
   ]
  },
  {
   "cell_type": "code",
   "execution_count": 53,
   "metadata": {},
   "outputs": [],
   "source": [
    "p_first.to_csv('../work/EpoB_p_values_first.tsv', sep='\\t', header=False, index=False)\n",
    "p_prev.to_csv('../work/EpoB_p_values_prev.tsv', sep='\\t', header=False, index=False)"
   ]
  },
  {
   "cell_type": "markdown",
   "metadata": {},
   "source": [
    "### Protein Prizes\n",
    "\n",
    "In the TPS paper, protein prizes are obtained using the minimum peptide p-value over all peptides that map to a protein. They computed prizes as $-\\log_{10} p$"
   ]
  },
  {
   "cell_type": "code",
   "execution_count": 54,
   "metadata": {},
   "outputs": [],
   "source": [
    "p_values['min'] = p_values.iloc[:, 1:].apply(min, axis=1)"
   ]
  },
  {
   "cell_type": "code",
   "execution_count": 55,
   "metadata": {},
   "outputs": [],
   "source": [
    "p_values['hgnc'] = df_timecourse['hgnc']"
   ]
  },
  {
   "cell_type": "code",
   "execution_count": 56,
   "metadata": {},
   "outputs": [
    {
     "name": "stderr",
     "output_type": "stream",
     "text": [
      "/Users/albertsteppi/.virtualenvs/py37/lib/python3.7/site-packages/pandas/core/series.py:853: RuntimeWarning: divide by zero encountered in log10\n",
      "  result = getattr(ufunc, method)(*inputs, **kwargs)\n"
     ]
    }
   ],
   "source": [
    "prizes = -np.log10(p_values.groupby('hgnc')['min'].min())"
   ]
  },
  {
   "cell_type": "markdown",
   "metadata": {},
   "source": [
    "We have one p_value of zero which corresponds to an infinite prize. Let's cap this prize at 20"
   ]
  },
  {
   "cell_type": "code",
   "execution_count": 57,
   "metadata": {},
   "outputs": [],
   "source": [
    "prizes = prizes.apply(lambda x: min(x, 20))"
   ]
  },
  {
   "cell_type": "code",
   "execution_count": 58,
   "metadata": {},
   "outputs": [],
   "source": [
    "prizes.sort_values(inplace=True, ascending=False)"
   ]
  },
  {
   "cell_type": "code",
   "execution_count": 59,
   "metadata": {},
   "outputs": [],
   "source": [
    "prizes = pd.DataFrame(prizes).reset_index()"
   ]
  },
  {
   "cell_type": "code",
   "execution_count": 60,
   "metadata": {},
   "outputs": [],
   "source": [
    "prizes.columns = ['name', 'prize']"
   ]
  },
  {
   "cell_type": "code",
   "execution_count": 61,
   "metadata": {},
   "outputs": [],
   "source": [
    "prizes.to_csv('../work/EpoB_protein_prizes.tsv', sep='\\t', header=True, index=False)"
   ]
  },
  {
   "cell_type": "markdown",
   "metadata": {},
   "source": [
    "### Time Series File\n",
    "\n",
    "As almost an afterthought, we need a file containing the time series data"
   ]
  },
  {
   "cell_type": "code",
   "execution_count": 57,
   "metadata": {},
   "outputs": [],
   "source": [
    "time_series = df_timecourse.iloc[:, 18:23]"
   ]
  },
  {
   "cell_type": "code",
   "execution_count": 58,
   "metadata": {},
   "outputs": [],
   "source": [
    "time_series.columns = ['0min', '10min', '60min', '2hr', '6hr']"
   ]
  },
  {
   "cell_type": "code",
   "execution_count": 59,
   "metadata": {},
   "outputs": [],
   "source": [
    "time_series['peptide'] = time_series.index"
   ]
  },
  {
   "cell_type": "code",
   "execution_count": 60,
   "metadata": {},
   "outputs": [],
   "source": [
    "time_series = time_series.iloc[:, [-1, 0, 1, 2, 3, 4]]"
   ]
  },
  {
   "cell_type": "code",
   "execution_count": 62,
   "metadata": {},
   "outputs": [],
   "source": [
    "time_series.to_csv('../work/EpoB_time_series.tsv', sep='\\t', index=False)"
   ]
  }
 ],
 "metadata": {
  "kernelspec": {
   "display_name": "Python 3",
   "language": "python",
   "name": "python3"
  },
  "language_info": {
   "codemirror_mode": {
    "name": "ipython",
    "version": 3
   },
   "file_extension": ".py",
   "mimetype": "text/x-python",
   "name": "python",
   "nbconvert_exporter": "python",
   "pygments_lexer": "ipython3",
   "version": "3.7.2"
  }
 },
 "nbformat": 4,
 "nbformat_minor": 2
}
