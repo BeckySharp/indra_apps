{
 "cells": [
  {
   "cell_type": "code",
   "execution_count": 62,
   "metadata": {},
   "outputs": [],
   "source": [
    "import re\n",
    "import pickle\n",
    "import numpy as np\n",
    "import pandas as pd"
   ]
  },
  {
   "cell_type": "code",
   "execution_count": 2,
   "metadata": {},
   "outputs": [],
   "source": [
    "from protmapper import ProtMapper\n",
    "from protmapper.uniprot_client import get_gene_name\n",
    "from protmapper.uniprot_client import get_id_from_mnemonic"
   ]
  },
  {
   "cell_type": "markdown",
   "metadata": {},
   "source": [
    "# Processing EGFR Data so we can use INDRA Network"
   ]
  },
  {
   "cell_type": "markdown",
   "metadata": {},
   "source": [
    "### Get Uniprot ID's, Gene Symbols, Sequences, and Sites out of Peptide Map"
   ]
  },
  {
   "cell_type": "code",
   "execution_count": 3,
   "metadata": {},
   "outputs": [],
   "source": [
    "peptide_map = pd.read_csv('/Users/albertsteppi/tps/data/timeseries/peptide-mapping.tsv',\n",
    "                             sep='\\t')\n",
    "peptide_map.columns = ['peptide','mnemonic']"
   ]
  },
  {
   "cell_type": "markdown",
   "metadata": {},
   "source": [
    "#### Uniprot IDs and Gene Symbols\n",
    "The data contains Uniprot Mnemonics which we need to map to id's"
   ]
  },
  {
   "cell_type": "code",
   "execution_count": 4,
   "metadata": {},
   "outputs": [],
   "source": [
    "peptide_map['Uniprot_Id'] = peptide_map.mnemonic.apply(get_id_from_mnemonic)"
   ]
  },
  {
   "cell_type": "markdown",
   "metadata": {},
   "source": [
    "Some of the Uniprot mnemonics are outdated. We cannot recover the current Uniprot ID from\n",
    "these so we throw them away."
   ]
  },
  {
   "cell_type": "code",
   "execution_count": 5,
   "metadata": {},
   "outputs": [],
   "source": [
    "peptide_map = peptide_map[~peptide_map.Uniprot_Id.isnull()]"
   ]
  },
  {
   "cell_type": "markdown",
   "metadata": {},
   "source": [
    "We can then get Gene Symbols for these Uniprot Ids. "
   ]
  },
  {
   "cell_type": "code",
   "execution_count": 6,
   "metadata": {},
   "outputs": [],
   "source": [
    "peptide_map['Gene_Symbol'] = peptide_map.Uniprot_Id.apply(get_gene_name)"
   ]
  },
  {
   "cell_type": "markdown",
   "metadata": {},
   "source": [
    "We remove the entries where we were unable to find a gene symbol for the given\n",
    "Uniprot Id. (Some proteins included are unreviewed, speculative, or now obsolete.)"
   ]
  },
  {
   "cell_type": "code",
   "execution_count": 7,
   "metadata": {},
   "outputs": [],
   "source": [
    "peptide_map = peptide_map[~peptide_map.Gene_Symbol.isnull()].copy()"
   ]
  },
  {
   "cell_type": "markdown",
   "metadata": {},
   "source": [
    "#### Peptides\n",
    "Peptides in the data are encoded by strings of the form `K.n[305.21]AELEEMEEVHPS[167.00]DEEEEDATK[432.30].A`\n",
    "The Capital letters besides those that start and end the sequence\n",
    "are residues. Serines (S) followed by `[167.00]` are phosporylated,\n",
    "as are Threonines (T) followed by `[181.01]` and Tyrosines (Y) followed\n",
    "by `[243.03]`. Given such an encoding, we use the following functions to \n",
    "separate out the sequence and get the indices of the sites in this sequence,\n",
    "indexed beginning at 1."
   ]
  },
  {
   "cell_type": "code",
   "execution_count": 8,
   "metadata": {},
   "outputs": [],
   "source": [
    "def get_sequence(peptide):   \n",
    "    pep = peptide[11:-2]\n",
    "    return re.sub(r'[[0-9]*\\.[0-9]*\\]', '', pep)\n",
    "\n",
    "\n",
    "def get_local_sites(peptide):\n",
    "    sequence = get_sequence(peptide)\n",
    "    groups = re.finditer(r'[[0-9]*\\.[0-9]*\\]', peptide[11:-2])\n",
    "    results = []\n",
    "    for index, group in enumerate(groups):\n",
    "        position = group.span()[0] - 8*index\n",
    "        residue = sequence[position-1]\n",
    "        if residue in ['T', 'S', 'Y']:\n",
    "            results.append((residue, position))\n",
    "    return results"
   ]
  },
  {
   "cell_type": "code",
   "execution_count": 9,
   "metadata": {},
   "outputs": [
    {
     "name": "stderr",
     "output_type": "stream",
     "text": [
      "/Users/albertsteppi/.virtualenvs/py37/lib/python3.7/site-packages/ipykernel_launcher.py:3: FutureWarning: Possible nested set at position 1\n",
      "  This is separate from the ipykernel package so we can avoid doing imports until\n"
     ]
    }
   ],
   "source": [
    "peptide_map['Motif'] = peptide_map.peptide.apply(get_sequence)"
   ]
  },
  {
   "cell_type": "code",
   "execution_count": 10,
   "metadata": {},
   "outputs": [],
   "source": [
    "peptide_map['local_sites'] = peptide_map.peptide.apply(get_local_sites)"
   ]
  },
  {
   "cell_type": "markdown",
   "metadata": {},
   "source": [
    "We can use the ProtMapper to get the global site positions based on the uniprot id's, sequences, and 1-indexed positions within the sequences."
   ]
  },
  {
   "cell_type": "code",
   "execution_count": 11,
   "metadata": {},
   "outputs": [],
   "source": [
    "def get_site_positions(uniprot_id, sequence, positions):\n",
    "    pm = ProtMapper()\n",
    "    result = []\n",
    "    for position in positions:\n",
    "        mapped_site = pm.map_peptide_to_human_ref(uniprot_id, 'uniprot', sequence, position)\n",
    "        result.append(mapped_site.mapped_pos)\n",
    "    return ';'.join([x for x in result if x])"
   ]
  },
  {
   "cell_type": "code",
   "execution_count": 12,
   "metadata": {},
   "outputs": [
    {
     "name": "stderr",
     "output_type": "stream",
     "text": [
      "INFO: [2019-08-27 14:08:13] protmapper.uniprot_client - Loading Swissprot sequences...\n",
      "INFO: [2019-08-27 14:08:15] protmapper.uniprot_client - Loading Uniprot isoform sequences...\n"
     ]
    }
   ],
   "source": [
    "peptide_map['Site_Position'] = peptide_map.apply(lambda row:\n",
    "                                                        get_site_positions(row.Uniprot_Id,\n",
    "                                                        row.Motif,\n",
    "                                                        [pos for site, pos\n",
    "                                                         in row.local_sites]), axis=1)"
   ]
  },
  {
   "cell_type": "markdown",
   "metadata": {},
   "source": [
    "A small number of sites could not be identified by the ProtMapper. We exclude these"
   ]
  },
  {
   "cell_type": "code",
   "execution_count": 13,
   "metadata": {},
   "outputs": [],
   "source": [
    "peptide_map = peptide_map[~peptide_map.Site_Position.apply(lambda x: not x)]"
   ]
  },
  {
   "cell_type": "code",
   "execution_count": 14,
   "metadata": {},
   "outputs": [],
   "source": [
    "peptide_mapping = peptide_map[['peptide', 'Gene_Symbol']]\n",
    "peptide_mapping.columns = ['peptide', 'protein(s)']\n",
    "peptide_mapping.to_csv('../work/EGFR/peptide_mapping.tsv', sep='\\t', index=False)"
   ]
  },
  {
   "cell_type": "markdown",
   "metadata": {},
   "source": [
    "## Time series files\n",
    "\n",
    "We get rid of the entries in the time series files corresponding to peptides that were\n",
    "filtered out in the above process"
   ]
  },
  {
   "cell_type": "code",
   "execution_count": 15,
   "metadata": {},
   "outputs": [],
   "source": [
    "timecourse = pd.read_csv('/Users/albertsteppi/tps/data/timeseries/median-time-series.tsv',\n",
    "                         sep='\\t')"
   ]
  },
  {
   "cell_type": "code",
   "execution_count": 17,
   "metadata": {},
   "outputs": [],
   "source": [
    "timecourse = timecourse[timecourse.peptide.isin(peptide_mapping.peptide)]\n",
    "timecourse.to_csv('../work/EGFR/median-time-series.tsv', sep='\\t', index=False)"
   ]
  },
  {
   "cell_type": "code",
   "execution_count": 22,
   "metadata": {},
   "outputs": [],
   "source": [
    "p_first = pd.read_csv('/Users/albertsteppi/tps/data/timeseries/p-values-first.tsv',\n",
    "                      sep='\\t')\n",
    "p_prev = pd.read_csv('/Users/albertsteppi/tps/data/timeseries/p-values-prev.tsv',\n",
    "                     sep='\\t')"
   ]
  },
  {
   "cell_type": "code",
   "execution_count": 25,
   "metadata": {},
   "outputs": [],
   "source": [
    "p_first = p_first[p_first['#peptide'].isin(peptide_mapping.peptide)]\n",
    "p_prev = p_prev[p_prev['#peptide'].isin(peptide_mapping.peptide)]"
   ]
  },
  {
   "cell_type": "code",
   "execution_count": 28,
   "metadata": {},
   "outputs": [],
   "source": [
    "p_first.to_csv('../work/EGFR/p_values_first.tsv', sep='\\t', index=False)\n",
    "p_prev.to_csv('../work/EGFR/p_values_prev.tsv', sep='\\t', index=False)"
   ]
  },
  {
   "cell_type": "markdown",
   "metadata": {},
   "source": [
    "## Protein Prizes\n",
    "\n",
    "We must now calculate the protein prizes associated to each protein. These are needed to\n",
    "run the steiner analysis and were not included in the data in the TPS repo"
   ]
  },
  {
   "cell_type": "code",
   "execution_count": 50,
   "metadata": {},
   "outputs": [],
   "source": [
    "p_values = pd.merge(p_first, p_prev.drop('2min.vs.0min', axis=1), on='#peptide')\n",
    "p_values.rename(columns={'#peptide': 'peptide'}, inplace=True)"
   ]
  },
  {
   "cell_type": "code",
   "execution_count": 51,
   "metadata": {},
   "outputs": [],
   "source": [
    "p_values['min'] = p_values.iloc[:, 1:].apply(min, axis=1)"
   ]
  },
  {
   "cell_type": "code",
   "execution_count": 53,
   "metadata": {},
   "outputs": [],
   "source": [
    "p_values = pd.merge(p_values, peptide_mapping, on='peptide')"
   ]
  },
  {
   "cell_type": "code",
   "execution_count": 55,
   "metadata": {},
   "outputs": [],
   "source": [
    "prizes = -np.log10(p_values.groupby('protein(s)')['min'].min())"
   ]
  },
  {
   "cell_type": "code",
   "execution_count": 57,
   "metadata": {},
   "outputs": [],
   "source": [
    "prizes.sort_values(ascending=False, inplace=True)"
   ]
  },
  {
   "cell_type": "code",
   "execution_count": 59,
   "metadata": {},
   "outputs": [],
   "source": [
    "prizes = pd.DataFrame(prizes).reset_index()"
   ]
  },
  {
   "cell_type": "code",
   "execution_count": 60,
   "metadata": {},
   "outputs": [],
   "source": [
    "prizes.columns = ['name', 'prize']"
   ]
  },
  {
   "cell_type": "markdown",
   "metadata": {},
   "source": [
    "Following Koksal et al. we keep only proteins with significant prizes. The following keeps only proteins with a minumum p-value among all peptides and considered time differences of 0.01 or less. This is the same as was done in the original paper."
   ]
  },
  {
   "cell_type": "code",
   "execution_count": 113,
   "metadata": {},
   "outputs": [],
   "source": [
    "prizes = prizes[prizes.prize >= 2.0]"
   ]
  },
  {
   "cell_type": "code",
   "execution_count": 115,
   "metadata": {},
   "outputs": [],
   "source": [
    "prizes.to_csv('../work/EGFR/protein_prizes.tsv', sep='\\t', header=True, index=False)"
   ]
  },
  {
   "cell_type": "markdown",
   "metadata": {},
   "source": [
    "## Prior\n",
    "We take a collection of all phosphorylations in the INDRA database from phosphosite plus\n",
    "and all phosphorylations and dephosphorylations from signor. These are used to form a prior\n",
    "network of edges with known direction and sign. Below we process the json's of these statements into a prior network as taken by TPS."
   ]
  },
  {
   "cell_type": "code",
   "execution_count": 63,
   "metadata": {},
   "outputs": [],
   "source": [
    "with open('../input/phosphorylation.pkl', 'rb') as f:\n",
    "    phospho_statements = pickle.load(f)"
   ]
  },
  {
   "cell_type": "code",
   "execution_count": 94,
   "metadata": {},
   "outputs": [],
   "source": [
    "activations = set()\n",
    "inhibitions = set()\n",
    "for stmt in phospho_statements:\n",
    "    enzyme = stmt['enz']\n",
    "    substrate = stmt['sub']\n",
    "    if 'HGNC' not in enzyme['db_refs'] or 'HGNC'not in substrate['db_refs']:\n",
    "        continue\n",
    "    enz_name = enzyme['name']\n",
    "    sub_name = substrate['name']\n",
    "    if stmt['type'] == 'Phosphorylation':\n",
    "        activations.add((enz_name, sub_name))\n",
    "    else:\n",
    "        inhibitions.add((enz_name, sub_name))"
   ]
  },
  {
   "cell_type": "markdown",
   "metadata": {},
   "source": [
    "These statements are site specific. For this cvase we flatten to general phosphorylations independend of site. There is one case where one protein is listed as both phosphorylating and dephosphorylating another. We exclude this as an edge in the prior because TPS cannot\n",
    "handle such situations."
   ]
  },
  {
   "cell_type": "code",
   "execution_count": 95,
   "metadata": {},
   "outputs": [
    {
     "data": {
      "text/plain": [
       "{('PPP2CA', 'FOXO3')}"
      ]
     },
     "execution_count": 95,
     "metadata": {},
     "output_type": "execute_result"
    }
   ],
   "source": [
    "activations & inhibitions"
   ]
  },
  {
   "cell_type": "code",
   "execution_count": 96,
   "metadata": {},
   "outputs": [],
   "source": [
    "activations = activations - inhibitions\n",
    "inhibitions = inhibitions - activations"
   ]
  },
  {
   "cell_type": "code",
   "execution_count": 97,
   "metadata": {},
   "outputs": [],
   "source": [
    "records = [[a[0], 'A', a[1]] for a in activations]\n",
    "records.extend([[i[0], 'I', i[1]] for i in inhibitions])"
   ]
  },
  {
   "cell_type": "code",
   "execution_count": 98,
   "metadata": {},
   "outputs": [],
   "source": [
    "prior = pd.DataFrame.from_records(records)"
   ]
  },
  {
   "cell_type": "code",
   "execution_count": 100,
   "metadata": {},
   "outputs": [],
   "source": [
    "prior.to_csv('../work/EGFR/kinase_substrate.sif', sep='\\t', index=False, header=False)"
   ]
  }
 ],
 "metadata": {
  "kernelspec": {
   "display_name": "Python 3",
   "language": "python",
   "name": "python3"
  },
  "language_info": {
   "codemirror_mode": {
    "name": "ipython",
    "version": 3
   },
   "file_extension": ".py",
   "mimetype": "text/x-python",
   "name": "python",
   "nbconvert_exporter": "python",
   "pygments_lexer": "ipython3",
   "version": "3.7.2"
  }
 },
 "nbformat": 4,
 "nbformat_minor": 2
}
