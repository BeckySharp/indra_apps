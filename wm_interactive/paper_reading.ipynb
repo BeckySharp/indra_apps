{
 "cells": [
  {
   "cell_type": "code",
   "execution_count": 1,
   "metadata": {},
   "outputs": [],
   "source": [
    "from ipywidgets import widgets\n",
    "import xml.etree.ElementTree as ET\n",
    "from IPython.display import display, Markdown, Javascript\n",
    "\n",
    "from indra.sources import eidos\n",
    "from indra.assemblers import CAGAssembler\n",
    "from indra.literature import elsevier_client\n",
    "from indra.assemblers import PysbAssembler\n",
    "from indra.explanation.model_checker import ModelChecker\n",
    "import indra.tools.assemble_corpus as ac\n",
    "\n",
    "global titles\n",
    "global articles\n",
    "global statements\n",
    "global search_term\n",
    "\n",
    "from paper_reading import *\n",
    "\n",
    "def on_search(b):\n",
    "    global titles\n",
    "    global articles\n",
    "    global search_term\n",
    "    piis = elsevier_client.get_piis(search_term.value, start_year=2017)\n",
    "    print('I found a total of %d papers%s.' % (len(piis), (', I\\'ll show you the first 10' if len(piis) > 10 else '')))\n",
    "    articles = [elsevier_client.download_article(pii, id_type='pii') for pii in piis[:10]]\n",
    "    titles = [ET.fromstring(content).findall('*/dc:title',\n",
    "              namespaces=elsevier_client.elsevier_ns)[0].text.strip() for content in articles]\n",
    "    for idx, title in enumerate(titles):\n",
    "        clean_pii = piis[idx].replace('(', '').replace(')', '')\n",
    "        printmd('* %d: <a href=\"https://www.sciencedirect.com/science/article/pii/%s\" target=\"_blank\">%s</a>' % (idx, clean_pii, title))\n",
    "\n",
    "def on_nl(b):\n",
    "    global statements\n",
    "    text = nl_input.value\n",
    "    ep = eidos.process_text(text, webservice='http://localhost:5000')\n",
    "    print('We extracted %d statements:' % len(statements))\n",
    "    for stmt in ep.statements:\n",
    "        sg = stmt.subj.db_refs['UN'][0][0].split('/')[-1]\n",
    "        og = stmt.obj.db_refs['UN'][0][0].split('/')[-1]\n",
    "        printmd('* **%s**(%s) %s **%s**(%s)' % (sg, stmt.subj.name, '-|' if stmt.overall_polarity() == -1 else '->', og, stmt.obj.name))\n",
    "    statements += ep.statements\n",
    "    \n",
    "\n",
    "def on_read(b):\n",
    "    global articles\n",
    "    global statements\n",
    "    raw_txt = elsevier_client.extract_text(articles[int(paper_id.value)])\n",
    "    if not raw_txt:\n",
    "        print('There seemed to be no usable content in that paper. Try another one!')\n",
    "        statements = []\n",
    "    if 'Internal Server Error' in raw_txt:\n",
    "        print('Sorry, that paper was not accessible for reading.')\n",
    "        statements = []\n",
    "    ep = eidos.process_text(raw_txt, webservice='http://localhost:5000')\n",
    "    statements = ep.statements\n",
    "    print('We extracted %d statements:' % len(statements))\n",
    "    for stmt in statements:\n",
    "        sg = stmt.subj.db_refs['UN'][0][0].split('/')[-1]\n",
    "        og = stmt.obj.db_refs['UN'][0][0].split('/')[-1]\n",
    "        printmd('* **%s**(%s) %s **%s**(%s)' % (sg, stmt.subj.name, '-|' if stmt.overall_polarity() == -1 else '->', og, stmt.obj.name))\n",
    "        \n",
    "def on_query(b):\n",
    "    ste = eidos.process_text(query.value, webservice='http://localhost:5000').statements\n",
    "    if not ste:\n",
    "        print('Sorry, I couldn\\'t get any statements out of that')\n",
    "        return None\n",
    "    pa = PysbAssembler()\n",
    "    pa.add_statements(statements)\n",
    "    model = pa.make_model()\n",
    "    mc = ModelChecker(model, statements=standardize_names(ste))\n",
    "    mc.prune_influence_map()\n",
    "    res = mc.check_model()\n",
    "    paths = res[0][1].paths\n",
    "    for path in paths:\n",
    "        print(path)"
   ]
  },
  {
   "cell_type": "markdown",
   "metadata": {},
   "source": [
    "# Interactive reading and assembly"
   ]
  },
  {
   "cell_type": "markdown",
   "metadata": {},
   "source": [
    "### Enter a search topic you are interested in"
   ]
  },
  {
   "cell_type": "code",
   "execution_count": 2,
   "metadata": {
    "scrolled": false
   },
   "outputs": [
    {
     "data": {
      "application/vnd.jupyter.widget-view+json": {
       "model_id": "2826ae97ec14446f8cdc34735ecf24b5",
       "version_major": 2,
       "version_minor": 0
      },
      "text/html": [
       "<p>Failed to display Jupyter Widget of type <code>Text</code>.</p>\n",
       "<p>\n",
       "  If you're reading this message in the Jupyter Notebook or JupyterLab Notebook, it may mean\n",
       "  that the widgets JavaScript is still loading. If this message persists, it\n",
       "  likely means that the widgets JavaScript library is either not installed or\n",
       "  not enabled. See the <a href=\"https://ipywidgets.readthedocs.io/en/stable/user_install.html\">Jupyter\n",
       "  Widgets Documentation</a> for setup instructions.\n",
       "</p>\n",
       "<p>\n",
       "  If you're reading this message in another frontend (for example, a static\n",
       "  rendering on GitHub or <a href=\"https://nbviewer.jupyter.org/\">NBViewer</a>),\n",
       "  it may mean that your frontend doesn't currently support widgets.\n",
       "</p>\n"
      ],
      "text/plain": [
       "Text(value='conflict south sudan')"
      ]
     },
     "metadata": {},
     "output_type": "display_data"
    },
    {
     "data": {
      "application/vnd.jupyter.widget-view+json": {
       "model_id": "7aeb8aba79934ac7b6f6f4da8bb40519",
       "version_major": 2,
       "version_minor": 0
      },
      "text/html": [
       "<p>Failed to display Jupyter Widget of type <code>Button</code>.</p>\n",
       "<p>\n",
       "  If you're reading this message in the Jupyter Notebook or JupyterLab Notebook, it may mean\n",
       "  that the widgets JavaScript is still loading. If this message persists, it\n",
       "  likely means that the widgets JavaScript library is either not installed or\n",
       "  not enabled. See the <a href=\"https://ipywidgets.readthedocs.io/en/stable/user_install.html\">Jupyter\n",
       "  Widgets Documentation</a> for setup instructions.\n",
       "</p>\n",
       "<p>\n",
       "  If you're reading this message in another frontend (for example, a static\n",
       "  rendering on GitHub or <a href=\"https://nbviewer.jupyter.org/\">NBViewer</a>),\n",
       "  it may mean that your frontend doesn't currently support widgets.\n",
       "</p>\n"
      ],
      "text/plain": [
       "Button(description='Find', style=ButtonStyle())"
      ]
     },
     "metadata": {},
     "output_type": "display_data"
    },
    {
     "name": "stderr",
     "output_type": "stream",
     "text": [
      "INFO: [2018-08-01 13:55:22] indra/elsevier - 428\n",
      "INFO: [2018-08-01 13:55:22] indra/elsevier - Found link to next batch of results.\n",
      "INFO: [2018-08-01 13:55:27] indra/elsevier - 428\n",
      "INFO: [2018-08-01 13:55:27] indra/elsevier - Found link to next batch of results.\n",
      "INFO: [2018-08-01 13:55:29] indra/elsevier - 428\n"
     ]
    },
    {
     "name": "stdout",
     "output_type": "stream",
     "text": [
      "I found a total of 428 papers, I'll show you the first 10.\n"
     ]
    },
    {
     "data": {
      "text/markdown": [
       "* 0: <a href=\"https://www.sciencedirect.com/science/article/pii/S0738-05931630391-1\" target=\"_blank\">Factors affecting early grade educational attainment: Evidence from South Sudan</a>"
      ],
      "text/plain": [
       "<IPython.core.display.Markdown object>"
      ]
     },
     "metadata": {},
     "output_type": "display_data"
    },
    {
     "data": {
      "text/markdown": [
       "* 1: <a href=\"https://www.sciencedirect.com/science/article/pii/S0264-410X1631141-0\" target=\"_blank\">Pneumonia prevention: Cost-effectiveness analyses of two vaccines among refugee children aged under two years, Haemophilus influenzae type b-containing and pneumococcal conjugate vaccines, during a humanitarian emergency, Yida camp, South Sudan</a>"
      ],
      "text/plain": [
       "<IPython.core.display.Markdown object>"
      ]
     },
     "metadata": {},
     "output_type": "display_data"
    },
    {
     "data": {
      "text/markdown": [
       "* 2: <a href=\"https://www.sciencedirect.com/science/article/pii/S0140-67361730280-5\" target=\"_blank\">South Sudan: aftermaths of 3 years of armed conflict</a>"
      ],
      "text/plain": [
       "<IPython.core.display.Markdown object>"
      ]
     },
     "metadata": {},
     "output_type": "display_data"
    },
    {
     "data": {
      "text/markdown": [
       "* 3: <a href=\"https://www.sciencedirect.com/science/article/pii/S2214-109X1630288-1\" target=\"_blank\">Elimination of sleeping sickness in Uganda could be jeopardised by conflict in South Sudan</a>"
      ],
      "text/plain": [
       "<IPython.core.display.Markdown object>"
      ]
     },
     "metadata": {},
     "output_type": "display_data"
    },
    {
     "data": {
      "text/markdown": [
       "* 4: <a href=\"https://www.sciencedirect.com/science/article/pii/S0895-39881830009-6\" target=\"_blank\">Epidemiology of Measles Cases in South Darfur State, Sudan, 2011–2015</a>"
      ],
      "text/plain": [
       "<IPython.core.display.Markdown object>"
      ]
     },
     "metadata": {},
     "output_type": "display_data"
    },
    {
     "data": {
      "text/markdown": [
       "* 5: <a href=\"https://www.sciencedirect.com/science/article/pii/S2352-61811630130-5\" target=\"_blank\">Households' dietary habits and food consumption patterns in Hamishkoreib locality, Kassala State, Sudan</a>"
      ],
      "text/plain": [
       "<IPython.core.display.Markdown object>"
      ]
     },
     "metadata": {},
     "output_type": "display_data"
    },
    {
     "data": {
      "text/markdown": [
       "* 6: <a href=\"https://www.sciencedirect.com/science/article/pii/S0304-40171730137-1\" target=\"_blank\">Genotyping of Theileria lestoquardi from sheep and goats in Sudan to support control of Malignant Ovine Theileriosis</a>"
      ],
      "text/plain": [
       "<IPython.core.display.Markdown object>"
      ]
     },
     "metadata": {},
     "output_type": "display_data"
    },
    {
     "data": {
      "text/markdown": [
       "* 7: <a href=\"https://www.sciencedirect.com/science/article/pii/S0379-07381630554-0\" target=\"_blank\">High concentrations of lead and barium in hair of the rural population caused by water pollution in the Thar Jath oilfields in South Sudan</a>"
      ],
      "text/plain": [
       "<IPython.core.display.Markdown object>"
      ]
     },
     "metadata": {},
     "output_type": "display_data"
    },
    {
     "data": {
      "text/markdown": [
       "* 8: <a href=\"https://www.sciencedirect.com/science/article/pii/S0140-67361731351-X\" target=\"_blank\">Famine in South Sudan</a>"
      ],
      "text/plain": [
       "<IPython.core.display.Markdown object>"
      ]
     },
     "metadata": {},
     "output_type": "display_data"
    },
    {
     "data": {
      "text/markdown": [
       "* 9: <a href=\"https://www.sciencedirect.com/science/article/pii/S0277-53951630196-0\" target=\"_blank\">“Only the person who wears the shoes knows where the shoes pinch”: Reworking bottom-up approach in South Sudan</a>"
      ],
      "text/plain": [
       "<IPython.core.display.Markdown object>"
      ]
     },
     "metadata": {},
     "output_type": "display_data"
    },
    {
     "name": "stderr",
     "output_type": "stream",
     "text": [
      "INFO: [2018-08-01 13:56:31] indra/elsevier - 69\n"
     ]
    },
    {
     "name": "stdout",
     "output_type": "stream",
     "text": [
      "I found a total of 69 papers, I'll show you the first 10.\n"
     ]
    },
    {
     "data": {
      "text/markdown": [
       "* 0: <a href=\"https://www.sciencedirect.com/science/article/pii/S0169-80951630714-1\" target=\"_blank\">Concentration of daily precipitation in the contiguous United States</a>"
      ],
      "text/plain": [
       "<IPython.core.display.Markdown object>"
      ]
     },
     "metadata": {},
     "output_type": "display_data"
    },
    {
     "data": {
      "text/markdown": [
       "* 1: <a href=\"https://www.sciencedirect.com/science/article/pii/S0341-81621730020-6\" target=\"_blank\">Runoff and erosion processes on bare slopes in the Karst Rocky Desertification Area</a>"
      ],
      "text/plain": [
       "<IPython.core.display.Markdown object>"
      ]
     },
     "metadata": {},
     "output_type": "display_data"
    },
    {
     "data": {
      "text/markdown": [
       "* 2: <a href=\"https://www.sciencedirect.com/science/article/pii/S2214-58181630187-2\" target=\"_blank\">Assessment of the consistency among global precipitation products over the United Arab Emirates</a>"
      ],
      "text/plain": [
       "<IPython.core.display.Markdown object>"
      ]
     },
     "metadata": {},
     "output_type": "display_data"
    },
    {
     "data": {
      "text/markdown": [
       "* 3: <a href=\"https://www.sciencedirect.com/science/article/pii/S2351-98941730059-8\" target=\"_blank\">Arthropod diversity and assemblage structure response to deforestation and desertification in the Sahel of western Senegal</a>"
      ],
      "text/plain": [
       "<IPython.core.display.Markdown object>"
      ]
     },
     "metadata": {},
     "output_type": "display_data"
    },
    {
     "data": {
      "text/markdown": [
       "* 4: <a href=\"https://www.sciencedirect.com/science/article/pii/S1110-98231630170-3\" target=\"_blank\">Spectral mixture analysis (SMA) and change vector analysis (CVA) methods for monitoring and mapping land degradation/desertification in arid and semiarid areas (Sudan), using Landsat imagery</a>"
      ],
      "text/plain": [
       "<IPython.core.display.Markdown object>"
      ]
     },
     "metadata": {},
     "output_type": "display_data"
    },
    {
     "data": {
      "text/markdown": [
       "* 5: <a href=\"https://www.sciencedirect.com/science/article/pii/S0009-25411730568-5\" target=\"_blank\">Insight into factors controlling formation rates of pedogenic carbonates: A combined geochemical and isotopic approach in dryland soils of the US Southwest</a>"
      ],
      "text/plain": [
       "<IPython.core.display.Markdown object>"
      ]
     },
     "metadata": {},
     "output_type": "display_data"
    },
    {
     "data": {
      "text/markdown": [
       "* 6: <a href=\"https://www.sciencedirect.com/science/article/pii/S0169-20461730016-6\" target=\"_blank\">Identification of landscape character types for trans-regional integration in the Wuling Mountain multi-ethnic area of southwest China</a>"
      ],
      "text/plain": [
       "<IPython.core.display.Markdown object>"
      ]
     },
     "metadata": {},
     "output_type": "display_data"
    },
    {
     "data": {
      "text/markdown": [
       "* 7: <a href=\"https://www.sciencedirect.com/science/article/pii/S2095-31191661507-1\" target=\"_blank\">Assessment for soil loss by using a scheme of alterative sub-models based on the RUSLE in a Karst Basin of Southwest China</a>"
      ],
      "text/plain": [
       "<IPython.core.display.Markdown object>"
      ]
     },
     "metadata": {},
     "output_type": "display_data"
    },
    {
     "data": {
      "text/markdown": [
       "* 8: <a href=\"https://www.sciencedirect.com/science/article/pii/S0038-092X1730485-1\" target=\"_blank\">A GIS-based Fuzzy-AHP method for the evaluation of solar farms locations: Case study in Khuzestan province, Iran</a>"
      ],
      "text/plain": [
       "<IPython.core.display.Markdown object>"
      ]
     },
     "metadata": {},
     "output_type": "display_data"
    },
    {
     "data": {
      "text/markdown": [
       "* 9: <a href=\"https://www.sciencedirect.com/science/article/pii/B978-0-12-801712-8.00004-4\" target=\"_blank\">Chapter 4 Human Impacts on the Global Landscape</a>"
      ],
      "text/plain": [
       "<IPython.core.display.Markdown object>"
      ]
     },
     "metadata": {},
     "output_type": "display_data"
    },
    {
     "name": "stdout",
     "output_type": "stream",
     "text": [
      "I found a total of 428 papers, I'll show you the first 10.\n"
     ]
    },
    {
     "data": {
      "text/markdown": [
       "* 0: <a href=\"https://www.sciencedirect.com/science/article/pii/S0738-05931630391-1\" target=\"_blank\">Factors affecting early grade educational attainment: Evidence from South Sudan</a>"
      ],
      "text/plain": [
       "<IPython.core.display.Markdown object>"
      ]
     },
     "metadata": {},
     "output_type": "display_data"
    },
    {
     "data": {
      "text/markdown": [
       "* 1: <a href=\"https://www.sciencedirect.com/science/article/pii/S0264-410X1631141-0\" target=\"_blank\">Pneumonia prevention: Cost-effectiveness analyses of two vaccines among refugee children aged under two years, Haemophilus influenzae type b-containing and pneumococcal conjugate vaccines, during a humanitarian emergency, Yida camp, South Sudan</a>"
      ],
      "text/plain": [
       "<IPython.core.display.Markdown object>"
      ]
     },
     "metadata": {},
     "output_type": "display_data"
    },
    {
     "data": {
      "text/markdown": [
       "* 2: <a href=\"https://www.sciencedirect.com/science/article/pii/S0140-67361730280-5\" target=\"_blank\">South Sudan: aftermaths of 3 years of armed conflict</a>"
      ],
      "text/plain": [
       "<IPython.core.display.Markdown object>"
      ]
     },
     "metadata": {},
     "output_type": "display_data"
    },
    {
     "data": {
      "text/markdown": [
       "* 3: <a href=\"https://www.sciencedirect.com/science/article/pii/S2214-109X1630288-1\" target=\"_blank\">Elimination of sleeping sickness in Uganda could be jeopardised by conflict in South Sudan</a>"
      ],
      "text/plain": [
       "<IPython.core.display.Markdown object>"
      ]
     },
     "metadata": {},
     "output_type": "display_data"
    },
    {
     "data": {
      "text/markdown": [
       "* 4: <a href=\"https://www.sciencedirect.com/science/article/pii/S0895-39881830009-6\" target=\"_blank\">Epidemiology of Measles Cases in South Darfur State, Sudan, 2011–2015</a>"
      ],
      "text/plain": [
       "<IPython.core.display.Markdown object>"
      ]
     },
     "metadata": {},
     "output_type": "display_data"
    },
    {
     "data": {
      "text/markdown": [
       "* 5: <a href=\"https://www.sciencedirect.com/science/article/pii/S2352-61811630130-5\" target=\"_blank\">Households' dietary habits and food consumption patterns in Hamishkoreib locality, Kassala State, Sudan</a>"
      ],
      "text/plain": [
       "<IPython.core.display.Markdown object>"
      ]
     },
     "metadata": {},
     "output_type": "display_data"
    },
    {
     "data": {
      "text/markdown": [
       "* 6: <a href=\"https://www.sciencedirect.com/science/article/pii/S0304-40171730137-1\" target=\"_blank\">Genotyping of Theileria lestoquardi from sheep and goats in Sudan to support control of Malignant Ovine Theileriosis</a>"
      ],
      "text/plain": [
       "<IPython.core.display.Markdown object>"
      ]
     },
     "metadata": {},
     "output_type": "display_data"
    },
    {
     "data": {
      "text/markdown": [
       "* 7: <a href=\"https://www.sciencedirect.com/science/article/pii/S0379-07381630554-0\" target=\"_blank\">High concentrations of lead and barium in hair of the rural population caused by water pollution in the Thar Jath oilfields in South Sudan</a>"
      ],
      "text/plain": [
       "<IPython.core.display.Markdown object>"
      ]
     },
     "metadata": {},
     "output_type": "display_data"
    },
    {
     "data": {
      "text/markdown": [
       "* 8: <a href=\"https://www.sciencedirect.com/science/article/pii/S0140-67361731351-X\" target=\"_blank\">Famine in South Sudan</a>"
      ],
      "text/plain": [
       "<IPython.core.display.Markdown object>"
      ]
     },
     "metadata": {},
     "output_type": "display_data"
    },
    {
     "data": {
      "text/markdown": [
       "* 9: <a href=\"https://www.sciencedirect.com/science/article/pii/S0277-53951630196-0\" target=\"_blank\">“Only the person who wears the shoes knows where the shoes pinch”: Reworking bottom-up approach in South Sudan</a>"
      ],
      "text/plain": [
       "<IPython.core.display.Markdown object>"
      ]
     },
     "metadata": {},
     "output_type": "display_data"
    }
   ],
   "source": [
    "search_term = widgets.Text(value='conflict south sudan')\n",
    "find_papers = widgets.Button(description='Find')\n",
    "find_papers.on_click(on_search)\n",
    "display(search_term, find_papers)"
   ]
  },
  {
   "cell_type": "markdown",
   "metadata": {},
   "source": [
    "### Choose a paper to read"
   ]
  },
  {
   "cell_type": "code",
   "execution_count": 8,
   "metadata": {
    "scrolled": false
   },
   "outputs": [
    {
     "data": {
      "application/vnd.jupyter.widget-view+json": {
       "model_id": "a6c105d2b75049c98d68803c1302b530",
       "version_major": 2,
       "version_minor": 0
      },
      "text/html": [
       "<p>Failed to display Jupyter Widget of type <code>Dropdown</code>.</p>\n",
       "<p>\n",
       "  If you're reading this message in the Jupyter Notebook or JupyterLab Notebook, it may mean\n",
       "  that the widgets JavaScript is still loading. If this message persists, it\n",
       "  likely means that the widgets JavaScript library is either not installed or\n",
       "  not enabled. See the <a href=\"https://ipywidgets.readthedocs.io/en/stable/user_install.html\">Jupyter\n",
       "  Widgets Documentation</a> for setup instructions.\n",
       "</p>\n",
       "<p>\n",
       "  If you're reading this message in another frontend (for example, a static\n",
       "  rendering on GitHub or <a href=\"https://nbviewer.jupyter.org/\">NBViewer</a>),\n",
       "  it may mean that your frontend doesn't currently support widgets.\n",
       "</p>\n"
      ],
      "text/plain": [
       "Dropdown(index=3, options={'Factors affecting early grade educational attainment: Evidence from South Sudan': 0, 'Pneumonia prevention: Cost-effectiveness analyses of two vaccines among refugee children aged under two years, Haemophilus influenzae type b-containing and pneumococcal conjugate vaccines, during a humanitarian emergency, Yida camp, South Sudan': 1, 'South Sudan: aftermaths of 3 years of armed conflict': 2, 'Elimination of sleeping sickness in Uganda could be jeopardised by conflict in South Sudan': 3, 'Epidemiology of Measles Cases in South Darfur State, Sudan, 2011–2015': 4, \"Households' dietary habits and food consumption patterns in Hamishkoreib locality, Kassala State, Sudan\": 5, 'Genotyping of Theileria lestoquardi from sheep and goats in Sudan to support control of Malignant Ovine Theileriosis': 6, 'High concentrations of lead and barium in hair of the rural population caused by water pollution in the Thar Jath oilfields in South Sudan': 7, 'Famine in South Sudan': 8, '“Only the person who wears the shoes knows where the shoes pinch”: Reworking bottom-up approach in South Sudan': 9}, value=3)"
      ]
     },
     "metadata": {},
     "output_type": "display_data"
    },
    {
     "data": {
      "application/vnd.jupyter.widget-view+json": {
       "model_id": "ca2e42dce975465cb101b6c02cce6f41",
       "version_major": 2,
       "version_minor": 0
      },
      "text/html": [
       "<p>Failed to display Jupyter Widget of type <code>Button</code>.</p>\n",
       "<p>\n",
       "  If you're reading this message in the Jupyter Notebook or JupyterLab Notebook, it may mean\n",
       "  that the widgets JavaScript is still loading. If this message persists, it\n",
       "  likely means that the widgets JavaScript library is either not installed or\n",
       "  not enabled. See the <a href=\"https://ipywidgets.readthedocs.io/en/stable/user_install.html\">Jupyter\n",
       "  Widgets Documentation</a> for setup instructions.\n",
       "</p>\n",
       "<p>\n",
       "  If you're reading this message in another frontend (for example, a static\n",
       "  rendering on GitHub or <a href=\"https://nbviewer.jupyter.org/\">NBViewer</a>),\n",
       "  it may mean that your frontend doesn't currently support widgets.\n",
       "</p>\n"
      ],
      "text/plain": [
       "Button(description='Read', style=ButtonStyle())"
      ]
     },
     "metadata": {},
     "output_type": "display_data"
    },
    {
     "name": "stderr",
     "output_type": "stream",
     "text": [
      "INFO: [2018-08-01 14:00:46] indra/elsevier - Could not find main body element xocs:doc/xocs:serial-item/ja:article/ja:body\n",
      "INFO: [2018-08-01 14:00:46] indra/elsevier - Could not find main body element xocs:doc/xocs:serial-item/ja:converted-article/ja:body\n",
      "INFO: [2018-08-01 14:00:46] indra/elsevier - Found main body element xocs:doc/xocs:serial-item/ja:simple-article/ja:body\n",
      "INFO: [2018-08-01 14:00:46] indra/elsevier - Found no sections in main body\n",
      "INFO: [2018-08-01 14:00:46] indra/elsevier - Found 9 paragraphs in main body\n"
     ]
    },
    {
     "name": "stdout",
     "output_type": "stream",
     "text": [
      "We extracted 16 statements:\n"
     ]
    },
    {
     "data": {
      "text/markdown": [
       "* **population**(internally displaced people) -> **disease**(disease)"
      ],
      "text/plain": [
       "<IPython.core.display.Markdown object>"
      ]
     },
     "metadata": {},
     "output_type": "display_data"
    },
    {
     "data": {
      "text/markdown": [
       "* **livelihood**(tool have contribute) -| **famine**(sleep sickness)"
      ],
      "text/plain": [
       "<IPython.core.display.Markdown object>"
      ]
     },
     "metadata": {},
     "output_type": "display_data"
    },
    {
     "data": {
      "text/markdown": [
       "* **conflict**(instability conflict period follow decolonisation dr) -> **duty**(dismantle health service include disease control programme hat disease)"
      ],
      "text/plain": [
       "<IPython.core.display.Markdown object>"
      ]
     },
     "metadata": {},
     "output_type": "display_data"
    },
    {
     "data": {
      "text/markdown": [
       "* **famine**(sleep sickness) -| **death**(morbidity)"
      ],
      "text/plain": [
       "<IPython.core.display.Markdown object>"
      ]
     },
     "metadata": {},
     "output_type": "display_data"
    },
    {
     "data": {
      "text/markdown": [
       "* **conflict**(conflict) -| **human_migration**(flow refugee cross)"
      ],
      "text/plain": [
       "<IPython.core.display.Markdown object>"
      ]
     },
     "metadata": {},
     "output_type": "display_data"
    },
    {
     "data": {
      "text/markdown": [
       "* **pest**(parasite transmit bite tsetse fly) -> **disease**(sleep sickness be disease)"
      ],
      "text/plain": [
       "<IPython.core.display.Markdown object>"
      ]
     },
     "metadata": {},
     "output_type": "display_data"
    },
    {
     "data": {
      "text/markdown": [
       "* **conflict**(war) -> **human_migration**(refugee)"
      ],
      "text/plain": [
       "<IPython.core.display.Markdown object>"
      ]
     },
     "metadata": {},
     "output_type": "display_data"
    },
    {
     "data": {
      "text/markdown": [
       "* **duty**(phase) -> **death**(sequelae survivor)"
      ],
      "text/plain": [
       "<IPython.core.display.Markdown object>"
      ]
     },
     "metadata": {},
     "output_type": "display_data"
    },
    {
     "data": {
      "text/markdown": [
       "* **famine**(sleep sickness) -| **death**(mortality)"
      ],
      "text/plain": [
       "<IPython.core.display.Markdown object>"
      ]
     },
     "metadata": {},
     "output_type": "display_data"
    },
    {
     "data": {
      "text/markdown": [
       "* **population**(internally displaced people) -> **biotic_resources**(new areas)"
      ],
      "text/plain": [
       "<IPython.core.display.Markdown object>"
      ]
     },
     "metadata": {},
     "output_type": "display_data"
    },
    {
     "data": {
      "text/markdown": [
       "* **disease**(epidemic) -> **death**(death sub-Saharan)"
      ],
      "text/plain": [
       "<IPython.core.display.Markdown object>"
      ]
     },
     "metadata": {},
     "output_type": "display_data"
    },
    {
     "data": {
      "text/markdown": [
       "* **conflict**(violence) -> **conflict**(movement flee conflict)"
      ],
      "text/plain": [
       "<IPython.core.display.Markdown object>"
      ]
     },
     "metadata": {},
     "output_type": "display_data"
    },
    {
     "data": {
      "text/markdown": [
       "* **conflict**(war) -> **death**(death)"
      ],
      "text/plain": [
       "<IPython.core.display.Markdown object>"
      ]
     },
     "metadata": {},
     "output_type": "display_data"
    },
    {
     "data": {
      "text/markdown": [
       "* **disease**(epidemic) -> **death**(thousand death)"
      ],
      "text/plain": [
       "<IPython.core.display.Markdown object>"
      ]
     },
     "metadata": {},
     "output_type": "display_data"
    },
    {
     "data": {
      "text/markdown": [
       "* **government_entity**(partner) -| **climate_change_mitigation**(be indicator control)"
      ],
      "text/plain": [
       "<IPython.core.display.Markdown object>"
      ]
     },
     "metadata": {},
     "output_type": "display_data"
    },
    {
     "data": {
      "text/markdown": [
       "* **duty**(assistance community invest) -| **crisis**(situation)"
      ],
      "text/plain": [
       "<IPython.core.display.Markdown object>"
      ]
     },
     "metadata": {},
     "output_type": "display_data"
    },
    {
     "name": "stderr",
     "output_type": "stream",
     "text": [
      "INFO: [2018-08-01 14:13:02] indra/elsevier - Could not find main body element xocs:doc/xocs:serial-item/ja:article/ja:body\n",
      "INFO: [2018-08-01 14:13:02] indra/elsevier - Could not find main body element xocs:doc/xocs:serial-item/ja:converted-article/ja:body\n",
      "INFO: [2018-08-01 14:13:02] indra/elsevier - Found main body element xocs:doc/xocs:serial-item/ja:simple-article/ja:body\n",
      "INFO: [2018-08-01 14:13:02] indra/elsevier - Found no sections in main body\n",
      "INFO: [2018-08-01 14:13:02] indra/elsevier - Found 9 paragraphs in main body\n"
     ]
    },
    {
     "name": "stdout",
     "output_type": "stream",
     "text": [
      "We extracted 16 statements:\n"
     ]
    },
    {
     "data": {
      "text/markdown": [
       "* **population**(internally displaced people) -> **disease**(disease)"
      ],
      "text/plain": [
       "<IPython.core.display.Markdown object>"
      ]
     },
     "metadata": {},
     "output_type": "display_data"
    },
    {
     "data": {
      "text/markdown": [
       "* **livelihood**(tool have contribute) -| **famine**(sleep sickness)"
      ],
      "text/plain": [
       "<IPython.core.display.Markdown object>"
      ]
     },
     "metadata": {},
     "output_type": "display_data"
    },
    {
     "data": {
      "text/markdown": [
       "* **conflict**(instability conflict period follow decolonisation dr) -> **duty**(dismantle health service include disease control programme hat disease)"
      ],
      "text/plain": [
       "<IPython.core.display.Markdown object>"
      ]
     },
     "metadata": {},
     "output_type": "display_data"
    },
    {
     "data": {
      "text/markdown": [
       "* **famine**(sleep sickness) -| **death**(morbidity)"
      ],
      "text/plain": [
       "<IPython.core.display.Markdown object>"
      ]
     },
     "metadata": {},
     "output_type": "display_data"
    },
    {
     "data": {
      "text/markdown": [
       "* **conflict**(conflict) -| **human_migration**(flow refugee cross)"
      ],
      "text/plain": [
       "<IPython.core.display.Markdown object>"
      ]
     },
     "metadata": {},
     "output_type": "display_data"
    },
    {
     "data": {
      "text/markdown": [
       "* **pest**(parasite transmit bite tsetse fly) -> **disease**(sleep sickness be disease)"
      ],
      "text/plain": [
       "<IPython.core.display.Markdown object>"
      ]
     },
     "metadata": {},
     "output_type": "display_data"
    },
    {
     "data": {
      "text/markdown": [
       "* **conflict**(war) -> **human_migration**(refugee)"
      ],
      "text/plain": [
       "<IPython.core.display.Markdown object>"
      ]
     },
     "metadata": {},
     "output_type": "display_data"
    },
    {
     "data": {
      "text/markdown": [
       "* **duty**(phase) -> **death**(sequelae survivor)"
      ],
      "text/plain": [
       "<IPython.core.display.Markdown object>"
      ]
     },
     "metadata": {},
     "output_type": "display_data"
    },
    {
     "data": {
      "text/markdown": [
       "* **famine**(sleep sickness) -| **death**(mortality)"
      ],
      "text/plain": [
       "<IPython.core.display.Markdown object>"
      ]
     },
     "metadata": {},
     "output_type": "display_data"
    },
    {
     "data": {
      "text/markdown": [
       "* **population**(internally displaced people) -> **biotic_resources**(new areas)"
      ],
      "text/plain": [
       "<IPython.core.display.Markdown object>"
      ]
     },
     "metadata": {},
     "output_type": "display_data"
    },
    {
     "data": {
      "text/markdown": [
       "* **disease**(epidemic) -> **death**(death sub-Saharan)"
      ],
      "text/plain": [
       "<IPython.core.display.Markdown object>"
      ]
     },
     "metadata": {},
     "output_type": "display_data"
    },
    {
     "data": {
      "text/markdown": [
       "* **conflict**(violence) -> **conflict**(movement flee conflict)"
      ],
      "text/plain": [
       "<IPython.core.display.Markdown object>"
      ]
     },
     "metadata": {},
     "output_type": "display_data"
    },
    {
     "data": {
      "text/markdown": [
       "* **conflict**(war) -> **death**(death)"
      ],
      "text/plain": [
       "<IPython.core.display.Markdown object>"
      ]
     },
     "metadata": {},
     "output_type": "display_data"
    },
    {
     "data": {
      "text/markdown": [
       "* **disease**(epidemic) -> **death**(thousand death)"
      ],
      "text/plain": [
       "<IPython.core.display.Markdown object>"
      ]
     },
     "metadata": {},
     "output_type": "display_data"
    },
    {
     "data": {
      "text/markdown": [
       "* **government_entity**(partner) -| **climate_change_mitigation**(be indicator control)"
      ],
      "text/plain": [
       "<IPython.core.display.Markdown object>"
      ]
     },
     "metadata": {},
     "output_type": "display_data"
    },
    {
     "data": {
      "text/markdown": [
       "* **duty**(assistance community invest) -| **crisis**(situation)"
      ],
      "text/plain": [
       "<IPython.core.display.Markdown object>"
      ]
     },
     "metadata": {},
     "output_type": "display_data"
    },
    {
     "name": "stderr",
     "output_type": "stream",
     "text": [
      "INFO: [2018-08-01 14:20:40] indra/elsevier - Could not find main body element xocs:doc/xocs:serial-item/ja:article/ja:body\n",
      "INFO: [2018-08-01 14:20:40] indra/elsevier - Could not find main body element xocs:doc/xocs:serial-item/ja:converted-article/ja:body\n",
      "INFO: [2018-08-01 14:20:40] indra/elsevier - Found main body element xocs:doc/xocs:serial-item/ja:simple-article/ja:body\n",
      "INFO: [2018-08-01 14:20:40] indra/elsevier - Found no sections in main body\n",
      "INFO: [2018-08-01 14:20:40] indra/elsevier - Found 9 paragraphs in main body\n"
     ]
    },
    {
     "name": "stdout",
     "output_type": "stream",
     "text": [
      "We extracted 16 statements:\n"
     ]
    },
    {
     "data": {
      "text/markdown": [
       "* **population**(internally displaced people) -> **disease**(disease)"
      ],
      "text/plain": [
       "<IPython.core.display.Markdown object>"
      ]
     },
     "metadata": {},
     "output_type": "display_data"
    },
    {
     "data": {
      "text/markdown": [
       "* **livelihood**(tool have contribute) -| **famine**(sleep sickness)"
      ],
      "text/plain": [
       "<IPython.core.display.Markdown object>"
      ]
     },
     "metadata": {},
     "output_type": "display_data"
    },
    {
     "data": {
      "text/markdown": [
       "* **conflict**(instability conflict period follow decolonisation dr) -> **duty**(dismantle health service include disease control programme hat disease)"
      ],
      "text/plain": [
       "<IPython.core.display.Markdown object>"
      ]
     },
     "metadata": {},
     "output_type": "display_data"
    },
    {
     "data": {
      "text/markdown": [
       "* **famine**(sleep sickness) -| **death**(morbidity)"
      ],
      "text/plain": [
       "<IPython.core.display.Markdown object>"
      ]
     },
     "metadata": {},
     "output_type": "display_data"
    },
    {
     "data": {
      "text/markdown": [
       "* **conflict**(conflict) -| **human_migration**(flow refugee cross)"
      ],
      "text/plain": [
       "<IPython.core.display.Markdown object>"
      ]
     },
     "metadata": {},
     "output_type": "display_data"
    },
    {
     "data": {
      "text/markdown": [
       "* **pest**(parasite transmit bite tsetse fly) -> **disease**(sleep sickness be disease)"
      ],
      "text/plain": [
       "<IPython.core.display.Markdown object>"
      ]
     },
     "metadata": {},
     "output_type": "display_data"
    },
    {
     "data": {
      "text/markdown": [
       "* **conflict**(war) -> **human_migration**(refugee)"
      ],
      "text/plain": [
       "<IPython.core.display.Markdown object>"
      ]
     },
     "metadata": {},
     "output_type": "display_data"
    },
    {
     "data": {
      "text/markdown": [
       "* **duty**(phase) -> **death**(sequelae survivor)"
      ],
      "text/plain": [
       "<IPython.core.display.Markdown object>"
      ]
     },
     "metadata": {},
     "output_type": "display_data"
    },
    {
     "data": {
      "text/markdown": [
       "* **famine**(sleep sickness) -| **death**(mortality)"
      ],
      "text/plain": [
       "<IPython.core.display.Markdown object>"
      ]
     },
     "metadata": {},
     "output_type": "display_data"
    },
    {
     "data": {
      "text/markdown": [
       "* **population**(internally displaced people) -> **biotic_resources**(new areas)"
      ],
      "text/plain": [
       "<IPython.core.display.Markdown object>"
      ]
     },
     "metadata": {},
     "output_type": "display_data"
    },
    {
     "data": {
      "text/markdown": [
       "* **disease**(epidemic) -> **death**(death sub-Saharan)"
      ],
      "text/plain": [
       "<IPython.core.display.Markdown object>"
      ]
     },
     "metadata": {},
     "output_type": "display_data"
    },
    {
     "data": {
      "text/markdown": [
       "* **conflict**(violence) -> **conflict**(movement flee conflict)"
      ],
      "text/plain": [
       "<IPython.core.display.Markdown object>"
      ]
     },
     "metadata": {},
     "output_type": "display_data"
    },
    {
     "data": {
      "text/markdown": [
       "* **conflict**(war) -> **death**(death)"
      ],
      "text/plain": [
       "<IPython.core.display.Markdown object>"
      ]
     },
     "metadata": {},
     "output_type": "display_data"
    },
    {
     "data": {
      "text/markdown": [
       "* **disease**(epidemic) -> **death**(thousand death)"
      ],
      "text/plain": [
       "<IPython.core.display.Markdown object>"
      ]
     },
     "metadata": {},
     "output_type": "display_data"
    },
    {
     "data": {
      "text/markdown": [
       "* **government_entity**(partner) -| **climate_change_mitigation**(be indicator control)"
      ],
      "text/plain": [
       "<IPython.core.display.Markdown object>"
      ]
     },
     "metadata": {},
     "output_type": "display_data"
    },
    {
     "data": {
      "text/markdown": [
       "* **duty**(assistance community invest) -| **crisis**(situation)"
      ],
      "text/plain": [
       "<IPython.core.display.Markdown object>"
      ]
     },
     "metadata": {},
     "output_type": "display_data"
    }
   ],
   "source": [
    "paper_id = widgets.Dropdown(options={t: i for t, i in zip(titles, range(len(titles)))}, value=3)\n",
    "read_paper = widgets.Button(description='Read')\n",
    "read_paper.on_click(on_read)\n",
    "display(paper_id, read_paper)"
   ]
  },
  {
   "cell_type": "code",
   "execution_count": 13,
   "metadata": {},
   "outputs": [
    {
     "data": {
      "text/plain": [
       "{'FAO': [('FAO/events/Value/Number of severely food insecure people',\n",
       "   0.5262174672978424),\n",
       "  ('FAO/events/Value/Number of people undernourished (millions) (3-year average)',\n",
       "   0.5239178623115515),\n",
       "  ('FAO/events/Losses from manure treated (N content)/Chickens, layers',\n",
       "   0.5090876234349877),\n",
       "  ('FAO/events/Value/Percentage of children under 5 years of age affected by wasting (%)',\n",
       "   0.5016528853921354),\n",
       "  ('FAO/events/Losses from manure treated (N content)/Cattle, non-dairy',\n",
       "   0.4880104400991874),\n",
       "  ('FAO/events/Value/Prevalence of severe food insecurity in the total population',\n",
       "   0.4855536707724354),\n",
       "  ('FAO/events/Losses from manure treated (N content)/Cattle, dairy',\n",
       "   0.4820942883836307),\n",
       "  ('FAO/events/Direct emissions (CO2eq) (Manure applied)/Chickens, layers',\n",
       "   0.4726333773918399),\n",
       "  ('FAO/events/Gross Production Value (constant 2004-2006 1000 I$)/Beans, dry',\n",
       "   0.4699580481575941),\n",
       "  ('FAO/events/Losses from manure treated (N content)/Chickens, broilers',\n",
       "   0.468139195615988)],\n",
       " 'TEXT': 'internally displaced people',\n",
       " 'UN': [('UN/entities/human/population', 0.6953415718813074),\n",
       "  ('UN/events/human/intervention/intervention', 0.5963382072151117),\n",
       "  ('UN/entities/GPE', 0.5618778007352205),\n",
       "  ('UN/events/human/human_migration', 0.5569626649754145),\n",
       "  ('UN/events/human/conflict', 0.5162214198964871),\n",
       "  ('UN/entities/natural/crop_technology/management', 0.4972938050027837),\n",
       "  ('UN/entities/human/livelihood', 0.49274661335357717),\n",
       "  ('UN/properties/proportion', 0.46453365219867665),\n",
       "  ('UN/entities/human/financial/economic/revenue', 0.4620677554806052),\n",
       "  ('UN/entities/natural/natural_resources/biotic_resources/biotic_resources',\n",
       "   0.4579098164634521)],\n",
       " 'WDI': [('WDI/Internally_displaced_persons,_total_displaced_by_conflict_and_violence_(number_of_people)',\n",
       "   0.7902440203026068),\n",
       "  ('WDI/Internally_displaced_persons,_new_displacement_associated_with_disasters_(number_of_cases)',\n",
       "   0.7800258221240555),\n",
       "  ('WDI/Internally_displaced_persons,_new_displacement_associated_with_conflict_and_violence_(number_of_cases)',\n",
       "   0.7800258221240555),\n",
       "  ('WDI/Refugee_population_by_country_or_territory_of_origin',\n",
       "   0.7164970650401588),\n",
       "  ('WDI/Refugee_population_by_country_or_territory_of_asylum',\n",
       "   0.7117304744545888),\n",
       "  ('WDI/Labor_force,_total', 0.7047114198652812),\n",
       "  ('WDI/Population_living_in_slums_(%_of_urban_population)',\n",
       "   0.6875410622120207),\n",
       "  ('WDI/Battle-related_deaths_(number_of_people)', 0.6865328182151335),\n",
       "  ('WDI/Presence_of_peace_keepers_(number_of_troops,_police,_and_military_observers_in_mandate)',\n",
       "   0.6850722863873092),\n",
       "  ('WDI/International_migrant_stock,_total', 0.6776520552183701)]}"
      ]
     },
     "execution_count": 13,
     "metadata": {},
     "output_type": "execute_result"
    }
   ],
   "source": [
    "statements[0].subj.db_refs"
   ]
  },
  {
   "cell_type": "markdown",
   "metadata": {},
   "source": [
    "### Assemble result of reading"
   ]
  },
  {
   "cell_type": "code",
   "execution_count": 16,
   "metadata": {},
   "outputs": [
    {
     "name": "stderr",
     "output_type": "stream",
     "text": [
      "INFO: [2018-08-01 14:13:15] indra/assemble_corpus - Filtering 16 statements for grounded agents...\n",
      "INFO: [2018-08-01 14:13:15] indra/assemble_corpus - 16 statements after filter...\n"
     ]
    }
   ],
   "source": [
    "statements = ac.filter_grounded_only(statements, score_threshold=0.7)"
   ]
  },
  {
   "cell_type": "code",
   "execution_count": 18,
   "metadata": {
    "scrolled": false
   },
   "outputs": [
    {
     "data": {
      "application/javascript": [
       "require.config({\n",
       "        paths: {\n",
       "          cytoscape: 'https://cdnjs.cloudflare.com/ajax/libs/cytoscape/3.2.8/cytoscape',\n",
       "        }\n",
       "      })\n",
       "\n",
       "      require(['cytoscape'], function(cytoscape){\n",
       "        $(\"#cyDiv\").remove();\n",
       "        element.append(\"<div id='cyDiv'></div>\");\n",
       "        $(\"#cyDiv\").height(\"300px\");\n",
       "\n",
       "          var cy = cytoscape({\n",
       "            container : document.getElementById('cyDiv'),\n",
       "            elements  : {\n",
       "  \"nodes\": [\n",
       "    {\n",
       "      \"data\": {\n",
       "        \"id\": \"Population\",\n",
       "        \"simulable\": false,\n",
       "        \"tooltip\": \"Modifiers: []\"\n",
       "      }\n",
       "    },\n",
       "    {\n",
       "      \"data\": {\n",
       "        \"id\": \"Disease\",\n",
       "        \"simulable\": false,\n",
       "        \"tooltip\": \"Modifiers: []\"\n",
       "      }\n",
       "    },\n",
       "    {\n",
       "      \"data\": {\n",
       "        \"id\": \"Livelihood\",\n",
       "        \"simulable\": false,\n",
       "        \"tooltip\": \"Modifiers: []\"\n",
       "      }\n",
       "    },\n",
       "    {\n",
       "      \"data\": {\n",
       "        \"id\": \"Famine\",\n",
       "        \"simulable\": false,\n",
       "        \"tooltip\": \"Modifiers: []\"\n",
       "      }\n",
       "    },\n",
       "    {\n",
       "      \"data\": {\n",
       "        \"id\": \"Conflict\",\n",
       "        \"simulable\": false,\n",
       "        \"tooltip\": \"Modifiers: []\"\n",
       "      }\n",
       "    },\n",
       "    {\n",
       "      \"data\": {\n",
       "        \"id\": \"Duty\",\n",
       "        \"simulable\": false,\n",
       "        \"tooltip\": \"Modifiers: []\"\n",
       "      }\n",
       "    },\n",
       "    {\n",
       "      \"data\": {\n",
       "        \"id\": \"Death\",\n",
       "        \"simulable\": false,\n",
       "        \"tooltip\": \"Modifiers: []\"\n",
       "      }\n",
       "    },\n",
       "    {\n",
       "      \"data\": {\n",
       "        \"id\": \"Human migration\",\n",
       "        \"simulable\": false,\n",
       "        \"tooltip\": \"Modifiers: []\"\n",
       "      }\n",
       "    },\n",
       "    {\n",
       "      \"data\": {\n",
       "        \"id\": \"Pest\",\n",
       "        \"simulable\": false,\n",
       "        \"tooltip\": \"Modifiers: []\"\n",
       "      }\n",
       "    },\n",
       "    {\n",
       "      \"data\": {\n",
       "        \"id\": \"Biotic resources\",\n",
       "        \"simulable\": false,\n",
       "        \"tooltip\": \"Modifiers: []\"\n",
       "      }\n",
       "    },\n",
       "    {\n",
       "      \"data\": {\n",
       "        \"id\": \"Government entity\",\n",
       "        \"simulable\": false,\n",
       "        \"tooltip\": \"Modifiers: []\"\n",
       "      }\n",
       "    },\n",
       "    {\n",
       "      \"data\": {\n",
       "        \"id\": \"Climate change mitigation\",\n",
       "        \"simulable\": false,\n",
       "        \"tooltip\": \"Modifiers: []\"\n",
       "      }\n",
       "    },\n",
       "    {\n",
       "      \"data\": {\n",
       "        \"id\": \"Crisis\",\n",
       "        \"simulable\": false,\n",
       "        \"tooltip\": \"Modifiers: []\"\n",
       "      }\n",
       "    }\n",
       "  ],\n",
       "  \"edges\": [\n",
       "    {\n",
       "      \"data\": {\n",
       "        \"id\": \"Population_Disease\",\n",
       "        \"source\": \"Population\",\n",
       "        \"target\": \"Disease\",\n",
       "        \"linestyle\": \"dotted\",\n",
       "        \"linecolor\": \"maroon\",\n",
       "        \"targetArrowShape\": \"triangle\",\n",
       "        \"subj_adjectives\": [],\n",
       "        \"subj_polarity\": null,\n",
       "        \"obj_adjectives\": [],\n",
       "        \"obj_polarity\": 1,\n",
       "        \"tooltip\": {\n",
       "          \"document\": {\n",
       "            \"@id\": \"_:Document_1\"\n",
       "          },\n",
       "          \"documentCharInterval\": [\n",
       "            {\n",
       "              \"@type\": \"Interval\",\n",
       "              \"start\": 2971,\n",
       "              \"end\": 3038\n",
       "            }\n",
       "          ],\n",
       "          \"sentence\": {\n",
       "            \"@id\": \"_:Sentence_21\"\n",
       "          },\n",
       "          \"positions\": [\n",
       "            {\n",
       "              \"@type\": \"Interval\",\n",
       "              \"start\": 16,\n",
       "              \"end\": 25\n",
       "            }\n",
       "          ],\n",
       "          \"text\": \"The violence caused movements of large numbers of people fleeing conflict in Uganda , and internally displaced people contributed to the spread of the disease to new areas during and after the conflict when they returned home .\"\n",
       "        },\n",
       "        \"simulable\": false\n",
       "      }\n",
       "    },\n",
       "    {\n",
       "      \"data\": {\n",
       "        \"id\": \"Population_Biotic resources\",\n",
       "        \"source\": \"Population\",\n",
       "        \"target\": \"Biotic resources\",\n",
       "        \"linestyle\": \"dotted\",\n",
       "        \"linecolor\": \"maroon\",\n",
       "        \"targetArrowShape\": \"triangle\",\n",
       "        \"subj_adjectives\": [],\n",
       "        \"subj_polarity\": null,\n",
       "        \"obj_adjectives\": [],\n",
       "        \"obj_polarity\": 1,\n",
       "        \"tooltip\": {\n",
       "          \"document\": {\n",
       "            \"@id\": \"_:Document_1\"\n",
       "          },\n",
       "          \"documentCharInterval\": [\n",
       "            {\n",
       "              \"@type\": \"Interval\",\n",
       "              \"start\": 2971,\n",
       "              \"end\": 3051\n",
       "            }\n",
       "          ],\n",
       "          \"sentence\": {\n",
       "            \"@id\": \"_:Sentence_21\"\n",
       "          },\n",
       "          \"positions\": [\n",
       "            {\n",
       "              \"@type\": \"Interval\",\n",
       "              \"start\": 16,\n",
       "              \"end\": 28\n",
       "            }\n",
       "          ],\n",
       "          \"text\": \"The violence caused movements of large numbers of people fleeing conflict in Uganda , and internally displaced people contributed to the spread of the disease to new areas during and after the conflict when they returned home .\"\n",
       "        },\n",
       "        \"simulable\": false\n",
       "      }\n",
       "    },\n",
       "    {\n",
       "      \"data\": {\n",
       "        \"id\": \"Disease_Death\",\n",
       "        \"source\": \"Disease\",\n",
       "        \"target\": \"Death\",\n",
       "        \"linestyle\": \"dotted\",\n",
       "        \"linecolor\": \"maroon\",\n",
       "        \"targetArrowShape\": \"triangle\",\n",
       "        \"subj_adjectives\": [],\n",
       "        \"subj_polarity\": null,\n",
       "        \"obj_adjectives\": [],\n",
       "        \"obj_polarity\": null,\n",
       "        \"tooltip\": {\n",
       "          \"document\": {\n",
       "            \"@id\": \"_:Document_1\"\n",
       "          },\n",
       "          \"documentCharInterval\": [\n",
       "            {\n",
       "              \"@type\": \"Interval\",\n",
       "              \"start\": 830,\n",
       "              \"end\": 889\n",
       "            }\n",
       "          ],\n",
       "          \"sentence\": {\n",
       "            \"@id\": \"_:Sentence_8\"\n",
       "          },\n",
       "          \"positions\": [\n",
       "            {\n",
       "              \"@type\": \"Interval\",\n",
       "              \"start\": 6,\n",
       "              \"end\": 15\n",
       "            }\n",
       "          ],\n",
       "          \"text\": \"Once a devastating disease with epidemics causing up to 800 000 deaths in sub-Saharan Africa in the early 20th century , fewer than 3000 sleeping sickness cases were reported in 2015 in the whole continent .\"\n",
       "        },\n",
       "        \"simulable\": false\n",
       "      }\n",
       "    },\n",
       "    {\n",
       "      \"data\": {\n",
       "        \"id\": \"Disease_Death\",\n",
       "        \"source\": \"Disease\",\n",
       "        \"target\": \"Death\",\n",
       "        \"linestyle\": \"dotted\",\n",
       "        \"linecolor\": \"maroon\",\n",
       "        \"targetArrowShape\": \"triangle\",\n",
       "        \"subj_adjectives\": [],\n",
       "        \"subj_polarity\": null,\n",
       "        \"obj_adjectives\": [],\n",
       "        \"obj_polarity\": null,\n",
       "        \"tooltip\": {\n",
       "          \"document\": {\n",
       "            \"@id\": \"_:Document_1\"\n",
       "          },\n",
       "          \"documentCharInterval\": [\n",
       "            {\n",
       "              \"@type\": \"Interval\",\n",
       "              \"start\": 2623,\n",
       "              \"end\": 2674\n",
       "            }\n",
       "          ],\n",
       "          \"sentence\": {\n",
       "            \"@id\": \"_:Sentence_19\"\n",
       "          },\n",
       "          \"positions\": [\n",
       "            {\n",
       "              \"@type\": \"Interval\",\n",
       "              \"start\": 10,\n",
       "              \"end\": 17\n",
       "            }\n",
       "          ],\n",
       "          \"text\": \"Sleeping sickness came back with a vengeance , and long and deadly epidemics caused thousands of deaths from the 1970s to the late 1990s .\"\n",
       "        },\n",
       "        \"simulable\": false\n",
       "      }\n",
       "    },\n",
       "    {\n",
       "      \"data\": {\n",
       "        \"id\": \"Livelihood_Famine\",\n",
       "        \"source\": \"Livelihood\",\n",
       "        \"target\": \"Famine\",\n",
       "        \"linestyle\": \"dotted\",\n",
       "        \"linecolor\": \"maroon\",\n",
       "        \"targetArrowShape\": \"triangle\",\n",
       "        \"subj_adjectives\": [],\n",
       "        \"subj_polarity\": null,\n",
       "        \"obj_adjectives\": [],\n",
       "        \"obj_polarity\": -1,\n",
       "        \"tooltip\": {\n",
       "          \"document\": {\n",
       "            \"@id\": \"_:Document_1\"\n",
       "          },\n",
       "          \"documentCharInterval\": [\n",
       "            {\n",
       "              \"@type\": \"Interval\",\n",
       "              \"start\": 5658,\n",
       "              \"end\": 5772\n",
       "            }\n",
       "          ],\n",
       "          \"sentence\": {\n",
       "            \"@id\": \"_:Sentence_37\"\n",
       "          },\n",
       "          \"positions\": [\n",
       "            {\n",
       "              \"@type\": \"Interval\",\n",
       "              \"start\": 29,\n",
       "              \"end\": 46\n",
       "            }\n",
       "          ],\n",
       "          \"text\": \"Rapid diagnostic tests for sleeping sickness are now available , safer and more effective treatments can be used , and new vector control methods can be deployed -- tools that have already contributed to reducing the number of sleeping sickness cases in Uganda and other countries .\"\n",
       "        },\n",
       "        \"simulable\": false\n",
       "      }\n",
       "    },\n",
       "    {\n",
       "      \"data\": {\n",
       "        \"id\": \"Famine_Death\",\n",
       "        \"source\": \"Famine\",\n",
       "        \"target\": \"Death\",\n",
       "        \"linestyle\": \"dotted\",\n",
       "        \"linecolor\": \"maroon\",\n",
       "        \"targetArrowShape\": \"triangle\",\n",
       "        \"subj_adjectives\": [],\n",
       "        \"subj_polarity\": null,\n",
       "        \"obj_adjectives\": [],\n",
       "        \"obj_polarity\": -1,\n",
       "        \"tooltip\": {\n",
       "          \"document\": {\n",
       "            \"@id\": \"_:Document_1\"\n",
       "          },\n",
       "          \"documentCharInterval\": [\n",
       "            {\n",
       "              \"@type\": \"Interval\",\n",
       "              \"start\": 1565,\n",
       "              \"end\": 1660\n",
       "            }\n",
       "          ],\n",
       "          \"sentence\": {\n",
       "            \"@id\": \"_:Sentence_13\"\n",
       "          },\n",
       "          \"positions\": [\n",
       "            {\n",
       "              \"@type\": \"Interval\",\n",
       "              \"start\": 3,\n",
       "              \"end\": 15\n",
       "            }\n",
       "          ],\n",
       "          \"text\": \"Thus , early diagnosis and treatment of sleeping sickness is crucially important for reducing morbidity and mortality , and for stopping transmission .\"\n",
       "        },\n",
       "        \"simulable\": false\n",
       "      }\n",
       "    },\n",
       "    {\n",
       "      \"data\": {\n",
       "        \"id\": \"Famine_Death\",\n",
       "        \"source\": \"Famine\",\n",
       "        \"target\": \"Death\",\n",
       "        \"linestyle\": \"dotted\",\n",
       "        \"linecolor\": \"maroon\",\n",
       "        \"targetArrowShape\": \"triangle\",\n",
       "        \"subj_adjectives\": [],\n",
       "        \"subj_polarity\": null,\n",
       "        \"obj_adjectives\": [],\n",
       "        \"obj_polarity\": -1,\n",
       "        \"tooltip\": {\n",
       "          \"document\": {\n",
       "            \"@id\": \"_:Document_1\"\n",
       "          },\n",
       "          \"documentCharInterval\": [\n",
       "            {\n",
       "              \"@type\": \"Interval\",\n",
       "              \"start\": 1565,\n",
       "              \"end\": 1674\n",
       "            }\n",
       "          ],\n",
       "          \"sentence\": {\n",
       "            \"@id\": \"_:Sentence_13\"\n",
       "          },\n",
       "          \"positions\": [\n",
       "            {\n",
       "              \"@type\": \"Interval\",\n",
       "              \"start\": 3,\n",
       "              \"end\": 17\n",
       "            }\n",
       "          ],\n",
       "          \"text\": \"Thus , early diagnosis and treatment of sleeping sickness is crucially important for reducing morbidity and mortality , and for stopping transmission .\"\n",
       "        },\n",
       "        \"simulable\": false\n",
       "      }\n",
       "    },\n",
       "    {\n",
       "      \"data\": {\n",
       "        \"id\": \"Conflict_Duty\",\n",
       "        \"source\": \"Conflict\",\n",
       "        \"target\": \"Duty\",\n",
       "        \"linestyle\": \"dotted\",\n",
       "        \"linecolor\": \"maroon\",\n",
       "        \"targetArrowShape\": \"triangle\",\n",
       "        \"subj_adjectives\": [],\n",
       "        \"subj_polarity\": null,\n",
       "        \"obj_adjectives\": [],\n",
       "        \"obj_polarity\": null,\n",
       "        \"tooltip\": {\n",
       "          \"document\": {\n",
       "            \"@id\": \"_:Document_1\"\n",
       "          },\n",
       "          \"documentCharInterval\": [\n",
       "            {\n",
       "              \"@type\": \"Interval\",\n",
       "              \"start\": 2341,\n",
       "              \"end\": 2570\n",
       "            }\n",
       "          ],\n",
       "          \"sentence\": {\n",
       "            \"@id\": \"_:Sentence_18\"\n",
       "          },\n",
       "          \"positions\": [\n",
       "            {\n",
       "              \"@type\": \"Interval\",\n",
       "              \"start\": 4,\n",
       "              \"end\": 40\n",
       "            }\n",
       "          ],\n",
       "          \"text\": \"However , the political instability and conflicts of the period following decolonisation in countries such as DR Congo , Angola , and Sudan led to the dismantling of health services , including disease control programmes for HAT and other diseases .\"\n",
       "        },\n",
       "        \"simulable\": false\n",
       "      }\n",
       "    },\n",
       "    {\n",
       "      \"data\": {\n",
       "        \"id\": \"Conflict_Human migration\",\n",
       "        \"source\": \"Conflict\",\n",
       "        \"target\": \"Human migration\",\n",
       "        \"linestyle\": \"solid\",\n",
       "        \"linecolor\": \"maroon\",\n",
       "        \"targetArrowShape\": \"tee\",\n",
       "        \"subj_adjectives\": [],\n",
       "        \"subj_polarity\": -1,\n",
       "        \"obj_adjectives\": [],\n",
       "        \"obj_polarity\": 1,\n",
       "        \"tooltip\": {\n",
       "          \"document\": {\n",
       "            \"@id\": \"_:Document_1\"\n",
       "          },\n",
       "          \"documentCharInterval\": [\n",
       "            {\n",
       "              \"@type\": \"Interval\",\n",
       "              \"start\": 4018,\n",
       "              \"end\": 4113\n",
       "            }\n",
       "          ],\n",
       "          \"sentence\": {\n",
       "            \"@id\": \"_:Sentence_28\"\n",
       "          },\n",
       "          \"positions\": [\n",
       "            {\n",
       "              \"@type\": \"Interval\",\n",
       "              \"start\": 5,\n",
       "              \"end\": 22\n",
       "            }\n",
       "          ],\n",
       "          \"text\": \"The worsening of the conflict in July and August of 2016 , has increased the flow of refugees crossing the South Sudan -- Uganda border , and as of September , 2016 , more than 370 000 South Sudanese were registered in refugee camps in Uganda .\"\n",
       "        },\n",
       "        \"simulable\": true\n",
       "      }\n",
       "    },\n",
       "    {\n",
       "      \"data\": {\n",
       "        \"id\": \"Conflict_Human migration\",\n",
       "        \"source\": \"Conflict\",\n",
       "        \"target\": \"Human migration\",\n",
       "        \"linestyle\": \"dotted\",\n",
       "        \"linecolor\": \"maroon\",\n",
       "        \"targetArrowShape\": \"triangle\",\n",
       "        \"subj_adjectives\": [],\n",
       "        \"subj_polarity\": null,\n",
       "        \"obj_adjectives\": [],\n",
       "        \"obj_polarity\": null,\n",
       "        \"tooltip\": {\n",
       "          \"document\": {\n",
       "            \"@id\": \"_:Document_1\"\n",
       "          },\n",
       "          \"documentCharInterval\": [\n",
       "            {\n",
       "              \"@type\": \"Interval\",\n",
       "              \"start\": 3809,\n",
       "              \"end\": 3900\n",
       "            }\n",
       "          ],\n",
       "          \"sentence\": {\n",
       "            \"@id\": \"_:Sentence_26\"\n",
       "          },\n",
       "          \"positions\": [\n",
       "            {\n",
       "              \"@type\": \"Interval\",\n",
       "              \"start\": 11,\n",
       "              \"end\": 28\n",
       "            }\n",
       "          ],\n",
       "          \"text\": \"According to the UN High Commissioner for Refugees , the civil war in South Sudan has caused more than 50 000 deaths and resulted in 900 000 refugees since 2013 .\"\n",
       "        },\n",
       "        \"simulable\": false\n",
       "      }\n",
       "    },\n",
       "    {\n",
       "      \"data\": {\n",
       "        \"id\": \"Conflict_Conflict\",\n",
       "        \"source\": \"Conflict\",\n",
       "        \"target\": \"Conflict\",\n",
       "        \"linestyle\": \"dotted\",\n",
       "        \"linecolor\": \"maroon\",\n",
       "        \"targetArrowShape\": \"triangle\",\n",
       "        \"subj_adjectives\": [],\n",
       "        \"subj_polarity\": null,\n",
       "        \"obj_adjectives\": [],\n",
       "        \"obj_polarity\": null,\n",
       "        \"tooltip\": {\n",
       "          \"document\": {\n",
       "            \"@id\": \"_:Document_1\"\n",
       "          },\n",
       "          \"documentCharInterval\": [\n",
       "            {\n",
       "              \"@type\": \"Interval\",\n",
       "              \"start\": 2886,\n",
       "              \"end\": 2964\n",
       "            }\n",
       "          ],\n",
       "          \"sentence\": {\n",
       "            \"@id\": \"_:Sentence_21\"\n",
       "          },\n",
       "          \"positions\": [\n",
       "            {\n",
       "              \"@type\": \"Interval\",\n",
       "              \"start\": 2,\n",
       "              \"end\": 13\n",
       "            }\n",
       "          ],\n",
       "          \"text\": \"The violence caused movements of large numbers of people fleeing conflict in Uganda , and internally displaced people contributed to the spread of the disease to new areas during and after the conflict when they returned home .\"\n",
       "        },\n",
       "        \"simulable\": false\n",
       "      }\n",
       "    },\n",
       "    {\n",
       "      \"data\": {\n",
       "        \"id\": \"Conflict_Death\",\n",
       "        \"source\": \"Conflict\",\n",
       "        \"target\": \"Death\",\n",
       "        \"linestyle\": \"dotted\",\n",
       "        \"linecolor\": \"maroon\",\n",
       "        \"targetArrowShape\": \"triangle\",\n",
       "        \"subj_adjectives\": [],\n",
       "        \"subj_polarity\": null,\n",
       "        \"obj_adjectives\": [],\n",
       "        \"obj_polarity\": null,\n",
       "        \"tooltip\": {\n",
       "          \"document\": {\n",
       "            \"@id\": \"_:Document_1\"\n",
       "          },\n",
       "          \"documentCharInterval\": [\n",
       "            {\n",
       "              \"@type\": \"Interval\",\n",
       "              \"start\": 3809,\n",
       "              \"end\": 3867\n",
       "            }\n",
       "          ],\n",
       "          \"sentence\": {\n",
       "            \"@id\": \"_:Sentence_26\"\n",
       "          },\n",
       "          \"positions\": [\n",
       "            {\n",
       "              \"@type\": \"Interval\",\n",
       "              \"start\": 11,\n",
       "              \"end\": 22\n",
       "            }\n",
       "          ],\n",
       "          \"text\": \"According to the UN High Commissioner for Refugees , the civil war in South Sudan has caused more than 50 000 deaths and resulted in 900 000 refugees since 2013 .\"\n",
       "        },\n",
       "        \"simulable\": false\n",
       "      }\n",
       "    },\n",
       "    {\n",
       "      \"data\": {\n",
       "        \"id\": \"Duty_Death\",\n",
       "        \"source\": \"Duty\",\n",
       "        \"target\": \"Death\",\n",
       "        \"linestyle\": \"dotted\",\n",
       "        \"linecolor\": \"maroon\",\n",
       "        \"targetArrowShape\": \"triangle\",\n",
       "        \"subj_adjectives\": [],\n",
       "        \"subj_polarity\": null,\n",
       "        \"obj_adjectives\": [],\n",
       "        \"obj_polarity\": null,\n",
       "        \"tooltip\": {\n",
       "          \"document\": {\n",
       "            \"@id\": \"_:Document_1\"\n",
       "          },\n",
       "          \"documentCharInterval\": [\n",
       "            {\n",
       "              \"@type\": \"Interval\",\n",
       "              \"start\": 1460,\n",
       "              \"end\": 1556\n",
       "            }\n",
       "          ],\n",
       "          \"sentence\": {\n",
       "            \"@id\": \"_:Sentence_12\"\n",
       "          },\n",
       "          \"positions\": [\n",
       "            {\n",
       "              \"@type\": \"Interval\",\n",
       "              \"start\": 2,\n",
       "              \"end\": 16\n",
       "            }\n",
       "          ],\n",
       "          \"text\": \"This second phase is harder to treat and often results in long-term neurological sequelae in survivors .\"\n",
       "        },\n",
       "        \"simulable\": false\n",
       "      }\n",
       "    },\n",
       "    {\n",
       "      \"data\": {\n",
       "        \"id\": \"Duty_Crisis\",\n",
       "        \"source\": \"Duty\",\n",
       "        \"target\": \"Crisis\",\n",
       "        \"linestyle\": \"dotted\",\n",
       "        \"linecolor\": \"maroon\",\n",
       "        \"targetArrowShape\": \"triangle\",\n",
       "        \"subj_adjectives\": [],\n",
       "        \"subj_polarity\": null,\n",
       "        \"obj_adjectives\": [],\n",
       "        \"obj_polarity\": -1,\n",
       "        \"tooltip\": {\n",
       "          \"document\": {\n",
       "            \"@id\": \"_:Document_1\"\n",
       "          },\n",
       "          \"documentCharInterval\": [\n",
       "            {\n",
       "              \"@type\": \"Interval\",\n",
       "              \"start\": 3285,\n",
       "              \"end\": 3385\n",
       "            }\n",
       "          ],\n",
       "          \"sentence\": {\n",
       "            \"@id\": \"_:Sentence_23\"\n",
       "          },\n",
       "          \"positions\": [\n",
       "            {\n",
       "              \"@type\": \"Interval\",\n",
       "              \"start\": 1,\n",
       "              \"end\": 16\n",
       "            }\n",
       "          ],\n",
       "          \"text\": \"Uganda , with the assistance of the international community , invested heavily to reverse the situation and , during the past 8 years , the number of sleeping sickness cases has been declining steadily .\"\n",
       "        },\n",
       "        \"simulable\": false\n",
       "      }\n",
       "    },\n",
       "    {\n",
       "      \"data\": {\n",
       "        \"id\": \"Pest_Disease\",\n",
       "        \"source\": \"Pest\",\n",
       "        \"target\": \"Disease\",\n",
       "        \"linestyle\": \"dotted\",\n",
       "        \"linecolor\": \"maroon\",\n",
       "        \"targetArrowShape\": \"triangle\",\n",
       "        \"subj_adjectives\": [],\n",
       "        \"subj_polarity\": null,\n",
       "        \"obj_adjectives\": [],\n",
       "        \"obj_polarity\": null,\n",
       "        \"tooltip\": {\n",
       "          \"document\": {\n",
       "            \"@id\": \"_:Document_1\"\n",
       "          },\n",
       "          \"documentCharInterval\": [\n",
       "            {\n",
       "              \"@type\": \"Interval\",\n",
       "              \"start\": 1004,\n",
       "              \"end\": 1117\n",
       "            }\n",
       "          ],\n",
       "          \"sentence\": {\n",
       "            \"@id\": \"_:Sentence_9\"\n",
       "          },\n",
       "          \"positions\": [\n",
       "            {\n",
       "              \"@type\": \"Interval\",\n",
       "              \"start\": 1,\n",
       "              \"end\": 19\n",
       "            }\n",
       "          ],\n",
       "          \"text\": \"Sleeping sickness is a complex disease caused by a parasite transmitted through the bite of an infected tsetse fly .\"\n",
       "        },\n",
       "        \"simulable\": false\n",
       "      }\n",
       "    },\n",
       "    {\n",
       "      \"data\": {\n",
       "        \"id\": \"Government entity_Climate change mitigation\",\n",
       "        \"source\": \"Government entity\",\n",
       "        \"target\": \"Climate change mitigation\",\n",
       "        \"linestyle\": \"dotted\",\n",
       "        \"linecolor\": \"maroon\",\n",
       "        \"targetArrowShape\": \"triangle\",\n",
       "        \"subj_adjectives\": [],\n",
       "        \"subj_polarity\": null,\n",
       "        \"obj_adjectives\": [],\n",
       "        \"obj_polarity\": -1,\n",
       "        \"tooltip\": {\n",
       "          \"document\": {\n",
       "            \"@id\": \"_:Document_1\"\n",
       "          },\n",
       "          \"documentCharInterval\": [\n",
       "            {\n",
       "              \"@type\": \"Interval\",\n",
       "              \"start\": 265,\n",
       "              \"end\": 442\n",
       "            }\n",
       "          ],\n",
       "          \"sentence\": {\n",
       "            \"@id\": \"_:Sentence_4\"\n",
       "          },\n",
       "          \"positions\": [\n",
       "            {\n",
       "              \"@type\": \"Interval\",\n",
       "              \"start\": 2,\n",
       "              \"end\": 32\n",
       "            }\n",
       "          ],\n",
       "          \"text\": \"A similarly low number of cases in 2016 is a strong indicator that control measures , intensified by Uganda 's Ministry of Health and its international partners over the past 8 years , are working .\"\n",
       "        },\n",
       "        \"simulable\": false\n",
       "      }\n",
       "    }\n",
       "  ]\n",
       "},\n",
       "            style     : [\n",
       "  {\n",
       "    \"selector\": \"node\",\n",
       "    \"style\": {\n",
       "      \"label\": \"data(id)\",\n",
       "      \"background-color\": \"white\",\n",
       "      \"border-color\": \"maroon\",\n",
       "      \"border-width\": \"1px\",\n",
       "      \"font-family\": \"Arno Pro, Arial\",\n",
       "      \"text-halign\": \"center\",\n",
       "      \"text-valign\": \"center\",\n",
       "      \"padding\": 10,\n",
       "      \"width\": \"label\",\n",
       "      \"height\": \"label\",\n",
       "      \"shape\": \"roundrectangle\",\n",
       "      \"text-max-width\": 100,\n",
       "      \"text-wrap\": \"wrap\"\n",
       "    }\n",
       "  },\n",
       "  {\n",
       "    \"selector\": \"edge\",\n",
       "    \"style\": {\n",
       "      \"curve-style\": \"bezier\",\n",
       "      \"line-color\": \"data(linecolor)\",\n",
       "      \"target-arrow-shape\": \"data(targetArrowShape)\",\n",
       "      \"target-arrow-color\": \"data(linecolor)\",\n",
       "      \"line-style\": \"data(linestyle)\",\n",
       "      \"width\": \"1\"\n",
       "    }\n",
       "  }\n",
       "],\n",
       "            layout    : {\n",
       "  \"name\": \"cose\",\n",
       "  \"nodeDimensionsIncludeLabels\": true,\n",
       "  \"componentSpacing\": 1,\n",
       "  \"nodeOverlap\": 1000,\n",
       "  \"nodeRepulsion\": 500\n",
       "},\n",
       "            maxZoom   : 10,\n",
       "            minZoom   : 0.1,\n",
       "          });\n",
       "      });\n"
      ],
      "text/plain": [
       "<IPython.core.display.Javascript object>"
      ]
     },
     "execution_count": 18,
     "metadata": {},
     "output_type": "execute_result"
    }
   ],
   "source": [
    "ca = CAGAssembler(standardize_names(statements))\n",
    "ca.make_model()\n",
    "Javascript(ca.generate_jupyter_js())"
   ]
  },
  {
   "cell_type": "markdown",
   "metadata": {},
   "source": [
    "### Extend the model with natural language"
   ]
  },
  {
   "cell_type": "code",
   "execution_count": 6,
   "metadata": {},
   "outputs": [
    {
     "data": {
      "application/vnd.jupyter.widget-view+json": {
       "model_id": "1109550215c14224b8a58065a8b2d122",
       "version_major": 2,
       "version_minor": 0
      },
      "text/html": [
       "<p>Failed to display Jupyter Widget of type <code>Textarea</code>.</p>\n",
       "<p>\n",
       "  If you're reading this message in the Jupyter Notebook or JupyterLab Notebook, it may mean\n",
       "  that the widgets JavaScript is still loading. If this message persists, it\n",
       "  likely means that the widgets JavaScript library is either not installed or\n",
       "  not enabled. See the <a href=\"https://ipywidgets.readthedocs.io/en/stable/user_install.html\">Jupyter\n",
       "  Widgets Documentation</a> for setup instructions.\n",
       "</p>\n",
       "<p>\n",
       "  If you're reading this message in another frontend (for example, a static\n",
       "  rendering on GitHub or <a href=\"https://nbviewer.jupyter.org/\">NBViewer</a>),\n",
       "  it may mean that your frontend doesn't currently support widgets.\n",
       "</p>\n"
      ],
      "text/plain": [
       "Textarea(value='conflict causes displacement')"
      ]
     },
     "metadata": {},
     "output_type": "display_data"
    },
    {
     "data": {
      "application/vnd.jupyter.widget-view+json": {
       "model_id": "f96f020d91ee4fa688a11e13aa0e8c0a",
       "version_major": 2,
       "version_minor": 0
      },
      "text/html": [
       "<p>Failed to display Jupyter Widget of type <code>Button</code>.</p>\n",
       "<p>\n",
       "  If you're reading this message in the Jupyter Notebook or JupyterLab Notebook, it may mean\n",
       "  that the widgets JavaScript is still loading. If this message persists, it\n",
       "  likely means that the widgets JavaScript library is either not installed or\n",
       "  not enabled. See the <a href=\"https://ipywidgets.readthedocs.io/en/stable/user_install.html\">Jupyter\n",
       "  Widgets Documentation</a> for setup instructions.\n",
       "</p>\n",
       "<p>\n",
       "  If you're reading this message in another frontend (for example, a static\n",
       "  rendering on GitHub or <a href=\"https://nbviewer.jupyter.org/\">NBViewer</a>),\n",
       "  it may mean that your frontend doesn't currently support widgets.\n",
       "</p>\n"
      ],
      "text/plain": [
       "Button(description='Read', style=ButtonStyle())"
      ]
     },
     "metadata": {},
     "output_type": "display_data"
    },
    {
     "name": "stdout",
     "output_type": "stream",
     "text": [
      "We extracted 0 statements:\n"
     ]
    },
    {
     "data": {
      "text/markdown": [
       "* **conflict**(conflict) -> **human_migration**(displacement)"
      ],
      "text/plain": [
       "<IPython.core.display.Markdown object>"
      ]
     },
     "metadata": {},
     "output_type": "display_data"
    },
    {
     "name": "stdout",
     "output_type": "stream",
     "text": [
      "We extracted 1 statements:\n"
     ]
    },
    {
     "data": {
      "text/markdown": [
       "* **conflict**(conflict) -> **human_migration**(displacement)"
      ],
      "text/plain": [
       "<IPython.core.display.Markdown object>"
      ]
     },
     "metadata": {},
     "output_type": "display_data"
    },
    {
     "name": "stdout",
     "output_type": "stream",
     "text": [
      "We extracted 2 statements:\n"
     ]
    },
    {
     "data": {
      "text/markdown": [
       "* **conflict**(conflict) -| **human_migration**(displacement)"
      ],
      "text/plain": [
       "<IPython.core.display.Markdown object>"
      ]
     },
     "metadata": {},
     "output_type": "display_data"
    }
   ],
   "source": [
    "nl_input = widgets.Textarea(value='conflict causes displacement')\n",
    "read_nl = widgets.Button(description='Read')\n",
    "read_nl.on_click(on_nl)\n",
    "display(nl_input, read_nl)"
   ]
  },
  {
   "cell_type": "code",
   "execution_count": null,
   "metadata": {},
   "outputs": [],
   "source": [
    "statements"
   ]
  },
  {
   "cell_type": "code",
   "execution_count": 7,
   "metadata": {
    "scrolled": false
   },
   "outputs": [
    {
     "data": {
      "application/javascript": [
       "require.config({\n",
       "        paths: {\n",
       "          cytoscape: 'https://cdnjs.cloudflare.com/ajax/libs/cytoscape/3.2.8/cytoscape',\n",
       "        }\n",
       "      })\n",
       "\n",
       "      require(['cytoscape'], function(cytoscape){\n",
       "        $(\"#cyDiv\").remove();\n",
       "        element.append(\"<div id='cyDiv'></div>\");\n",
       "        $(\"#cyDiv\").height(\"300px\");\n",
       "\n",
       "          var cy = cytoscape({\n",
       "            container : document.getElementById('cyDiv'),\n",
       "            elements  : {\n",
       "  \"nodes\": [\n",
       "    {\n",
       "      \"data\": {\n",
       "        \"id\": \"Conflict\",\n",
       "        \"simulable\": false,\n",
       "        \"tooltip\": \"Modifiers: []\"\n",
       "      }\n",
       "    },\n",
       "    {\n",
       "      \"data\": {\n",
       "        \"id\": \"Human migration\",\n",
       "        \"simulable\": false,\n",
       "        \"tooltip\": \"Modifiers: []\"\n",
       "      }\n",
       "    }\n",
       "  ],\n",
       "  \"edges\": [\n",
       "    {\n",
       "      \"data\": {\n",
       "        \"id\": \"Conflict_Human migration\",\n",
       "        \"source\": \"Conflict\",\n",
       "        \"target\": \"Human migration\",\n",
       "        \"linestyle\": \"dotted\",\n",
       "        \"linecolor\": \"maroon\",\n",
       "        \"targetArrowShape\": \"triangle\",\n",
       "        \"subj_adjectives\": [],\n",
       "        \"subj_polarity\": null,\n",
       "        \"obj_adjectives\": [],\n",
       "        \"obj_polarity\": null,\n",
       "        \"tooltip\": {\n",
       "          \"document\": {\n",
       "            \"@id\": \"_:Document_1\"\n",
       "          },\n",
       "          \"documentCharInterval\": [\n",
       "            {\n",
       "              \"@type\": \"Interval\",\n",
       "              \"start\": 1,\n",
       "              \"end\": 28\n",
       "            }\n",
       "          ],\n",
       "          \"sentence\": {\n",
       "            \"@id\": \"_:Sentence_1\"\n",
       "          },\n",
       "          \"positions\": [\n",
       "            {\n",
       "              \"@type\": \"Interval\",\n",
       "              \"start\": 1,\n",
       "              \"end\": 3\n",
       "            }\n",
       "          ],\n",
       "          \"text\": \"conflict causes displacement\"\n",
       "        },\n",
       "        \"simulable\": false\n",
       "      }\n",
       "    }\n",
       "  ]\n",
       "},\n",
       "            style     : [\n",
       "  {\n",
       "    \"selector\": \"node\",\n",
       "    \"style\": {\n",
       "      \"label\": \"data(id)\",\n",
       "      \"background-color\": \"white\",\n",
       "      \"border-color\": \"maroon\",\n",
       "      \"border-width\": \"1px\",\n",
       "      \"font-family\": \"Arno Pro, Arial\",\n",
       "      \"text-halign\": \"center\",\n",
       "      \"text-valign\": \"center\",\n",
       "      \"padding\": 10,\n",
       "      \"width\": \"label\",\n",
       "      \"height\": \"label\",\n",
       "      \"shape\": \"roundrectangle\",\n",
       "      \"text-max-width\": 100,\n",
       "      \"text-wrap\": \"wrap\"\n",
       "    }\n",
       "  },\n",
       "  {\n",
       "    \"selector\": \"edge\",\n",
       "    \"style\": {\n",
       "      \"curve-style\": \"bezier\",\n",
       "      \"line-color\": \"data(linecolor)\",\n",
       "      \"target-arrow-shape\": \"data(targetArrowShape)\",\n",
       "      \"target-arrow-color\": \"data(linecolor)\",\n",
       "      \"line-style\": \"data(linestyle)\",\n",
       "      \"width\": \"1\"\n",
       "    }\n",
       "  }\n",
       "],\n",
       "            layout    : {\n",
       "  \"name\": \"cose\",\n",
       "  \"nodeDimensionsIncludeLabels\": true,\n",
       "  \"componentSpacing\": 1,\n",
       "  \"nodeOverlap\": 1000,\n",
       "  \"nodeRepulsion\": 500\n",
       "},\n",
       "            maxZoom   : 10,\n",
       "            minZoom   : 0.1,\n",
       "          });\n",
       "      });\n"
      ],
      "text/plain": [
       "<IPython.core.display.Javascript object>"
      ]
     },
     "execution_count": 7,
     "metadata": {},
     "output_type": "execute_result"
    }
   ],
   "source": [
    "ca = CAGAssembler(standardize_names(statements))\n",
    "ca.make_model()\n",
    "Javascript(ca.generate_jupyter_js())"
   ]
  },
  {
   "cell_type": "markdown",
   "metadata": {},
   "source": [
    "### Ask questions about causal paths"
   ]
  },
  {
   "cell_type": "code",
   "execution_count": 5,
   "metadata": {},
   "outputs": [
    {
     "data": {
      "application/vnd.jupyter.widget-view+json": {
       "model_id": "d884944005844469b49fb400ef6ce5be",
       "version_major": 2,
       "version_minor": 0
      },
      "text/html": [
       "<p>Failed to display Jupyter Widget of type <code>Text</code>.</p>\n",
       "<p>\n",
       "  If you're reading this message in the Jupyter Notebook or JupyterLab Notebook, it may mean\n",
       "  that the widgets JavaScript is still loading. If this message persists, it\n",
       "  likely means that the widgets JavaScript library is either not installed or\n",
       "  not enabled. See the <a href=\"https://ipywidgets.readthedocs.io/en/stable/user_install.html\">Jupyter\n",
       "  Widgets Documentation</a> for setup instructions.\n",
       "</p>\n",
       "<p>\n",
       "  If you're reading this message in another frontend (for example, a static\n",
       "  rendering on GitHub or <a href=\"https://nbviewer.jupyter.org/\">NBViewer</a>),\n",
       "  it may mean that your frontend doesn't currently support widgets.\n",
       "</p>\n"
      ],
      "text/plain": [
       "Text(value='how does pest result in death?')"
      ]
     },
     "metadata": {},
     "output_type": "display_data"
    },
    {
     "data": {
      "application/vnd.jupyter.widget-view+json": {
       "model_id": "ee8f23fe289d4422a3dc3c791398fc03",
       "version_major": 2,
       "version_minor": 0
      },
      "text/html": [
       "<p>Failed to display Jupyter Widget of type <code>Button</code>.</p>\n",
       "<p>\n",
       "  If you're reading this message in the Jupyter Notebook or JupyterLab Notebook, it may mean\n",
       "  that the widgets JavaScript is still loading. If this message persists, it\n",
       "  likely means that the widgets JavaScript library is either not installed or\n",
       "  not enabled. See the <a href=\"https://ipywidgets.readthedocs.io/en/stable/user_install.html\">Jupyter\n",
       "  Widgets Documentation</a> for setup instructions.\n",
       "</p>\n",
       "<p>\n",
       "  If you're reading this message in another frontend (for example, a static\n",
       "  rendering on GitHub or <a href=\"https://nbviewer.jupyter.org/\">NBViewer</a>),\n",
       "  it may mean that your frontend doesn't currently support widgets.\n",
       "</p>\n"
      ],
      "text/plain": [
       "Button(description='Run', style=ButtonStyle())"
      ]
     },
     "metadata": {},
     "output_type": "display_data"
    }
   ],
   "source": [
    "query = widgets.Text(value='how does pest result in death?')\n",
    "run_query = widgets.Button(description='Run')\n",
    "run_query.on_click(on_query)\n",
    "display(query, run_query)"
   ]
  },
  {
   "cell_type": "code",
   "execution_count": null,
   "metadata": {},
   "outputs": [],
   "source": []
  }
 ],
 "metadata": {
  "kernelspec": {
   "display_name": "Python 3",
   "language": "python",
   "name": "python3"
  },
  "language_info": {
   "codemirror_mode": {
    "name": "ipython",
    "version": 3
   },
   "file_extension": ".py",
   "mimetype": "text/x-python",
   "name": "python",
   "nbconvert_exporter": "python",
   "pygments_lexer": "ipython3",
   "version": "3.6.4"
  }
 },
 "nbformat": 4,
 "nbformat_minor": 2
}
